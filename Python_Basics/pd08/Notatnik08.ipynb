{
 "cells": [
  {
   "cell_type": "code",
   "execution_count": 13,
   "metadata": {},
   "outputs": [
    {
     "name": "stdout",
     "output_type": "stream",
     "text": [
      "Brzozowa\n",
      "Objekt klasy Adres\n",
      "Adres: Brzozowa\n"
     ]
    }
   ],
   "source": [
    "class Adres():\n",
    "    ''''''\n",
    "    \n",
    "    def __init__(self, ulica, numer, miasto, panstwo):\n",
    "        self.set_ulica(ulica)\n",
    "        self.set_numer(numer)\n",
    "        self.set_miasto(miasto)\n",
    "        self.set_panstwo(panstwo)\n",
    "        \n",
    "    def set_ulica(self, x):\n",
    "        if type(x) == str:\n",
    "            self.ulica = x\n",
    "        \n",
    "    def get_ulica(self):\n",
    "        return self.ulica\n",
    "    \n",
    "    def set_numer(self, x):\n",
    "        if type(x) == int:\n",
    "            self.numer = x\n",
    "        \n",
    "    def get_numer(self):\n",
    "        return self.numer\n",
    "    \n",
    "    def set_miasto(self, x):\n",
    "        if type(x) == str:\n",
    "            self.miasto = x\n",
    "        \n",
    "    def get_miasto(self):\n",
    "        return self.miasto\n",
    "    \n",
    "    def set_panstwo(self, x):\n",
    "        if type(x) == str:\n",
    "            self.panstwo = x\n",
    "        \n",
    "    def get_panstwo(self):\n",
    "        return self.panstwo\n",
    "    \n",
    "    def __str__(self):\n",
    "        return 'Objekt klasy Adres' + '\\nAdres: ' + self.get_ulica()\n",
    "    \n",
    "    def __repr__(self):\n",
    "        return str((self.get_ulica(), self.get_numer(), self.get_miasto(), self.get_panstwo()))\n",
    "    \n",
    "    \n",
    "Czlowiek1 = Adres('Brzozowa', 23, 'Kołobrzeg', 'Polska')\n",
    "print(Czlowiek1.get_ulica())\n",
    "print(Czlowiek1)"
   ]
  },
  {
   "cell_type": "code",
   "execution_count": 14,
   "metadata": {},
   "outputs": [
    {
     "data": {
      "text/plain": [
       "('Brzozowa', 23, 'Kołobrzeg', 'Polska')"
      ]
     },
     "execution_count": 14,
     "metadata": {},
     "output_type": "execute_result"
    }
   ],
   "source": [
    "Czlowiek1"
   ]
  },
  {
   "cell_type": "code",
   "execution_count": 18,
   "metadata": {},
   "outputs": [],
   "source": [
    "L = [1, 2, 3]"
   ]
  },
  {
   "cell_type": "code",
   "execution_count": 19,
   "metadata": {},
   "outputs": [],
   "source": [
    "# ---------------- dziedziczenie ----------------------"
   ]
  },
  {
   "cell_type": "code",
   "execution_count": 20,
   "metadata": {},
   "outputs": [],
   "source": [
    "# Czworobok: Kradrat, Prostokąt, Romb, Trapez, Równoleglobok"
   ]
  },
  {
   "cell_type": "code",
   "execution_count": 22,
   "metadata": {},
   "outputs": [
    {
     "data": {
      "text/plain": [
       "Czworobok o bokach: 1, 2, 3, 4\n",
       "O obwodzie: 10"
      ]
     },
     "execution_count": 22,
     "metadata": {},
     "output_type": "execute_result"
    }
   ],
   "source": [
    "class Czworobok():\n",
    "    def __init__(self, a, b, c, d):\n",
    "        self.a = a\n",
    "        self.b = b\n",
    "        self.c = c\n",
    "        self.d = d\n",
    "        \n",
    "    def obwod(self):\n",
    "        return self.a + self.b + self.c + self.d \n",
    "        \n",
    "    def __str__(self):\n",
    "        return f'Czworobok o bokach: {self.a}, {self.b}, {self.c}, {self.d}\\nO obwodzie: {self.obwod()}'\n",
    "    \n",
    "    def __repr__(self):\n",
    "        return self.__str__()\n",
    "    \n",
    "c = Czworobok(1,2,3,4)\n",
    "c"
   ]
  },
  {
   "cell_type": "code",
   "execution_count": 23,
   "metadata": {},
   "outputs": [
    {
     "data": {
      "text/plain": [
       "Czworobok o bokach: 1, 2, 3, 4\n",
       "O obwodzie: 10"
      ]
     },
     "execution_count": 23,
     "metadata": {},
     "output_type": "execute_result"
    }
   ],
   "source": [
    "class Rownoleglobok(Czworobok):\n",
    "    pass\n",
    "r = Rownoleglobok(1,2,3,4)\n",
    "r"
   ]
  },
  {
   "cell_type": "code",
   "execution_count": 24,
   "metadata": {},
   "outputs": [
    {
     "data": {
      "text/plain": [
       "Rownoleglobok o bokach 1, 2, o obwodzie 6 i polu 1.414213562373095"
      ]
     },
     "execution_count": 24,
     "metadata": {},
     "output_type": "execute_result"
    }
   ],
   "source": [
    "class Rownoleglobok(Czworobok):\n",
    "    def __init__(self, a, b, alfa):\n",
    "        Czworobok.__init__(self, a, b, a, b)\n",
    "        self.alfa = alfa\n",
    "        \n",
    "    def __str__(self):\n",
    "        return f'Rownoleglobok o bokach {self.a}, {self.b}, o obwodzie {self.obwod()} i polu {self.pole()}'\n",
    "    \n",
    "    def pole(self):\n",
    "        from math import sin, radians\n",
    "        return self.a * self.b * sin(radians(self.alfa))\n",
    "    \n",
    "r1 = Rownoleglobok(1, 2, 45)\n",
    "r1"
   ]
  },
  {
   "cell_type": "code",
   "execution_count": 34,
   "metadata": {},
   "outputs": [
    {
     "data": {
      "text/plain": [
       "Prostokat o bokach 1, 5, o obwodzie 12 i polu 5.0"
      ]
     },
     "execution_count": 34,
     "metadata": {},
     "output_type": "execute_result"
    }
   ],
   "source": [
    "class Prostokat(Rownoleglobok):\n",
    "    def __init__(self, a, b):\n",
    "        # Rownoleglobok.__init__(a, b, 90)\n",
    "        super().__init__(a, b, 90)\n",
    "        \n",
    "        \n",
    "    def __str__(self):\n",
    "        return f'Prostokat o bokach {self.a}, {self.b}, o obwodzie {self.obwod()} i polu {self.pole()}'\n",
    "    \n",
    "prostokat1 = Prostokat(1,5)\n",
    "prostokat1"
   ]
  },
  {
   "cell_type": "code",
   "execution_count": null,
   "metadata": {},
   "outputs": [],
   "source": [
    "#  Czworobok <- Rownoleglobok <- Prostokat"
   ]
  },
  {
   "cell_type": "code",
   "execution_count": 43,
   "metadata": {},
   "outputs": [
    {
     "data": {
      "text/plain": [
       "Kwadrat o boku 5, o obwodzie 20 i polu 25.0"
      ]
     },
     "execution_count": 43,
     "metadata": {},
     "output_type": "execute_result"
    }
   ],
   "source": [
    "class Kwadrat(Prostokat):\n",
    "    def __init__(self, a):\n",
    "        super().__init__(a, a)\n",
    "    \n",
    "    def __str__(self):\n",
    "        return f'{self.__class__.__name__} o boku {self.a}, o obwodzie {self.obwod()} i polu {self.pole()}'\n",
    "    \n",
    "k = Kwadrat(5)\n",
    "k"
   ]
  },
  {
   "cell_type": "code",
   "execution_count": 44,
   "metadata": {},
   "outputs": [],
   "source": [
    "#  Czworobok <- Rownoleglobok <- Prostokat <- Kwadrat"
   ]
  },
  {
   "cell_type": "code",
   "execution_count": null,
   "metadata": {},
   "outputs": [],
   "source": []
  },
  {
   "cell_type": "code",
   "execution_count": null,
   "metadata": {},
   "outputs": [],
   "source": []
  }
 ],
 "metadata": {
  "kernelspec": {
   "display_name": "Python 3",
   "language": "python",
   "name": "python3"
  },
  "language_info": {
   "codemirror_mode": {
    "name": "ipython",
    "version": 3
   },
   "file_extension": ".py",
   "mimetype": "text/x-python",
   "name": "python",
   "nbconvert_exporter": "python",
   "pygments_lexer": "ipython3",
   "version": "3.7.3"
  }
 },
 "nbformat": 4,
 "nbformat_minor": 2
}
