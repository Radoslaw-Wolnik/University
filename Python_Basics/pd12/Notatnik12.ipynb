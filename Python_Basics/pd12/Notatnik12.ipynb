{
 "cells": [
  {
   "cell_type": "markdown",
   "metadata": {},
   "source": [
    "## IS 2020 Algorytmy i programowanie\n",
    "### Praca domowa 7 [100 pkt]\n",
    "\n",
    "###  Dekoratory"
   ]
  },
  {
   "cell_type": "markdown",
   "metadata": {},
   "source": [
    "\n"
   ]
  },
  {
   "cell_type": "code",
   "execution_count": null,
   "metadata": {},
   "outputs": [],
   "source": []
  },
  {
   "cell_type": "markdown",
   "metadata": {},
   "source": [
    "### Zadanie 1 [30]\n",
    "\n",
    "Napisz funkcję określającą czy (i ile) funkcja kwadratowa $f(x)=ax^2+bx+c$ ma miejsc zerowych.\n",
    "Napisz dekorator:\n",
    "* uzupełnjający w/w funkjce o wyznaczenie sumy i iloczynu pierwastków funkcji kwatratowej (wzory Viete'a)\n",
    "* wyznaczający współrzędne wierzchołka\n",
    "* który wypisuje wynik funkcji tylko w godzinach 8-15, w innnych godzinach wypisuje informację \"Teraz mam przerwę\"\n",
    "* wyznaczjący wartość wielomaniu w punkcie $x+3$\n",
    "* wyznaczjący wartość bezwzględną otrzymanego wyniku czyli wyznaczjący wartość $\\mid W(x)\\mid$.\n",
    "* zaproponuj własny dekorator\n"
   ]
  },
  {
   "cell_type": "code",
   "execution_count": 1,
   "metadata": {},
   "outputs": [
    {
     "data": {
      "text/plain": [
       "2"
      ]
     },
     "execution_count": 1,
     "metadata": {},
     "output_type": "execute_result"
    }
   ],
   "source": [
    "def pierwiastki_funkcji (a,b,c):\n",
    "    '''\n",
    "    funkcja wypisuje ilosc pierwiastkow funkcji kwadratowej\n",
    "    we: (a, b, c) funkcja postaci {a}*x^2 + {b}*x + {c}\n",
    "    wy: int ilosc pierwiastkow (2 or 1 or 0)'''\n",
    "    delta = b**2 - 4*a*c\n",
    "    if delta >= 0:\n",
    "        if delta == 0:\n",
    "            return 1\n",
    "        else:\n",
    "            return 2\n",
    "    else:\n",
    "        return 0\n",
    "    \n",
    "pierwiastki_funkcji(2,0,-4)"
   ]
  },
  {
   "cell_type": "code",
   "execution_count": 33,
   "metadata": {},
   "outputs": [
    {
     "name": "stdout",
     "output_type": "stream",
     "text": [
      "Funkcja pierwiastki_funkcji\n",
      "Funkcja zwraca ilosc pierwiastkow funkcji: 2*x^2 + 0*x + -4\n",
      "Suma pierwiastkow: 0.0\n",
      "Iloczyn pierwiastkow: -2.0\n"
     ]
    },
    {
     "data": {
      "text/plain": [
       "2"
      ]
     },
     "execution_count": 33,
     "metadata": {},
     "output_type": "execute_result"
    }
   ],
   "source": [
    "def dek_vietta(funkcja):\n",
    "    def wrapper(*args):\n",
    "        if len(args) != 3:\n",
    "            raise 'Nieprawidlowa ilosc argumentow'\n",
    "        a, b, c = args\n",
    "        print(f'Funkcja {funkcja.__name__}')\n",
    "        print(f'Funkcja zwraca ilosc pierwiastkow funkcji: {a}*x^2 + {b}*x + {c}')\n",
    "        x = funkcja(a, b, c)\n",
    "        if x == 2:\n",
    "            print(f'Suma pierwiastkow: {-b/a}')\n",
    "            print(f'Iloczyn pierwiastkow: {c/a}')\n",
    "        if x == 1:\n",
    "            print(f'Suma pierwiastkow: {-b/a}')\n",
    "            print(f'Suma pierwiastkow: {(-b/a)**2}')\n",
    "        if x == 0:\n",
    "            print('To na pewno nie są liczby rzeczywiste')\n",
    "        return x\n",
    "    return wrapper\n",
    "\n",
    "\n",
    "@dek_vietta\n",
    "def pierwiastki_funkcji (a,b,c):\n",
    "    '''\n",
    "    funkcja wypisuje ilosc pierwiastkow funkcji kwadratowej\n",
    "    we: (a, b, c) funkcja postaci {a}*x^2 + {b}*x + {c}\n",
    "    wy: int ilosc pierwiastkow (2 or 1 or 0)'''\n",
    "    delta = b**2 - 4*a*c\n",
    "    if delta >= 0:\n",
    "        if delta == 0:\n",
    "            return 1\n",
    "        else:\n",
    "            return 2\n",
    "    else:\n",
    "        return 0\n",
    "    \n",
    "pierwiastki_funkcji(2,0,-4)"
   ]
  },
  {
   "cell_type": "code",
   "execution_count": 12,
   "metadata": {},
   "outputs": [
    {
     "name": "stdout",
     "output_type": "stream",
     "text": [
      "Funkcja pierwiastki_funkcji\n",
      "Funkcja zwraca ilosc pierwiastkow funkcji 1*x^2 + -4*x + 4\n",
      "Wierzholek funkcji: (2.0, 0.0)\n"
     ]
    },
    {
     "data": {
      "text/plain": [
       "1"
      ]
     },
     "execution_count": 12,
     "metadata": {},
     "output_type": "execute_result"
    }
   ],
   "source": [
    "def dek_wierzcholek(funkcja):\n",
    "    def wrapper(*args):\n",
    "        if len(args) != 3:\n",
    "            raise 'Nieprawidlowa ilosc argumentow'\n",
    "        a, b, c = args\n",
    "        print(f'Funkcja {funkcja.__name__}')\n",
    "        print(f'Funkcja zwraca ilosc pierwiastkow funkcji {a}*x^2 + {b}*x + {c}')\n",
    "        x = funkcja(a, b, c)\n",
    "        delta = b**2 - 4*a*c\n",
    "        print(f'Wierzholek funkcji: ({-b/2*a}, {-delta/4*a})')\n",
    "        return x\n",
    "    return wrapper\n",
    "\n",
    "\n",
    "@dek_wierzcholek\n",
    "def pierwiastki_funkcji (a,b,c):\n",
    "    '''\n",
    "    funkcja wypisuje ilosc pierwiastkow funkcji kwadratowej\n",
    "    we: (a, b, c) funkcja postaci {a}*x^2 + {b}*x + {c}\n",
    "    wy: int ilosc pierwiastkow (2 or 1 or 0)'''\n",
    "    delta = b**2 - 4*a*c\n",
    "    if delta >= 0:\n",
    "        if delta == 0:\n",
    "            return 1\n",
    "        else:\n",
    "            return 2\n",
    "    else:\n",
    "        return 0\n",
    "    \n",
    "pierwiastki_funkcji(1,-4,4)"
   ]
  },
  {
   "cell_type": "code",
   "execution_count": 13,
   "metadata": {},
   "outputs": [
    {
     "name": "stdout",
     "output_type": "stream",
     "text": [
      "Funkcja pierwiastki_funkcji\n",
      "Funkcja zwraca ilosc pierwiastkow funkcji w godzinach od 8 do 15: 2*x^2 + 2*x + 2\n"
     ]
    },
    {
     "data": {
      "text/plain": [
       "'Teraz mam przerwe'"
      ]
     },
     "execution_count": 13,
     "metadata": {},
     "output_type": "execute_result"
    }
   ],
   "source": [
    "from datetime import datetime\n",
    "import pytz\n",
    "\n",
    "def dek_godziny_pracy(funkcja):\n",
    "    def wrapper(*args):\n",
    "        if len(args) != 3:\n",
    "            raise 'Nieprawidlowa ilosc argumentow'\n",
    "        a, b, c = args\n",
    "        print(f'Funkcja {funkcja.__name__}')\n",
    "        print(f'Funkcja zwraca ilosc pierwiastkow funkcji w godzinach od 8 do 15: {a}*x^2 + {b}*x + {c}')\n",
    "        time_pl = pytz.timezone('Europe/Warsaw')\n",
    "        if 8 <= datetime.now(time_pl).hour < 15:\n",
    "            return funkcja(a, b, c)\n",
    "        else:\n",
    "            return 'Teraz mam przerwe'\n",
    "    return wrapper\n",
    "\n",
    "\n",
    "@dek_godziny_pracy\n",
    "def pierwiastki_funkcji (a,b,c):\n",
    "    '''\n",
    "    funkcja wypisuje ilosc pierwiastkow funkcji kwadratowej\n",
    "    we: (a, b, c) funkcja postaci {a}*x^2 + {b}*x + {c}\n",
    "    wy: int ilosc pierwiastkow (2 or 1 or 0)'''\n",
    "    delta = b**2 - 4*a*c\n",
    "    if delta >= 0:\n",
    "        if delta == 0:\n",
    "            return 1\n",
    "        else:\n",
    "            return 2\n",
    "    else:\n",
    "        return 0\n",
    "    \n",
    "pierwiastki_funkcji(2,2,2)"
   ]
  },
  {
   "cell_type": "code",
   "execution_count": 14,
   "metadata": {},
   "outputs": [
    {
     "name": "stdout",
     "output_type": "stream",
     "text": [
      "Funkcja pierwiastki_funkcji\n",
      "Funkcja zwraca ilosc pierwiastkow funkcji 1*x^2 + -4*x + 4\n",
      "Wartosc funkcji w punkcjie (x+3) = 1*x^2 + 6*x + 9\n"
     ]
    },
    {
     "data": {
      "text/plain": [
       "1"
      ]
     },
     "execution_count": 14,
     "metadata": {},
     "output_type": "execute_result"
    }
   ],
   "source": [
    "# a*(x+3)^2 + b*(x+3) + c*(x+3) = a*(x^2 + 6x + 9) + b*(x+3) + c*(x+3) = ax^2 + 6ax +bx + cx + 9a + 3b + 3c\n",
    "# a = a ; b = 6a + b + c ; c = 9a + 3b + 3c\n",
    "def dek_wartosc(funkcja):\n",
    "    def wrapper(*args):\n",
    "        if len(args) != 3:\n",
    "            raise 'Nieprawidlowa ilosc argumentow'\n",
    "        a, b, c = args\n",
    "        print(f'Funkcja {funkcja.__name__}')\n",
    "        print(f'Funkcja zwraca ilosc pierwiastkow funkcji {a}*x^2 + {b}*x + {c}')\n",
    "        print('Wartosc funkcji w punkcjie (x+3) = ', end='')\n",
    "        print(f'{a}*x^2 + {6*a+b+c}*x + {9*a+3*b+3*c}')\n",
    "        return funkcja(a, b, c)\n",
    "    return wrapper\n",
    "\n",
    "\n",
    "@dek_wartosc\n",
    "def pierwiastki_funkcji (a,b,c):\n",
    "    '''\n",
    "    funkcja wypisuje ilosc pierwiastkow funkcji kwadratowej\n",
    "    we: (a, b, c) funkcja postaci {a}*x^2 + {b}*x + {c}\n",
    "    wy: int ilosc pierwiastkow (2 or 1 or 0)'''\n",
    "    delta = b**2 - 4*a*c\n",
    "    if delta >= 0:\n",
    "        if delta == 0:\n",
    "            return 1\n",
    "        else:\n",
    "            return 2\n",
    "    else:\n",
    "        return 0\n",
    "    \n",
    "pierwiastki_funkcji(1,-4,4)"
   ]
  },
  {
   "cell_type": "code",
   "execution_count": 15,
   "metadata": {},
   "outputs": [
    {
     "name": "stdout",
     "output_type": "stream",
     "text": [
      "Funkcja pierwiastki_funkcji\n",
      "Funkcja zwraca ilosc pierwiastkow funkcji 2*x^2 + 0*x + -4\n",
      "Wartosc bezwzgledna funkcji dla x = 2 wynosi : 4\n",
      "\n",
      "Funkcja pierwiastki_funkcji\n",
      "Funkcja zwraca ilosc pierwiastkow funkcji 2*x^2 + 0*x + -4\n",
      "Wartosc bezwzgledna funkcji dla x = 0 wynosi : 4\n"
     ]
    },
    {
     "data": {
      "text/plain": [
       "2"
      ]
     },
     "execution_count": 15,
     "metadata": {},
     "output_type": "execute_result"
    }
   ],
   "source": [
    "def dek_wartosc_bezwzgledna_w_pkt(funkcja):\n",
    "    def wrapper(*args):\n",
    "        if len(args) != 4:\n",
    "            raise 'Nieprawidlowa ilosc argumentow'\n",
    "        a, b, c, x = args\n",
    "        print(f'Funkcja {funkcja.__name__}')\n",
    "        print(f'Funkcja zwraca ilosc pierwiastkow funkcji {a}*x^2 + {b}*x + {c}')\n",
    "        y = x**2*a + x*b + c\n",
    "        if y < 0:\n",
    "            y = -y\n",
    "        print(f'Wartosc bezwzgledna funkcji dla x = {x} wynosi : {y}')\n",
    "        return funkcja(a, b, c)\n",
    "    return wrapper\n",
    "\n",
    "\n",
    "@dek_wartosc_bezwzgledna_w_pkt\n",
    "def pierwiastki_funkcji (a,b,c):\n",
    "    '''\n",
    "    funkcja wypisuje ilosc pierwiastkow funkcji kwadratowej\n",
    "    we: (a, b, c) funkcja postaci {a}*x^2 + {b}*x + {c}\n",
    "    wy: int ilosc pierwiastkow (2 or 1 or 0)'''\n",
    "    delta = b**2 - 4*a*c\n",
    "    if delta >= 0:\n",
    "        if delta == 0:\n",
    "            return 1\n",
    "        else:\n",
    "            return 2\n",
    "    else:\n",
    "        return 0\n",
    "    \n",
    "pierwiastki_funkcji(2, 0, -4, 2)\n",
    "print()\n",
    "pierwiastki_funkcji(2, 0, -4, 0)"
   ]
  },
  {
   "cell_type": "code",
   "execution_count": 16,
   "metadata": {},
   "outputs": [
    {
     "name": "stdout",
     "output_type": "stream",
     "text": [
      "Funkcja pierwiastki_funkcji\n",
      "Funkcja zwraca ilosc pierwiastkow funkcji 1*x^2 + -4*x + 4\n",
      "Wzor pochodnej jednokrotnej: 2*x + -4\n",
      "Wzor pochodnej dwukrotnej: 2\n"
     ]
    },
    {
     "data": {
      "text/plain": [
       "1"
      ]
     },
     "execution_count": 16,
     "metadata": {},
     "output_type": "execute_result"
    }
   ],
   "source": [
    "# wzor pochodnej jednokrotnej i dwukrotnej\n",
    "def dek_pochodne(funkcja):\n",
    "    def wrapper(*args):\n",
    "        if len(args) != 3:\n",
    "            raise 'Nieprawidlowa ilosc argumentow'\n",
    "        a, b, c = args\n",
    "        print(f'Funkcja {funkcja.__name__}')\n",
    "        print(f'Funkcja zwraca ilosc pierwiastkow funkcji {a}*x^2 + {b}*x + {c}')\n",
    "        a = a*2\n",
    "        print(f'Wzor pochodnej jednokrotnej: {a}*x + {b}')\n",
    "        print(f'Wzor pochodnej dwukrotnej: {a}')\n",
    "        return funkcja(args[0], args[1], args[2])\n",
    "    return wrapper\n",
    "\n",
    "\n",
    "@dek_pochodne\n",
    "def pierwiastki_funkcji (a,b,c):\n",
    "    '''\n",
    "    funkcja wypisuje ilosc pierwiastkow funkcji kwadratowej\n",
    "    we: (a, b, c) funkcja postaci {a}*x^2 + {b}*x + {c}\n",
    "    wy: int ilosc pierwiastkow (2 or 1 or 0)'''\n",
    "    delta = b**2 - 4*a*c\n",
    "    if delta >= 0:\n",
    "        if delta == 0:\n",
    "            return 1\n",
    "        else:\n",
    "            return 2\n",
    "    else:\n",
    "        return 0\n",
    "    \n",
    "pierwiastki_funkcji(1,-4,4)"
   ]
  },
  {
   "cell_type": "markdown",
   "metadata": {},
   "source": [
    "### Zadanie 2 [30]\n",
    "Napisz klasy dekorujące do zadania 1. "
   ]
  },
  {
   "cell_type": "code",
   "execution_count": 36,
   "metadata": {},
   "outputs": [
    {
     "name": "stdout",
     "output_type": "stream",
     "text": [
      "Funkcja pierwiastki_funkcji\n",
      "Funkcja zwraca ilosc pierwiastkow funkcji: 2*x^2 + 0*x + -4\n",
      "Suma pierwiastkow: 0.0\n",
      "Iloczyn pierwiastkow: -2.0\n"
     ]
    },
    {
     "data": {
      "text/plain": [
       "2"
      ]
     },
     "execution_count": 36,
     "metadata": {},
     "output_type": "execute_result"
    }
   ],
   "source": [
    "class Dek_vietta:    \n",
    "    def __init__(self, funkcja):\n",
    "        self.fun = funkcja\n",
    "        \n",
    "    def __call__(self, *args):\n",
    "        if len(args) != 3:\n",
    "            raise 'Nieprawidlowa ilosc argumentow'\n",
    "        a, b, c = args\n",
    "        print(f'Funkcja {self.fun.__name__}')\n",
    "        print(f'Funkcja zwraca ilosc pierwiastkow funkcji: {a}*x^2 + {b}*x + {c}')\n",
    "        x = self.fun(a, b, c)\n",
    "        if x == 2:\n",
    "            print(f'Suma pierwiastkow: {-b/a}')\n",
    "            print(f'Iloczyn pierwiastkow: {c/a}')\n",
    "        if x == 1:\n",
    "            print(f'Suma pierwiastkow: {-b/a}')\n",
    "            print(f'Suma pierwiastkow: {(-b/a)**2}')\n",
    "        if x == 0:\n",
    "            print('To na pewno nie są liczby rzeczywiste')\n",
    "        return x\n",
    "\n",
    "\n",
    "@Dek_vietta\n",
    "def pierwiastki_funkcji (a,b,c):\n",
    "    '''\n",
    "    funkcja wypisuje ilosc pierwiastkow funkcji kwadratowej\n",
    "    we: (a, b, c) funkcja postaci {a}*x^2 + {b}*x + {c}\n",
    "    wy: int ilosc pierwiastkow (2 or 1 or 0)'''\n",
    "    delta = b**2 - 4*a*c\n",
    "    if delta >= 0:\n",
    "        if delta == 0:\n",
    "            return 1\n",
    "        else:\n",
    "            return 2\n",
    "    else:\n",
    "        return 0\n",
    "    \n",
    "pierwiastki_funkcji(2,0,-4)"
   ]
  },
  {
   "cell_type": "code",
   "execution_count": 21,
   "metadata": {},
   "outputs": [
    {
     "name": "stdout",
     "output_type": "stream",
     "text": [
      "Funkcja pierwiastki_funkcji\n",
      "Funkcja zwraca ilosc pierwiastkow funkcji: 1*x^2 + -4*x + 4\n",
      "Wierzcholek funkcji: (2.0, 0.0)\n"
     ]
    },
    {
     "data": {
      "text/plain": [
       "1"
      ]
     },
     "execution_count": 21,
     "metadata": {},
     "output_type": "execute_result"
    }
   ],
   "source": [
    "class Dek_wierzcholek:    \n",
    "    def __init__(self, funkcja):\n",
    "        self.fun = funkcja\n",
    "        \n",
    "    def __call__(self, *args):\n",
    "        if len(args) != 3:\n",
    "            raise 'Nieprawidlowa ilosc argumentow'\n",
    "        a, b, c = args\n",
    "        print(f'Funkcja {self.fun.__name__}')\n",
    "        print(f'Funkcja zwraca ilosc pierwiastkow funkcji: {a}*x^2 + {b}*x + {c}')\n",
    "        x = self.fun(a, b, c)\n",
    "        delta = b**2 - 4*a*c\n",
    "        print(f'Wierzcholek funkcji: ({-b/2*a}, {-delta/4*a})')\n",
    "        return x\n",
    "\n",
    "\n",
    "@Dek_wierzcholek\n",
    "def pierwiastki_funkcji (a,b,c):\n",
    "    '''\n",
    "    funkcja wypisuje ilosc pierwiastkow funkcji kwadratowej\n",
    "    we: (a, b, c) funkcja postaci {a}*x^2 + {b}*x + {c}\n",
    "    wy: int ilosc pierwiastkow (2 or 1 or 0)'''\n",
    "    delta = b**2 - 4*a*c\n",
    "    if delta >= 0:\n",
    "        if delta == 0:\n",
    "            return 1\n",
    "        else:\n",
    "            return 2\n",
    "    else:\n",
    "        return 0\n",
    "    \n",
    "pierwiastki_funkcji(1,-4,4)"
   ]
  },
  {
   "cell_type": "code",
   "execution_count": 22,
   "metadata": {},
   "outputs": [
    {
     "name": "stdout",
     "output_type": "stream",
     "text": [
      "Funkcja pierwiastki_funkcji\n",
      "Funkcja zwraca ilosc pierwiastkow funkcji w godzinach od 8 do 15: 2*x^2 + 2*x + 2\n"
     ]
    },
    {
     "data": {
      "text/plain": [
       "'Teraz mam przerwe'"
      ]
     },
     "execution_count": 22,
     "metadata": {},
     "output_type": "execute_result"
    }
   ],
   "source": [
    "from datetime import datetime\n",
    "import pytz\n",
    "\n",
    "class Dek_godziny_pracy:  \n",
    "    def __init__(self, funkcja):\n",
    "        self.fun = funkcja\n",
    "        \n",
    "    def __call__(self, *args):\n",
    "        if len(args) != 3:\n",
    "            raise 'Nieprawidlowa ilosc argumentow'\n",
    "        a, b, c = args\n",
    "        print(f'Funkcja {self.fun.__name__}')\n",
    "        print(f'Funkcja zwraca ilosc pierwiastkow funkcji w godzinach od 8 do 15: {a}*x^2 + {b}*x + {c}')\n",
    "        time_pl = pytz.timezone('Europe/Warsaw')\n",
    "        if 8 <= datetime.now(time_pl).hour < 15:\n",
    "            return self.fun(a, b, c)\n",
    "        else:\n",
    "            return 'Teraz mam przerwe'\n",
    "\n",
    "\n",
    "@Dek_godziny_pracy\n",
    "def pierwiastki_funkcji (a,b,c):\n",
    "    '''\n",
    "    funkcja wypisuje ilosc pierwiastkow funkcji kwadratowej\n",
    "    we: (a, b, c) funkcja postaci {a}*x^2 + {b}*x + {c}\n",
    "    wy: int ilosc pierwiastkow (2 or 1 or 0)'''\n",
    "    delta = b**2 - 4*a*c\n",
    "    if delta >= 0:\n",
    "        if delta == 0:\n",
    "            return 1\n",
    "        else:\n",
    "            return 2\n",
    "    else:\n",
    "        return 0\n",
    "    \n",
    "pierwiastki_funkcji(2,2,2)"
   ]
  },
  {
   "cell_type": "code",
   "execution_count": 23,
   "metadata": {},
   "outputs": [
    {
     "name": "stdout",
     "output_type": "stream",
     "text": [
      "Funkcja pierwiastki_funkcji\n",
      "Funkcja zwraca ilosc pierwiastkow funkcji 1*x^2 + -4*x + 4\n",
      "Wartosc funkcji w punkcjie (x+3) = 1*x^2 + 6*x + 9\n"
     ]
    },
    {
     "data": {
      "text/plain": [
       "1"
      ]
     },
     "execution_count": 23,
     "metadata": {},
     "output_type": "execute_result"
    }
   ],
   "source": [
    "# a*(x+3)^2 + b*(x+3) + c*(x+3) = a*(x^2 + 6x + 9) + b*(x+3) + c*(x+3) = ax^2 + 6ax +bx + cx + 9a + 3b + 3c\n",
    "# a = a ; b = 6a + b + c ; c = 9a + 3b + 3c\n",
    "class Dek_wartosc:    \n",
    "    def __init__(self, funkcja):\n",
    "        self.fun = funkcja\n",
    "        \n",
    "    def __call__(self, *args):\n",
    "        if len(args) != 3:\n",
    "            raise 'Nieprawidlowa ilosc argumentow'\n",
    "        a, b, c = args\n",
    "        print(f'Funkcja {self.fun.__name__}')\n",
    "        print(f'Funkcja zwraca ilosc pierwiastkow funkcji {a}*x^2 + {b}*x + {c}')\n",
    "        print('Wartosc funkcji w punkcjie (x+3) = ', end='')\n",
    "        print(f'{a}*x^2 + {6*a+b+c}*x + {9*a+3*b+3*c}')\n",
    "        return self.fun(a, b, c)\n",
    "\n",
    "@Dek_wartosc\n",
    "def pierwiastki_funkcji (a,b,c):\n",
    "    '''\n",
    "    funkcja wypisuje ilosc pierwiastkow funkcji kwadratowej\n",
    "    we: (a, b, c) funkcja postaci {a}*x^2 + {b}*x + {c}\n",
    "    wy: int ilosc pierwiastkow (2 or 1 or 0)'''\n",
    "    delta = b**2 - 4*a*c\n",
    "    if delta >= 0:\n",
    "        if delta == 0:\n",
    "            return 1\n",
    "        else:\n",
    "            return 2\n",
    "    else:\n",
    "        return 0\n",
    "    \n",
    "pierwiastki_funkcji(1,-4,4)"
   ]
  },
  {
   "cell_type": "code",
   "execution_count": 24,
   "metadata": {},
   "outputs": [
    {
     "name": "stdout",
     "output_type": "stream",
     "text": [
      "Funkcja pierwiastki_funkcji\n",
      "Funkcja zwraca ilosc pierwiastkow funkcji: 2*x^2 + 0*x + -4\n",
      "Wartosc bezwzgledna funkcji dla x = 2 wynosi : 4\n",
      "\n",
      "Funkcja pierwiastki_funkcji\n",
      "Funkcja zwraca ilosc pierwiastkow funkcji: 2*x^2 + 0*x + -4\n",
      "Wartosc bezwzgledna funkcji dla x = 0 wynosi : 4\n"
     ]
    },
    {
     "data": {
      "text/plain": [
       "2"
      ]
     },
     "execution_count": 24,
     "metadata": {},
     "output_type": "execute_result"
    }
   ],
   "source": [
    "class Dek_wartosc_bezwzgledna_w_pkt:    \n",
    "    def __init__(self, funkcja):\n",
    "        self.fun = funkcja\n",
    "        \n",
    "    def __call__(self, *args):\n",
    "        if len(args) != 4:\n",
    "            raise 'Nieprawidlowa ilosc argumentow'\n",
    "        a, b, c, x = args\n",
    "        print(f'Funkcja {self.fun.__name__}')\n",
    "        print(f'Funkcja zwraca ilosc pierwiastkow funkcji: {a}*x^2 + {b}*x + {c}')\n",
    "        y = x**2*a + x*b + c\n",
    "        if y < 0:\n",
    "            y = -y\n",
    "        print(f'Wartosc bezwzgledna funkcji dla x = {x} wynosi : {y}')\n",
    "        return self.fun(a, b, c)\n",
    "\n",
    "\n",
    "@Dek_wartosc_bezwzgledna_w_pkt\n",
    "def pierwiastki_funkcji (a,b,c):\n",
    "    '''\n",
    "    funkcja wypisuje ilosc pierwiastkow funkcji kwadratowej\n",
    "    we: (a, b, c) funkcja postaci {a}*x^2 + {b}*x + {c}\n",
    "    wy: int ilosc pierwiastkow (2 or 1 or 0)'''\n",
    "    delta = b**2 - 4*a*c\n",
    "    if delta >= 0:\n",
    "        if delta == 0:\n",
    "            return 1\n",
    "        else:\n",
    "            return 2\n",
    "    else:\n",
    "        return 0\n",
    "    \n",
    "pierwiastki_funkcji(2, 0, -4, 2)\n",
    "print()\n",
    "pierwiastki_funkcji(2, 0, -4, 0)"
   ]
  },
  {
   "cell_type": "code",
   "execution_count": 25,
   "metadata": {},
   "outputs": [
    {
     "name": "stdout",
     "output_type": "stream",
     "text": [
      "Funkcja pierwiastki_funkcji\n",
      "Funkcja zwraca ilosc pierwiastkow funkcji: 1*x^2 + -4*x + 4\n",
      "Wzor pochodnej jednokrotnej: 2*x + -4\n",
      "Wzor pochodnej dwukrotnej: 2\n"
     ]
    },
    {
     "data": {
      "text/plain": [
       "1"
      ]
     },
     "execution_count": 25,
     "metadata": {},
     "output_type": "execute_result"
    }
   ],
   "source": [
    "# wzor pochodnej jednokrotnej i dwukrotnej\n",
    "class Dek_pochodne:    \n",
    "    def __init__(self, funkcja):\n",
    "        self.fun = funkcja\n",
    "        \n",
    "    def __call__(self, *args):\n",
    "        if len(args) != 3:\n",
    "            raise 'Nieprawidlowa ilosc argumentow'\n",
    "        a, b, c = args\n",
    "        print(f'Funkcja {self.fun.__name__}')\n",
    "        print(f'Funkcja zwraca ilosc pierwiastkow funkcji: {a}*x^2 + {b}*x + {c}')\n",
    "        a = a*2\n",
    "        print(f'Wzor pochodnej jednokrotnej: {a}*x + {b}')\n",
    "        print(f'Wzor pochodnej dwukrotnej: {a}')\n",
    "        return self.fun(args[0], args[1], args[2])\n",
    "\n",
    "\n",
    "@Dek_pochodne\n",
    "def pierwiastki_funkcji (a,b,c):\n",
    "    '''\n",
    "    funkcja wypisuje ilosc pierwiastkow funkcji kwadratowej\n",
    "    we: (a, b, c) funkcja postaci {a}*x^2 + {b}*x + {c}\n",
    "    wy: int ilosc pierwiastkow (2 or 1 or 0)'''\n",
    "    delta = b**2 - 4*a*c\n",
    "    if delta >= 0:\n",
    "        if delta == 0:\n",
    "            return 1\n",
    "        else:\n",
    "            return 2\n",
    "    else:\n",
    "        return 0\n",
    "    \n",
    "pierwiastki_funkcji(1,-4,4)"
   ]
  },
  {
   "cell_type": "markdown",
   "metadata": {},
   "source": [
    "### Zadanie 3 [20]\n",
    "Przeanalizuj poniższy docstring. Dopisz brakujące w nim fragmenty. Napisz analogiczny docstring dla funkcji z zadania 1."
   ]
  },
  {
   "cell_type": "code",
   "execution_count": 26,
   "metadata": {},
   "outputs": [
    {
     "data": {
      "text/plain": [
       "6"
      ]
     },
     "execution_count": 26,
     "metadata": {},
     "output_type": "execute_result"
    }
   ],
   "source": [
    "def factorial(n):\n",
    "    \"\"\"Return the factorial of n, an exact integer >= 0.\n",
    "    WE: n, type int                                         # dopisalem: n, type int\n",
    "    WY: factorial of n                                      # dopisalem: factorial of n\n",
    "    >>> [factorial(n) for n in range(6)]\n",
    "    [1, 1, 2, 6, 24, 120]\n",
    "    >>> factorial(30)\n",
    "    265252859812191058636308480000000\n",
    "    >>> factorial(-1)\n",
    "    Traceback (most recent call last):\n",
    "    ...\n",
    "    ValueError: n must be >= 0\n",
    "    >>> factorial(30.1)\n",
    "    Traceback (most recent call last):\n",
    "    ...\n",
    "    ValueError: n must be exact integer\n",
    "    >>> factorial(30.0)\n",
    "    265252859812191058636308480000000\n",
    "    >>> factorial(1e100)\n",
    "    Traceback (most recent call last):\n",
    "    ...\n",
    "    OverflowError: n too large\n",
    "    \"\"\"\n",
    "\n",
    "    import math\n",
    "    if not n >= 0:\n",
    "        raise ValueError(\"n must be >= 0\")\n",
    "    if math.floor(n) != n:\n",
    "        raise ValueError(\"n must be exact integer\")\n",
    "    if n+1 == n:  # catch a value like 1e300\n",
    "        raise OverflowError(\"n too large\")\n",
    "    result = 1\n",
    "    factor = 2\n",
    "    while factor <= n:\n",
    "        result *= factor\n",
    "        factor += 1\n",
    "    return result\n",
    "\n",
    "\n",
    "factorial(3)"
   ]
  },
  {
   "cell_type": "code",
   "execution_count": 27,
   "metadata": {},
   "outputs": [
    {
     "ename": "TypeError",
     "evalue": "testmod: module required; <function factorial at 0x7fcfc410d840>",
     "output_type": "error",
     "traceback": [
      "\u001b[0;31m---------------------------------------------------------------------------\u001b[0m",
      "\u001b[0;31mTypeError\u001b[0m                                 Traceback (most recent call last)",
      "\u001b[0;32m<ipython-input-27-b3005543e744>\u001b[0m in \u001b[0;36m<module>\u001b[0;34m\u001b[0m\n\u001b[1;32m      1\u001b[0m \u001b[0;32mimport\u001b[0m \u001b[0mdoctest\u001b[0m\u001b[0;34m\u001b[0m\u001b[0;34m\u001b[0m\u001b[0m\n\u001b[0;32m----> 2\u001b[0;31m \u001b[0mdoctest\u001b[0m\u001b[0;34m.\u001b[0m\u001b[0mtestmod\u001b[0m\u001b[0;34m(\u001b[0m\u001b[0mfactorial\u001b[0m\u001b[0;34m)\u001b[0m\u001b[0;34m\u001b[0m\u001b[0;34m\u001b[0m\u001b[0m\n\u001b[0m",
      "\u001b[0;32m/opt/conda/lib/python3.7/doctest.py\u001b[0m in \u001b[0;36mtestmod\u001b[0;34m(m, name, globs, verbose, report, optionflags, extraglobs, raise_on_error, exclude_empty)\u001b[0m\n\u001b[1;32m   1931\u001b[0m     \u001b[0;31m# Check that we were actually given a module.\u001b[0m\u001b[0;34m\u001b[0m\u001b[0;34m\u001b[0m\u001b[0;34m\u001b[0m\u001b[0m\n\u001b[1;32m   1932\u001b[0m     \u001b[0;32mif\u001b[0m \u001b[0;32mnot\u001b[0m \u001b[0minspect\u001b[0m\u001b[0;34m.\u001b[0m\u001b[0mismodule\u001b[0m\u001b[0;34m(\u001b[0m\u001b[0mm\u001b[0m\u001b[0;34m)\u001b[0m\u001b[0;34m:\u001b[0m\u001b[0;34m\u001b[0m\u001b[0;34m\u001b[0m\u001b[0m\n\u001b[0;32m-> 1933\u001b[0;31m         \u001b[0;32mraise\u001b[0m \u001b[0mTypeError\u001b[0m\u001b[0;34m(\u001b[0m\u001b[0;34m\"testmod: module required; %r\"\u001b[0m \u001b[0;34m%\u001b[0m \u001b[0;34m(\u001b[0m\u001b[0mm\u001b[0m\u001b[0;34m,\u001b[0m\u001b[0;34m)\u001b[0m\u001b[0;34m)\u001b[0m\u001b[0;34m\u001b[0m\u001b[0;34m\u001b[0m\u001b[0m\n\u001b[0m\u001b[1;32m   1934\u001b[0m \u001b[0;34m\u001b[0m\u001b[0m\n\u001b[1;32m   1935\u001b[0m     \u001b[0;31m# If no name was given, then use the module's name.\u001b[0m\u001b[0;34m\u001b[0m\u001b[0;34m\u001b[0m\u001b[0;34m\u001b[0m\u001b[0m\n",
      "\u001b[0;31mTypeError\u001b[0m: testmod: module required; <function factorial at 0x7fcfc410d840>"
     ]
    }
   ],
   "source": [
    "import doctest\n",
    "doctest.testmod(factorial)"
   ]
  },
  {
   "cell_type": "code",
   "execution_count": null,
   "metadata": {},
   "outputs": [],
   "source": [
    "\n"
   ]
  },
  {
   "cell_type": "code",
   "execution_count": null,
   "metadata": {},
   "outputs": [],
   "source": []
  },
  {
   "cell_type": "markdown",
   "metadata": {},
   "source": [
    "### Zadanie 4 [20]\n",
    "Klasę `Robot` uzupełnij o settry i gettery z wykorzystaniem dekoratorów (pamiętaj sprawdzać czy dana wartość jest poprawną wartością pod wzgledem typu i innych wymagań klasy).\n"
   ]
  },
  {
   "cell_type": "code",
   "execution_count": 28,
   "metadata": {},
   "outputs": [
    {
     "name": "stdout",
     "output_type": "stream",
     "text": [
      "Data: 2021-06-01\n",
      "Godzina: 20:23:06\n",
      "Objekt typu Robot zostal powolany do zycia\n",
      "Nazwa: Krys01\n",
      "\n",
      "\n",
      "Funkcja: __str__\n",
      "Nazwa robota: Krys01\n",
      "Miejsce robota: [5, 0]\n",
      "Moc robota wynosi: 9\n",
      "\n",
      "\n",
      "Funkcja: __str__\n",
      "Nazwa robota: Krys01\n",
      "Miejsce robota: [5, 5]\n",
      "Moc robota wynosi: 4\n",
      "\n",
      "\n",
      "Funkcja: __str__\n",
      "Nazwa robota: Krys01\n",
      "Miejsce robota: [5, 0]\n",
      "Moc robota wynosi: 6\n",
      "\n",
      "\n",
      "Data: 2021-06-01\n",
      "Godzina: 20:23:06\n",
      "Objekt typu Robot zostal powolany do zycia\n",
      "Nazwa: Krys02\n",
      "\n",
      "\n",
      "Funkcja: __str__\n",
      "Nazwa robota: Krys02\n",
      "Miejsce robota: [5, 5]\n",
      "Moc robota wynosi: 9\n",
      "\n"
     ]
    }
   ],
   "source": [
    "import datetime\n",
    "import pytz\n",
    "\n",
    "class Robot():\n",
    "    ''' klasa Robot\n",
    "    atrybuty:\n",
    "        nazwa - nazwa robota\n",
    "        miejsce - miejsce w ktorym znajduje sie robot\n",
    "        moc - ilosc energii jaka posiada robot \n",
    "        start - podany przez użytkownika, domyślnie (0,0)\n",
    "    funkcje:\n",
    "        get_nazwa\n",
    "        get_miejsce\n",
    "        get_moc\n",
    "        up\n",
    "        left \n",
    "        __str__\n",
    "    '''\n",
    "    \n",
    "    def init_dek(funkcja):\n",
    "        def wrapper(*args):\n",
    "            print(f'Data: {datetime.date.today()}')\n",
    "            time_pl = pytz.timezone('Europe/Warsaw')\n",
    "            print(f'Godzina: {(datetime.datetime.now(time_pl)).strftime(\"%H:%M:%S\")}')\n",
    "            print(f'Objekt typu {args[0].__class__.__name__} zostal powolany do zycia')\n",
    "            print(f'Nazwa: {args[1]}\\n\\n')\n",
    "            if len(args) == 2:\n",
    "                return funkcja(args[0], args[1])\n",
    "            elif len(args) == 3:\n",
    "                return funkcja(args[0], args[1], args[2])\n",
    "        return wrapper\n",
    "            \n",
    "    @init_dek        \n",
    "    def __init__(self, nazwa, start = (0,0)):\n",
    "        self.set_nazwa(nazwa)\n",
    "        self.start(start)\n",
    "        self.set_moc(9)\n",
    "        \n",
    "    def set_nazwa(self, nazwa):\n",
    "        assert isinstance(nazwa, str), 'Name of robot should be string type'\n",
    "        self.nazwa = nazwa\n",
    "        \n",
    "    def get_nazwa(self):\n",
    "        return self.nazwa\n",
    "    \n",
    "    def start(self, x): # nie zużywa energii \n",
    "        assert isinstance(x, tuple), 'x type should be tuple'\n",
    "        assert len(x) == 2, 'len of x should be 2'\n",
    "        assert isinstance(x[0], int), 'x[0] type should be int'\n",
    "        assert isinstance(x[1], int), 'x[1] type should be int'\n",
    "        self.miejsce = [x[0],x[1]]\n",
    "        while self.miejsce[0] > 7:\n",
    "            self.miejsce[0] - 8\n",
    "        while self.miejsce[1] > 7:\n",
    "            self.miejsce[1] - 8\n",
    "    \n",
    "    def set_miejsce(self, x):\n",
    "        assert isinstance(x, tuple), 'x type should be tuple'\n",
    "        assert len(x) == 2, 'len of x should be 2'\n",
    "        assert isinstance(x[0], int), 'x[0] type should be int'\n",
    "        assert isinstance(x[1], int), 'x[1] type should be int'\n",
    "        if x[0] != 0:\n",
    "            self.miejsce[0] += x[0]\n",
    "            self.dodaj_moc(-x[0])\n",
    "            while self.miejsce[0] > 7:\n",
    "                self.miejsce[0] -= 8\n",
    "        if x[1] != 0:\n",
    "            self.miejsce[1] += x[1]\n",
    "            self.dodaj_moc(-x[1])\n",
    "            while self.miejsce[1] > 7:\n",
    "                self.miejsce[1] -= 8\n",
    "        self.sprawdz_moc()\n",
    "        \n",
    "    def get_miejsce(self):\n",
    "        return self.miejsce\n",
    "    \n",
    "    def set_moc(self, x):\n",
    "        assert isinstance(x, int), 'moc should be int'\n",
    "        self.moc = x\n",
    "    \n",
    "    def sprawdz_moc(self):\n",
    "        if self.moc <= 0:\n",
    "            print('moc wynosi zero')\n",
    "    \n",
    "    def get_moc(self):\n",
    "        return self.moc\n",
    "    \n",
    "    def dodaj_moc(self, x):\n",
    "        self.moc += x\n",
    "    \n",
    "    def str_dec(funkcja):\n",
    "        def wrapper(objekt):\n",
    "            print(f'Funkcja: {funkcja.__name__}')\n",
    "            x = objekt.get_nazwa()\n",
    "            name = f'Nazwa robota: {x}\\n'\n",
    "            x = objekt.get_miejsce()\n",
    "            miejsce = f'Miejsce robota: {x}\\n'\n",
    "            x = objekt.get_moc()\n",
    "            moc = f'Moc robota wynosi: {x}\\n'\n",
    "            return name + miejsce + moc\n",
    "        return wrapper\n",
    "    \n",
    "    @str_dec\n",
    "    def __str__(self):\n",
    "        pass\n",
    "    \n",
    "    def up(self, x):\n",
    "        assert isinstance(x, int), 'you can only move by int value'\n",
    "        self.set_miejsce((x, 0))\n",
    "        if self.get_miejsce()[1] == 0:\n",
    "            self.dodaj_moc(5)\n",
    "    \n",
    "    def left(self, x):\n",
    "        assert isinstance(x, int), 'you can only move by int value'\n",
    "        self.set_miejsce((0, x))\n",
    "        if self.get_miejsce()[1] == 0:\n",
    "            self.dodaj_moc(5)\n",
    "        \n",
    "R1 = Robot('Krys01')\n",
    "R1.up(5)\n",
    "print(R1)\n",
    "print()\n",
    "\n",
    "R1.left(5)\n",
    "print(R1)\n",
    "print()\n",
    "\n",
    "R1.left(3)\n",
    "print(R1)\n",
    "print()\n",
    "\n",
    "R2 = Robot('Krys02', (5,5))\n",
    "print(R2)"
   ]
  }
 ],
 "metadata": {
  "kernelspec": {
   "display_name": "Python 3 (ipykernel)",
   "language": "python",
   "name": "python3"
  },
  "language_info": {
   "codemirror_mode": {
    "name": "ipython",
    "version": 3
   },
   "file_extension": ".py",
   "mimetype": "text/x-python",
   "name": "python",
   "nbconvert_exporter": "python",
   "pygments_lexer": "ipython3",
   "version": "3.9.5"
  }
 },
 "nbformat": 4,
 "nbformat_minor": 4
}
