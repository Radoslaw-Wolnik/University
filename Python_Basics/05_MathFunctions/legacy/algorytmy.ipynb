{
 "cells": [
  {
   "cell_type": "markdown",
   "metadata": {},
   "source": [
    "### Najwiekszy wspoly dzielnik"
   ]
  },
  {
   "cell_type": "code",
   "execution_count": 8,
   "metadata": {},
   "outputs": [
    {
     "data": {
      "text/plain": [
       "3"
      ]
     },
     "execution_count": 8,
     "metadata": {},
     "output_type": "execute_result"
    }
   ],
   "source": [
    "# Euklides odejmowanie iteracyjnie\n",
    "\n",
    "def euk_i(a,b):\n",
    "    if a < 0 or b < 0:\n",
    "        return None\n",
    "    while a != b:\n",
    "        if a > b:\n",
    "            a = a - b\n",
    "        else:\n",
    "            b = b - a\n",
    "    #   print(a, b)\n",
    "    return a\n",
    "\n",
    "euk_i(21,6)"
   ]
  },
  {
   "cell_type": "code",
   "execution_count": 14,
   "metadata": {},
   "outputs": [
    {
     "name": "stdout",
     "output_type": "stream",
     "text": [
      "[72, 8, 4, 16, 48]\n"
     ]
    },
    {
     "data": {
      "text/plain": [
       "4"
      ]
     },
     "execution_count": 14,
     "metadata": {},
     "output_type": "execute_result"
    }
   ],
   "source": [
    "def euk_i_args(*args):\n",
    "    args = list(args)\n",
    "    print(args)\n",
    "    condition = []\n",
    "    for el in args:\n",
    "        condition.append(0)\n",
    "        if el < 0:\n",
    "            return None\n",
    "    while sum(condition) != len(args):\n",
    "        condition = [0 for _ in range(len(args))]\n",
    "        max = 0\n",
    "        min = 0\n",
    "        for i in range(len(args)):\n",
    "            if args[i] > args[max]:\n",
    "                max = i\n",
    "            if args[i] < args[min]:\n",
    "                min = i\n",
    "            if args[0] == args[i]:\n",
    "                condition[i] = 1\n",
    "        if max != min:\n",
    "            args[max] = args[max] - args[min]\n",
    "        #print('c:', sum(condition), condition, 'len:', len(args))\n",
    "        \n",
    "    return args[0]\n",
    "\n",
    "euk_i_args(72,8, 4, 16, 48)"
   ]
  },
  {
   "cell_type": "code",
   "execution_count": 9,
   "metadata": {},
   "outputs": [
    {
     "data": {
      "text/plain": [
       "3"
      ]
     },
     "execution_count": 9,
     "metadata": {},
     "output_type": "execute_result"
    }
   ],
   "source": [
    "# Euklides odejmowanie rekurencyjnie\n",
    "\n",
    "def euk_r(a,b):\n",
    "    if a < 0 or b < 0:\n",
    "        return 'brak'\n",
    "    if a == b:\n",
    "        return a\n",
    "    else:\n",
    "        if a > b:\n",
    "            a = a - b\n",
    "            return euk_r(a,b)\n",
    "        else:\n",
    "            b = b - a\n",
    "            return euk_r(a,b)\n",
    "            \n",
    "euk_r(21,6)"
   ]
  },
  {
   "cell_type": "code",
   "execution_count": 10,
   "metadata": {},
   "outputs": [
    {
     "name": "stdout",
     "output_type": "stream",
     "text": [
      "6 3\n",
      "3 0\n"
     ]
    },
    {
     "data": {
      "text/plain": [
       "3"
      ]
     },
     "execution_count": 10,
     "metadata": {},
     "output_type": "execute_result"
    }
   ],
   "source": [
    "# Euklides dzielenie iteracyjnie\n",
    "def euk_i(a,b):\n",
    "    if a < 0 or b < 0:\n",
    "        return None\n",
    "    while b != 0:\n",
    "        a, b = b, a%b\n",
    "        print(a, b)\n",
    "    return a\n",
    "\n",
    "euk_i(21, 6)"
   ]
  },
  {
   "cell_type": "code",
   "execution_count": 18,
   "metadata": {},
   "outputs": [
    {
     "data": {
      "text/plain": [
       "4"
      ]
     },
     "execution_count": 18,
     "metadata": {},
     "output_type": "execute_result"
    }
   ],
   "source": [
    "# rozszerzenie do 3 liczb polega na porównywaniu dwoch i porównywaniu wyniku do trzeciej\n",
    "# tj\n",
    "# 18, 24, 75\n",
    "# euk(18,24) = 6\n",
    "# euk(6, 75) = 3\n",
    "# done\n",
    "\n",
    "def euk_i_more(*args):\n",
    "    args = list(args)\n",
    "    for i in range(1, len(args)):\n",
    "        a = args[i-1]\n",
    "        b = args[i]\n",
    "        if a == 1:\n",
    "            return a\n",
    "        if a < 0 or b < 0:\n",
    "            return None\n",
    "        while b != 0:\n",
    "            a, b = b, a%b\n",
    "        args[i] = a\n",
    "    return args[-1]\n",
    "\n",
    "\n",
    "euk_i_more(72,8, 4, 16, 48)"
   ]
  },
  {
   "cell_type": "code",
   "execution_count": 14,
   "metadata": {},
   "outputs": [
    {
     "data": {
      "text/plain": [
       "3"
      ]
     },
     "execution_count": 14,
     "metadata": {},
     "output_type": "execute_result"
    }
   ],
   "source": [
    "def euk_r(a,b):\n",
    "    if a < 0 or b < 0:\n",
    "        return 'brak'\n",
    "    if a == 0:\n",
    "        return b\n",
    "    else:\n",
    "        b, a = a, b%a\n",
    "        return euk_r(a, b)\n",
    "            \n",
    "euk_r(6, 21)"
   ]
  },
  {
   "cell_type": "markdown",
   "metadata": {},
   "source": [
    "### najmniejsza wspolna wielokrotnosc"
   ]
  },
  {
   "cell_type": "code",
   "execution_count": 12,
   "metadata": {},
   "outputs": [
    {
     "name": "stdout",
     "output_type": "stream",
     "text": [
      "3\n",
      "42.0\n"
     ]
    }
   ],
   "source": [
    "def euk_i(a,b):\n",
    "    if a < 0 or b < 0:\n",
    "        return None\n",
    "    while b != 0:\n",
    "        a, b = b, a%b\n",
    "    return a\n",
    "            \n",
    "def nww(a,b):\n",
    "    gretest_division = euk_i(a,b)\n",
    "    return a*b / gretest_division\n",
    "\n",
    "print(euk_i(6,21))\n",
    "print(nww(21,6))"
   ]
  },
  {
   "cell_type": "markdown",
   "metadata": {},
   "source": [
    "### sprawdz czy liczba a jest pierwsza czy zlozona"
   ]
  },
  {
   "cell_type": "code",
   "execution_count": 32,
   "metadata": {},
   "outputs": [
    {
     "name": "stdout",
     "output_type": "stream",
     "text": [
      "True\n",
      "False\n",
      "False\n",
      "True\n",
      "True\n",
      "False\n"
     ]
    }
   ],
   "source": [
    "def czy_pierwsza(a):\n",
    "    if a < 2:\n",
    "        return False\n",
    "    p = 2\n",
    "    while p**2 < a+1:\n",
    "        if a%p == 0:\n",
    "            return False\n",
    "        p += 1\n",
    "    return True\n",
    "\n",
    "print(czy_pierwsza(89))\n",
    "print(czy_pierwsza(24))\n",
    "print(czy_pierwsza(49))\n",
    "print(czy_pierwsza(7))\n",
    "print(czy_pierwsza(2))\n",
    "print(czy_pierwsza(1))"
   ]
  },
  {
   "cell_type": "markdown",
   "metadata": {},
   "source": [
    "### faktoryzacja liczby"
   ]
  },
  {
   "cell_type": "code",
   "execution_count": 22,
   "metadata": {},
   "outputs": [
    {
     "name": "stdout",
     "output_type": "stream",
     "text": [
      "[7, 89]\n"
     ]
    },
    {
     "data": {
      "text/plain": [
       "[2, 2, 3, 37]"
      ]
     },
     "execution_count": 22,
     "metadata": {},
     "output_type": "execute_result"
    }
   ],
   "source": [
    "def faktoryzacja(a):\n",
    "    dzielniki = []\n",
    "    div = 2 # pierwsza liczba pierwsza\n",
    "    while a != 1:\n",
    "        if a%div == 0:\n",
    "            a = a/div\n",
    "            dzielniki.append(div)\n",
    "        else:\n",
    "            div += 1\n",
    "    return dzielniki\n",
    "\n",
    "print(faktoryzacja(623))\n",
    "faktoryzacja(444)"
   ]
  },
  {
   "cell_type": "markdown",
   "metadata": {},
   "source": [
    "### algorytm wyznaczanie n tej potegi liczby a"
   ]
  },
  {
   "cell_type": "code",
   "execution_count": 1,
   "metadata": {},
   "outputs": [
    {
     "name": "stdout",
     "output_type": "stream",
     "text": [
      "16\n"
     ]
    }
   ],
   "source": [
    "# algorytm potegowy\n",
    "# O(log(n))\n",
    "\n",
    "def power(a, n):\n",
    "    if n == 0:          # or if n == 1\n",
    "        return 1        # return a\n",
    "\n",
    "    if n%2 == 0: \n",
    "        return power(a,n//2)**2\n",
    "    if n%2 == 1:\n",
    "        return a*power(a,n//2)**2\n",
    "    \n",
    "print(power(2, 4))"
   ]
  },
  {
   "cell_type": "markdown",
   "metadata": {},
   "source": [
    "### algorym zachlanny wydawania reszty"
   ]
  },
  {
   "cell_type": "code",
   "execution_count": 56,
   "metadata": {},
   "outputs": [
    {
     "name": "stdout",
     "output_type": "stream",
     "text": [
      "500 : 1675.5 : 175.5\n",
      "200 : 175.5 : 175.5\n",
      "100 : 175.5 : 75.5\n",
      "50 : 75.5 : 25.5\n",
      "20 : 25.5 : 5.5\n",
      "10 : 5.5 : 5.5\n",
      "5 : 5.5 : 0.5\n",
      "2 : 0.5 : 0.5\n",
      "1 : 0.5 : 0.5\n",
      "0.5 : 0.5 : 0.0\n",
      "0.2 : 0.0 : 0.0\n",
      "0.1 : 0.0 : 0.0\n",
      "0.05 : 0.0 : 0.0\n",
      "0.02 : 0.0 : 0.0\n",
      "0.01 : 0.0 : 0.0\n"
     ]
    },
    {
     "data": {
      "text/plain": [
       "{500: 3, 100: 1, 50: 1, 20: 1, 5: 1, 0.5: 1}"
      ]
     },
     "execution_count": 56,
     "metadata": {},
     "output_type": "execute_result"
    }
   ],
   "source": [
    "nominaly = [0.01, 0.02, 0.05, 0.1, 0.2, 0.5, 1, 2, 5, 10, 20, 50, 100, 200, 500]\n",
    "\n",
    "def reszta(kwota):\n",
    "    res = {}\n",
    "        \n",
    "    for nominal in nominaly[::-1]:\n",
    "        print(nominal, ':', kwota, ':', kwota - nominal * (kwota//nominal))\n",
    "        if nominal <= kwota:\n",
    "            res[nominal] = int(kwota//nominal)\n",
    "            kwota = kwota - nominal * (kwota//nominal)\n",
    "    return res\n",
    "\n",
    "\n",
    "reszta(1675.5)"
   ]
  },
  {
   "cell_type": "code",
   "execution_count": 60,
   "metadata": {},
   "outputs": [
    {
     "name": "stdout",
     "output_type": "stream",
     "text": [
      "500 : 1675.5 : 1175.5\n",
      "200 : 1175.5 : 975.5\n",
      "100 : 1175.5 : 1075.5\n",
      "50 : 1175.5 : 1125.5\n",
      "20 : 1175.5 : 1155.5\n",
      "10 : 1175.5 : 1165.5\n",
      "5 : 1175.5 : 1170.5\n",
      "2 : 1175.5 : 1173.5\n",
      "1 : 1175.5 : 1174.5\n",
      "0.5 : 1175.5 : 1175.0\n",
      "0.2 : 1175.5 : 1175.3\n",
      "0.1 : 1175.5 : 1175.4\n",
      "0.05 : 1175.5 : 1175.45\n",
      "0.02 : 1175.5 : 1175.48\n",
      "0.01 : 1175.5 : 1175.49\n",
      "500 : 1175.5 : 675.5\n",
      "200 : 675.5 : 475.5\n",
      "100 : 675.5 : 575.5\n",
      "50 : 675.5 : 625.5\n",
      "20 : 675.5 : 655.5\n",
      "10 : 675.5 : 665.5\n",
      "5 : 675.5 : 670.5\n",
      "2 : 675.5 : 673.5\n",
      "1 : 675.5 : 674.5\n",
      "0.5 : 675.5 : 675.0\n",
      "0.2 : 675.5 : 675.3\n",
      "0.1 : 675.5 : 675.4\n",
      "0.05 : 675.5 : 675.45\n",
      "0.02 : 675.5 : 675.48\n",
      "0.01 : 675.5 : 675.49\n",
      "500 : 675.5 : 175.5\n",
      "200 : 175.5 : -24.5\n",
      "100 : 175.5 : 75.5\n",
      "50 : 175.5 : 125.5\n",
      "20 : 175.5 : 155.5\n",
      "10 : 175.5 : 165.5\n",
      "5 : 175.5 : 170.5\n",
      "2 : 175.5 : 173.5\n",
      "1 : 175.5 : 174.5\n",
      "0.5 : 175.5 : 175.0\n",
      "0.2 : 175.5 : 175.3\n",
      "0.1 : 175.5 : 175.4\n",
      "0.05 : 175.5 : 175.45\n",
      "0.02 : 175.5 : 175.48\n",
      "0.01 : 175.5 : 175.49\n",
      "500 : 175.5 : -324.5\n",
      "200 : 175.5 : -24.5\n",
      "100 : 175.5 : 75.5\n",
      "50 : 75.5 : 25.5\n",
      "20 : 75.5 : 55.5\n",
      "10 : 75.5 : 65.5\n",
      "5 : 75.5 : 70.5\n",
      "2 : 75.5 : 73.5\n",
      "1 : 75.5 : 74.5\n",
      "0.5 : 75.5 : 75.0\n",
      "0.2 : 75.5 : 75.3\n",
      "0.1 : 75.5 : 75.4\n",
      "0.05 : 75.5 : 75.45\n",
      "0.02 : 75.5 : 75.48\n",
      "0.01 : 75.5 : 75.49\n",
      "500 : 75.5 : -424.5\n",
      "200 : 75.5 : -124.5\n",
      "100 : 75.5 : -24.5\n",
      "50 : 75.5 : 25.5\n",
      "20 : 25.5 : 5.5\n",
      "10 : 25.5 : 15.5\n",
      "5 : 25.5 : 20.5\n",
      "2 : 25.5 : 23.5\n",
      "1 : 25.5 : 24.5\n",
      "0.5 : 25.5 : 25.0\n",
      "0.2 : 25.5 : 25.3\n",
      "0.1 : 25.5 : 25.4\n",
      "0.05 : 25.5 : 25.45\n",
      "0.02 : 25.5 : 25.48\n",
      "0.01 : 25.5 : 25.49\n",
      "500 : 25.5 : -474.5\n",
      "200 : 25.5 : -174.5\n",
      "100 : 25.5 : -74.5\n",
      "50 : 25.5 : -24.5\n",
      "20 : 25.5 : 5.5\n",
      "10 : 5.5 : -4.5\n",
      "5 : 5.5 : 0.5\n",
      "2 : 5.5 : 3.5\n",
      "1 : 5.5 : 4.5\n",
      "0.5 : 5.5 : 5.0\n",
      "0.2 : 5.5 : 5.3\n",
      "0.1 : 5.5 : 5.4\n",
      "0.05 : 5.5 : 5.45\n",
      "0.02 : 5.5 : 5.48\n",
      "0.01 : 5.5 : 5.49\n",
      "500 : 5.5 : -494.5\n",
      "200 : 5.5 : -194.5\n",
      "100 : 5.5 : -94.5\n",
      "50 : 5.5 : -44.5\n",
      "20 : 5.5 : -14.5\n",
      "10 : 5.5 : -4.5\n",
      "5 : 5.5 : 0.5\n",
      "2 : 0.5 : -1.5\n",
      "1 : 0.5 : -0.5\n",
      "0.5 : 0.5 : 0.0\n",
      "0.2 : 0.5 : 0.3\n",
      "0.1 : 0.5 : 0.4\n",
      "0.05 : 0.5 : 0.45\n",
      "0.02 : 0.5 : 0.48\n",
      "0.01 : 0.5 : 0.49\n",
      "500 : 0.5 : -499.5\n",
      "200 : 0.5 : -199.5\n",
      "100 : 0.5 : -99.5\n",
      "50 : 0.5 : -49.5\n",
      "20 : 0.5 : -19.5\n",
      "10 : 0.5 : -9.5\n",
      "5 : 0.5 : -4.5\n",
      "2 : 0.5 : -1.5\n",
      "1 : 0.5 : -0.5\n",
      "0.5 : 0.5 : 0.0\n",
      "0.2 : 0.0 : -0.2\n",
      "0.1 : 0.0 : -0.1\n",
      "0.05 : 0.0 : -0.05\n",
      "0.02 : 0.0 : -0.02\n",
      "0.01 : 0.0 : -0.01\n"
     ]
    },
    {
     "data": {
      "text/plain": [
       "{500: 3,\n",
       " 200: 0,\n",
       " 100: 1,\n",
       " 50: 1,\n",
       " 20: 1,\n",
       " 10: 0,\n",
       " 5: 1,\n",
       " 2: 0,\n",
       " 1: 0,\n",
       " 0.5: 1,\n",
       " 0.2: 0,\n",
       " 0.1: 0,\n",
       " 0.05: 0,\n",
       " 0.02: 0,\n",
       " 0.01: 0}"
      ]
     },
     "execution_count": 60,
     "metadata": {},
     "output_type": "execute_result"
    }
   ],
   "source": [
    "nominaly = [0.01, 0.02, 0.05, 0.1, 0.2, 0.5, 1, 2, 5, 10, 20, 50, 100, 200, 500]\n",
    "\n",
    "def reszta(kwota):\n",
    "    res = {key : 0 for key in nominaly[::-1]}\n",
    "    while kwota != 0:\n",
    "        moneta = 0\n",
    "        for nominal in nominaly[::-1]:\n",
    "            print(nominal, ':', kwota, ':', kwota - nominal)\n",
    "            if nominal <= kwota and nominal >= moneta:\n",
    "                res[nominal] += 1\n",
    "                kwota = kwota - nominal\n",
    "                moneta = nominal\n",
    "           # if nominal <= kwota:\n",
    "           #     break\n",
    "    return res\n",
    "\n",
    "\n",
    "reszta(1675.5)"
   ]
  },
  {
   "cell_type": "markdown",
   "metadata": {},
   "source": [
    "### Algorytm bisekcji\n",
    "###### na przykładzie wyznaczania miejsca zerowego wielomianu"
   ]
  },
  {
   "cell_type": "code",
   "execution_count": 81,
   "metadata": {},
   "outputs": [
    {
     "data": {
      "text/plain": [
       "-1.3203125"
      ]
     },
     "execution_count": 81,
     "metadata": {},
     "output_type": "execute_result"
    }
   ],
   "source": [
    "def miejsce_zerowe_wielomian(funkcja, zakres):\n",
    "    a = zakres[0]\n",
    "    b = zakres[1]\n",
    "    epsilon = 0.01\n",
    "    \n",
    "    while abs(a - b) > epsilon:\n",
    "        x = (a + b)/2\n",
    "        val = 0\n",
    "        val_a = 0\n",
    "        \n",
    "        for i in range (len(funkcja)-1, -1, -1):\n",
    "            val += (x ** i) * funkcja[len(funkcja)-1 - i] \n",
    "            val_a += (a ** i) * funkcja[len(funkcja)-1 - i]\n",
    "        \n",
    "        if abs(val) <= epsilon:\n",
    "            break\n",
    "            \n",
    "        elif val * val_a < 0: # wartosc w a i wartosc w polowie maja rozne znaki\n",
    "            b = x\n",
    "        else:\n",
    "            a = x\n",
    "            \n",
    "    return x\n",
    "    \n",
    "miejsce_zerowe_wielomian([1, 0, -1, 1], [-2, 2])"
   ]
  },
  {
   "cell_type": "markdown",
   "metadata": {},
   "source": [
    "#### na przykładzie gry zgadnij liczbe"
   ]
  },
  {
   "cell_type": "code",
   "execution_count": null,
   "metadata": {},
   "outputs": [],
   "source": []
  },
  {
   "cell_type": "markdown",
   "metadata": {},
   "source": [
    "### Schemat Hornera - rózne aspekty"
   ]
  },
  {
   "cell_type": "code",
   "execution_count": 2,
   "metadata": {},
   "outputs": [
    {
     "data": {
      "text/plain": [
       "[2, -3, 1, 0]"
      ]
     },
     "execution_count": 2,
     "metadata": {},
     "output_type": "execute_result"
    }
   ],
   "source": [
    "def reszta_wielomian(wielomian, dwumian):\n",
    "    x = dwumian[1] * -1\n",
    "    result = [wielomian[0]]\n",
    "    for i in range(1, len(wielomian)):\n",
    "        result.append(result[-1]*x + wielomian[i])\n",
    "    return result\n",
    "\n",
    "reszta_wielomian([2, -5, 4, -1], [1, -1]) # 2x^3 - 5x^2 + 4x -1 ; x - 1"
   ]
  },
  {
   "cell_type": "markdown",
   "metadata": {},
   "source": [
    "### Algorytmy sortowania"
   ]
  },
  {
   "cell_type": "code",
   "execution_count": null,
   "metadata": {},
   "outputs": [],
   "source": []
  },
  {
   "cell_type": "code",
   "execution_count": null,
   "metadata": {},
   "outputs": [],
   "source": []
  },
  {
   "cell_type": "code",
   "execution_count": null,
   "metadata": {},
   "outputs": [],
   "source": []
  },
  {
   "cell_type": "markdown",
   "metadata": {},
   "source": [
    "### Algorytmy wyszukiwania"
   ]
  },
  {
   "cell_type": "code",
   "execution_count": null,
   "metadata": {},
   "outputs": [],
   "source": []
  },
  {
   "cell_type": "code",
   "execution_count": null,
   "metadata": {},
   "outputs": [],
   "source": []
  },
  {
   "cell_type": "code",
   "execution_count": null,
   "metadata": {},
   "outputs": [],
   "source": []
  }
 ],
 "metadata": {
  "kernelspec": {
   "display_name": "Python 3 (ipykernel)",
   "language": "python",
   "name": "python3"
  },
  "language_info": {
   "codemirror_mode": {
    "name": "ipython",
    "version": 3
   },
   "file_extension": ".py",
   "mimetype": "text/x-python",
   "name": "python",
   "nbconvert_exporter": "python",
   "pygments_lexer": "ipython3",
   "version": "3.9.5"
  }
 },
 "nbformat": 4,
 "nbformat_minor": 2
}
