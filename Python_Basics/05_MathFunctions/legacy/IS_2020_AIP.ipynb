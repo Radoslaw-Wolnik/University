{
 "cells": [
  {
   "cell_type": "markdown",
   "metadata": {},
   "source": [
    "# Informatyka stosowana,  2020-2021\n",
    "## Algorytmy i programowanie\n",
    "### Egzamin zestaw 4\n",
    "\n",
    "**Reguły**\n",
    "\n",
    "* prace są samodzielne, można korzystać ze swoich własnych kodów, wykładu, ćwiczeń, książek, manuali, dokumentacji, kursów, itp…\n",
    "* nie wolno korzystać z cudzych kodów na zasadzie copy-paste\n",
    "* pomoc osób trzecich jest zabroniona\n",
    "\n",
    "część praktyczna - zestaw 4\n",
    "Za egzamin można otrzymać 200 punktów (100 za część praktyczną i 100 za część ustną).\n",
    "Zadania proszę rozwiązać w języku PYTHON i odesłać plik z rozszerzeniem ipynb lub py."
   ]
  },
  {
   "cell_type": "markdown",
   "metadata": {},
   "source": [
    "### Zadanie 1. Iterator [30 pkt+20u]\n",
    "\n",
    "Napisz iterator, który oferuje funkcjonalność zwracania kolejne przybliżenia funkcji cos(x) będące sumami częściowymi danymi przez znany już Państwu wzór\n",
    "\n",
    "$$C = \\lim_{n \\to \\infty} \\sum_{j=0}^{n} c_j$$\n",
    "\n",
    "gdzie\n",
    "\n",
    "$$c_0 = 1$$\n",
    "$$c_j = -c_{j-1} x^2  [2j (2j - 1)]^{-1}, \\qquad j=1, 2, 3, \\dots$$\n",
    "\n",
    "Wykorzystaj trzy metody\n",
    "\n",
    "    klasę (iter, next) [8pkt]\n",
    "    generator - funkcję z yield [8pkt]\n",
    "    wyrażenie generujące (...), [8pkt]\n",
    "    docstring [3 pkt], testy [3 pkt]\n",
    "\n",
    "Uwaga Proszę zauważyć nieskończoną sumę we wzorze na C -> iteratory powinny być nieskończone. Może przydać się nieskończony iterator liczb naturalnych z wykładu."
   ]
  },
  {
   "cell_type": "code",
   "execution_count": 2,
   "metadata": {},
   "outputs": [],
   "source": [
    "import math\n",
    "class gen_iter:\n",
    "    \"\"\"Nieskończony Generator dla funkcji cos(x)\"\"\"\n",
    "\n",
    "    def __init__(self, x):\n",
    "        self.x = x\n",
    "        self.i = 1\n",
    "        self.score = 1\n",
    "        self.c = 1\n",
    "\n",
    "    def __iter__(self):\n",
    "        return self\n",
    "\n",
    "    def __next__(self):\n",
    "        \n",
    "        self.c = -self.c * ( (self.x**2) / (2 * self.i * (2 * self.i - 1)) )\n",
    "        self.score += self.c\n",
    "        \n",
    "        self.i += 1\n",
    "        \n",
    "        if self.score > 1:\n",
    "            return 1.0\n",
    "        if self.score < -1:\n",
    "            return -1.0\n",
    "\n",
    "        return round(self.score, 13)\n",
    "\n",
    "h = gen_iter(math.radians(30))"
   ]
  },
  {
   "cell_type": "code",
   "execution_count": 3,
   "metadata": {},
   "outputs": [
    {
     "name": "stdout",
     "output_type": "stream",
     "text": [
      "0.862922161096\n",
      "0.8660538834157\n",
      "0.8660252641006\n",
      "0.8660254042104\n",
      "0.8660254037836\n",
      "0.8660254037844\n",
      "0.8660254037844\n",
      "0.8660254037844\n",
      "0.8660254037844\n",
      "0.8660254037844\n"
     ]
    }
   ],
   "source": [
    "for i in range(0, 1000, 100):\n",
    "    print(h.__next__())"
   ]
  },
  {
   "cell_type": "code",
   "execution_count": 92,
   "metadata": {},
   "outputs": [],
   "source": [
    "import math\n",
    "\n",
    "def cos_gen(x):\n",
    "    \"\"\"Nieskończony generator dla funkcji cos(x) za pomocą słowa kluczowego yield.\"\"\"\n",
    "    \n",
    "    i = 1\n",
    "    score = 1\n",
    "    c = 1\n",
    "    while True:\n",
    "        c = -c * ( (x**2) / (2 * i * (2 * i - 1)) )\n",
    "        score += c\n",
    "        \n",
    "        i += 1\n",
    "        \n",
    "        if score > 1:\n",
    "            yield 1.0\n",
    "        if score < -1:\n",
    "            yield -1.0\n",
    "\n",
    "        yield round(score, 13)\n",
    "\n",
    "h = cos_gen(math.radians(60))"
   ]
  },
  {
   "cell_type": "code",
   "execution_count": 93,
   "metadata": {},
   "outputs": [
    {
     "name": "stdout",
     "output_type": "stream",
     "text": [
      "0.4516886443839\n",
      "0.5017962015002\n",
      "0.4999645653289\n",
      "0.5000004334329\n",
      "0.4999999963909\n",
      "0.5000000000218\n",
      "0.4999999999999\n",
      "0.5\n",
      "0.5\n",
      "0.5\n"
     ]
    }
   ],
   "source": [
    "for i in range(0, 1000, 100):\n",
    "    print(h.__next__())"
   ]
  },
  {
   "cell_type": "code",
   "execution_count": 89,
   "metadata": {},
   "outputs": [
    {
     "data": {
      "text/plain": [
       "0.691574862466"
      ]
     },
     "execution_count": 89,
     "metadata": {},
     "output_type": "execute_result"
    }
   ],
   "source": [
    "h = (i for i in gen_iter(math.radians(45)))\n",
    "h.__next__()"
   ]
  },
  {
   "cell_type": "markdown",
   "metadata": {},
   "source": [
    "### Zadanie 2 Stwórz klasę `Czas`. [Time is on my side](https://www.youtube.com/watch?v=rIE2GAqnFGw) [45 pkt+35u]\n",
    "\n",
    "Specyfikacja\n",
    "\n",
    "* Podstawowe atrybuty: godzina, minuta, sekunda oraz dzień (domyślna wartość to 0), +gettery, +settery (z użyciem dekoratora)[10pkt]\n",
    "* W przypadku próby zainicjalizowania niepoprawnej wartości sekund lub minut tzn. większej lub równej 60, należy zgłosić wyjątek z własnej klasy `WrongSeconds` lub `WrongMinutes` [2x 4 pkt]\n",
    "\n",
    "Dodaj następujace operatory:\n",
    "* `+`: działający następujaco - dodaje godziny do godzin, minuty do minut itd., np. 2\n",
    "h 30 m 4 s + 6 h 35 m 50 s = 9 h 5 m 54 s (zwracamy także instancję klasy Czas), jeśli przekraczamy 24 h, to dzień powinien mieć wartość 1 [5 pkt]\n",
    "* `<`: porównuje najpierw dzień, godziny, potem minuty, sekundy. Zwraca True/False, np.\n",
    "2 h 40 m 30 s d 0$<$ 1 h 59 m 30 s d 0 $\\rightarrow$ False, 2 h 40 m 30 s d -1$<$ 1 h 59 m 30 s d 0 $\\rightarrow$ True [5 pkt]\n",
    "* `__str__`: `Czas` powinien wyświetlać się w postaci: \"20:05:25, dzień bez zmiany\" (gdy dzień=1,-1 dzień następny/poprzedni) [5 pkt]\n",
    "\n",
    "Dodaj funkcję `strefa`, która dla danej instancji klasy `Czas` zwraca odpowiednią godzinę w innej strefie czasowej. Argumentem funkcji ma być miasto, dla którego znajdujemy czas: Warszawa, Londyn, Nowy Jork, Tokio, Syndey, Moskwa, Los Angeles. Przyjmujemy, że domyślnie czas został podany jako czas uniwersalny GMT. [6 pkt]\n",
    "\n",
    "* PEP8 [2 pkt]\n",
    "* DOC [2 pkt]\n",
    "* testy [2 pkt]"
   ]
  },
  {
   "cell_type": "code",
   "execution_count": 95,
   "metadata": {},
   "outputs": [],
   "source": [
    "class WrongSeconds(Exception):\n",
    "    def __str__(self):\n",
    "            return \"Sekundy muszą mieścić się w przedziale 0 - 59.\""
   ]
  },
  {
   "cell_type": "code",
   "execution_count": 96,
   "metadata": {},
   "outputs": [],
   "source": [
    "class WrongMinutes(Exception):\n",
    "    def __str__(self):\n",
    "        return \"Minuty muszą mieścić się w przedziale 0 - 59.\""
   ]
  },
  {
   "cell_type": "code",
   "execution_count": 1,
   "metadata": {},
   "outputs": [
    {
     "name": "stdout",
     "output_type": "stream",
     "text": [
      "04:43:42, dzień następny\n",
      "t1 < t2 = True\n",
      "15:31:10, dzien bez zmiany\n"
     ]
    }
   ],
   "source": [
    "import datetime\n",
    "import pytz\n",
    "\n",
    "class Czas(object):\n",
    "    def __init__(self, godzina, minuta, sekunda, dzien = 0):\n",
    "        self.godzina = godzina\n",
    "        self.minuta = minuta\n",
    "        self.sekunda = sekunda\n",
    "        self.dzien = dzien\n",
    "    \n",
    "    @property\n",
    "    def godzina(self):\n",
    "        return self.__godzina\n",
    "        \n",
    "    @godzina.setter\n",
    "    def godzina(self, x):\n",
    "        self.__godzina = x\n",
    "        \n",
    "    @property\n",
    "    def minuta(self):\n",
    "        return self.__minuta\n",
    "    \n",
    "    @minuta.setter\n",
    "    def minuta(self, x):\n",
    "        if x >= 60:\n",
    "            raise WrongMinutes\n",
    "        self.__minuta = x\n",
    "        \n",
    "    @property\n",
    "    def sekunda(self):\n",
    "        return self.__sekunda\n",
    "    \n",
    "    @sekunda.setter\n",
    "    def sekunda(self, x):\n",
    "        if x >= 60:\n",
    "            raise WrongSeconds\n",
    "        self.__sekunda = x\n",
    "        \n",
    "    @property\n",
    "    def dzien(self):\n",
    "        return self.__dzien\n",
    "    \n",
    "    @dzien.setter\n",
    "    def dzien(self, x):\n",
    "        self.__dzien = x\n",
    "        \n",
    "    def __add__(self, other):\n",
    "        dzien_result = self.dzien + other.dzien\n",
    "        godzina_result = self.godzina + other.godzina\n",
    "        minuta_result = self.minuta + other.minuta\n",
    "        sekunda_result = self.sekunda + other.sekunda\n",
    "        \n",
    "        if sekunda_result >= 60:\n",
    "            minuta_result += 1\n",
    "            sekunda_result -= 60\n",
    "        if minuta_result >= 60:\n",
    "            godzina_result += 1\n",
    "            minuta_result -= 60\n",
    "        if godzina_result >= 24:\n",
    "            dzien_result += 1\n",
    "            godzina_result -= 24\n",
    "            \n",
    "        return Czas(godzina_result, minuta_result, sekunda_result, dzien_result)\n",
    "    \n",
    "    def __str__(self):\n",
    "        dzien_ = \"dzien bez zmiany\" if self.dzien == 0 else \"dzień poprzedni\" if self.dzien < 0 else \"dzień następny\"\n",
    "        godz_ = f\"0{self.godzina}\" if self.godzina < 10 else self.godzina\n",
    "        min_ = f\"0{self.minuta}\" if self.minuta < 10 else self.minuta\n",
    "        sek_ = f\"0{self.sekunda}\" if self.sekunda < 10 else self.sekunda\n",
    "        return f\"{godz_}:{min_}:{sek_}, {dzien_}\"\n",
    "            \n",
    "    def __lt__(self, other):\n",
    "        if self.dzien > other.dzien:\n",
    "            return True\n",
    "        if self.godzina > other.godzina:\n",
    "            return True\n",
    "        if self.minuta > other.minuta:\n",
    "            return True\n",
    "        if self.sekunda > other.sekunda:\n",
    "            return True\n",
    "        return False\n",
    "        \n",
    "    def strefa(self, timezone = \"Warszawa\"):\n",
    "        \n",
    "        if timezone == \"Londyn\":\n",
    "            new_time = self + Czas(2, 0, 0)\n",
    "            return f\"{new_time.godzina}:{new_time.minuta}:{new_time.sekunda}\"\n",
    "        elif timezone == \"Nowy Jork\":\n",
    "            new_time = self + Czas(-6, 0, 0)\n",
    "            return f\"{new_time.godzina}:{new_time.minuta}:{new_time.sekunda}\"\n",
    "        elif timezone == \"Tokio\":\n",
    "            new_time = self + Czas(7, 0, 0)\n",
    "            return f\"{new_time.godzina}:{new_time.minuta}:{new_time.sekunda}\"\n",
    "        elif timezone == \"Sydney\":\n",
    "            new_time = self + Czas(8, 0, 0)\n",
    "            return f\"{new_time.godzina}:{new_time.minuta}:{new_time.sekunda}\"\n",
    "        elif timezone == \"Moskwa\":\n",
    "            new_time = self + Czas(1, 0, 0)\n",
    "            return f\"{new_time.godzina}:{new_time.minuta}:{new_time.sekunda}\"\n",
    "        elif timezone == \"Los Angeles\":\n",
    "            new_time = self + Czas(-9, 0, 0)\n",
    "            return f\"{new_time.godzina}:{new_time.minuta}:{new_time.sekunda}\"\n",
    "        else:\n",
    "            return f\"{self.godzina}:{self.minuta}:{self.sekunda}\"\n",
    "                \n",
    "    \n",
    "# t1 = Czas(2, 70, -2)\n",
    "t1 = Czas(13, 58, 13)\n",
    "t2 = Czas(14, 45, 29)\n",
    "print(t1 + t2)\n",
    "print(f\"t1 < t2 = {t1 < t2}\")\n",
    "# print(t1.strefa(\"Los Angeles\"))\n",
    "\n",
    "t3 = Czas(12, 15, 30)\n",
    "print(t3 + Czas(3, 15, 40))"
   ]
  },
  {
   "cell_type": "markdown",
   "metadata": {},
   "source": [
    "#### Zadanie 3  Tablica haszująca [25+20u]\n",
    "Pobierz z pliku słowa pisenki (5). Umieść je w tablicy haszującej podaj rodzaj zastosowanego sposobu rozwiązywania konfliktów (10). Zaprezentuj działanie napisanego rozwiązania (5).  Zapisz tablicę do pliku.(5)."
   ]
  },
  {
   "cell_type": "code",
   "execution_count": 1,
   "metadata": {},
   "outputs": [
    {
     "name": "stdout",
     "output_type": "stream",
     "text": [
      "[ (0, 'Oh,'), (9, 'watch'), (18, 'with'), (27, 'this'), (36, 'together'), (45, 'for'), (54, 'if'), (63, 'Prepare'), (72, 'Inside'), (81, 'remember') ]\n",
      "[ (1, 'misty'), (10, 'my'), (19, 'fire'), (28, 'is'), (37, 'Watch'), (46, 'rope'), (55, 'die'), (64, 'as'), (73, 'Burning'), (82, 'me') ]\n",
      "[ (2, 'eye'), (11, \"brothers'\"), (20, 'and'), (29, 'to'), (38, 'flames'), (47, 'Stand'), (56, 'tonight'), (65, 'side'), (74, 'trees'), (83, 'people') ]\n",
      "[ (3, 'of'), (12, 'souls'), (21, 'smoke'), (30, 'end'), (39, 'climb'), (48, 'by'), (57, 'Raise'), (66, 'Desolation'), (75, 'Hollowing'), (84, 'fall…') ]\n",
      "[ (4, 'the'), (13, 'And'), (22, 'watching'), (31, 'in'), (40, 'high'), (49, 'will'), (58, 'a'), (67, 'comes'), (76, 'Blood') ]\n",
      "[ (5, 'mountain'), (14, 'should'), (23, 'over'), (32, 'Then'), (41, 'into'), (50, 'on'), (59, 'glass'), (68, 'upon'), (77, 'breeze') ]\n",
      "[ (6, 'below'), (15, 'sky'), (24, \"Durin's\"), (33, 'we'), (42, 'night'), (51, 'The'), (60, 'wine'), (69, 'Now'), (78, 'hope') ]\n",
      "[ (7, 'Keep'), (16, 'be'), (25, 'sons'), (34, 'all'), (43, 'Calling'), (52, 'side,'), (61, 'last'), (70, 'I'), (79, 'that') ]\n",
      "[ (8, 'careful'), (17, 'filled'), (26, 'If'), (35, 'burn'), (44, 'out'), (53, 'hey'), (62, 'time'), (71, 'see'), (80, 'you') ]\n",
      "\n"
     ]
    }
   ],
   "source": [
    "import pickle\n",
    "\n",
    "class HashTable:\n",
    "    \"\"\"Struktura tablicy haszującej. \n",
    "    Do rozwiązywania konfliktów została zastosowana metoda łańcuchowa.\"\"\"\n",
    "    \n",
    "    def __init__(self):\n",
    "        self.m = 9\n",
    "        self.key = 0\n",
    "        self.set_arr(self.m)\n",
    "        \n",
    "    def set_arr(self, m):\n",
    "        self.arr = [[] for _ in range(m)]\n",
    "        \n",
    "    def hash_elem(self, i):\n",
    "        return i % self.m\n",
    "    \n",
    "    def insert(self, elem):\n",
    "        self.arr[self.hash_elem(self.key)].append((self.key, elem))\n",
    "        self.key += 1\n",
    "        \n",
    "    def search(self, key):\n",
    "        position_in_arr = self.hash_elem(key)\n",
    "        for index, (k, elem) in enumerate(self.arr[position_in_arr]):\n",
    "            if k == key:\n",
    "                return position_in_arr, index\n",
    "        return None\n",
    "    \n",
    "    def delete(self, key):\n",
    "        x, y = self.search(key)\n",
    "        del self.arr[x][y]\n",
    "\n",
    "    def get_item(self, key):\n",
    "        x, y = self.search(key)\n",
    "        return self.arr[x][y]\n",
    "\n",
    "    def __repr__(self):\n",
    "        ret = \"\"\n",
    "        for row in self.arr:\n",
    "            ret += \"[\"\n",
    "            for elem in row:\n",
    "                ret += f\" {elem},\"\n",
    "            if len(row) > 0:\n",
    "                ret = ret[:-1] + \" ]\\n\"\n",
    "            else:\n",
    "                ret += \" ]\\n\"\n",
    "        return ret\n",
    "    \n",
    "    def __str__(self):\n",
    "        ret = \"\"\n",
    "        for row in self.arr:\n",
    "            ret += \"[\"\n",
    "            for elem in row:\n",
    "                ret += f\" {elem},\"\n",
    "            if len(row) > 0:\n",
    "                ret = ret[:-1] + \" ]\\n\"\n",
    "            else:\n",
    "                ret += \" ]\\n\"\n",
    "        return ret\n",
    "    \n",
    "\n",
    "slowa = []\n",
    "\n",
    "with open(\"plik.txt\", \"r\") as file:\n",
    "    for line in file:\n",
    "        words = line.split()\n",
    "        for word in words:\n",
    "            if word not in slowa:\n",
    "                slowa.append(word)\n",
    "\n",
    "ht = HashTable()\n",
    "\n",
    "for slowo in slowa:\n",
    "    ht.insert(slowo)\n",
    "\n",
    "print(ht)\n",
    "\n",
    "# with open(\"words.data\", \"wb\") as file:\n",
    "#     pickle.dump(ht, file)\n",
    "    "
   ]
  },
  {
   "cell_type": "markdown",
   "metadata": {},
   "source": [
    "#### Zadanie 4 Algorytm NWD dla n elementów. [25u]"
   ]
  },
  {
   "cell_type": "code",
   "execution_count": 110,
   "metadata": {},
   "outputs": [
    {
     "data": {
      "text/plain": [
       "3"
      ]
     },
     "execution_count": 110,
     "metadata": {},
     "output_type": "execute_result"
    }
   ],
   "source": [
    "def NWD_r(a, b):\n",
    "    if b == 0:\n",
    "        return a\n",
    "    return NWD_r(b, a % b)\n",
    "\n",
    "def NWD(*args):\n",
    "    nwdv = args[0]\n",
    "    for i in range(1, len(args)):\n",
    "        nwdv = NWD_r(nwdv, args[i])\n",
    "    return nwdv\n",
    "\n",
    "NWD(6, 12, 27, 30)"
   ]
  }
 ],
 "metadata": {
  "kernelspec": {
   "display_name": "Python 3",
   "language": "python",
   "name": "python3"
  },
  "language_info": {
   "codemirror_mode": {
    "name": "ipython",
    "version": 3
   },
   "file_extension": ".py",
   "mimetype": "text/x-python",
   "name": "python",
   "nbconvert_exporter": "python",
   "pygments_lexer": "ipython3",
   "version": "3.7.3"
  }
 },
 "nbformat": 4,
 "nbformat_minor": 4
}
