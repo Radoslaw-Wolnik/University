{
 "cells": [
  {
   "cell_type": "code",
   "execution_count": 13,
   "id": "e9445775",
   "metadata": {},
   "outputs": [
    {
     "data": {
      "text/plain": [
       "[9, 8, 7, 6, 5, 4, 3, 2, 1]"
      ]
     },
     "execution_count": 13,
     "metadata": {},
     "output_type": "execute_result"
    }
   ],
   "source": [
    "# zadanie 1\n",
    "\n",
    "def reverse(L):\n",
    "    if len(L) > 1:\n",
    "        return [L[-1]] + reverse(L[:-1])\n",
    "    return L\n",
    "\n",
    "reverse([1,2,3,4,5,6,7,8,9])"
   ]
  },
  {
   "cell_type": "code",
   "execution_count": 14,
   "id": "c4284d58",
   "metadata": {},
   "outputs": [
    {
     "data": {
      "text/plain": [
       "3"
      ]
     },
     "execution_count": 14,
     "metadata": {},
     "output_type": "execute_result"
    }
   ],
   "source": [
    "# zadanie 2\n",
    "# NWD rekurencyjnie dzielenie\n",
    "\n",
    "def euk_r(a,b):\n",
    "    if a < 0 or b < 0:\n",
    "        return 'brak'\n",
    "    if a == 0:\n",
    "        return b\n",
    "    else:\n",
    "        b, a = a, b%a\n",
    "        return euk_r(a, b)\n",
    "            \n",
    "euk_r(6, 21)"
   ]
  },
  {
   "cell_type": "code",
   "execution_count": 15,
   "id": "ce1e5fcc",
   "metadata": {},
   "outputs": [
    {
     "data": {
      "text/plain": [
       "3"
      ]
     },
     "execution_count": 15,
     "metadata": {},
     "output_type": "execute_result"
    }
   ],
   "source": [
    "# NWD rekurencyjnie odejmowanie\n",
    "def euk_r(a,b):\n",
    "    if a < 0 or b < 0:\n",
    "        return 'brak'\n",
    "    if a == b:\n",
    "        return a\n",
    "    else:\n",
    "        if a > b:\n",
    "            a = a - b\n",
    "            return euk_r(a,b)\n",
    "        else:\n",
    "            b = b - a\n",
    "            return euk_r(a,b)\n",
    "            \n",
    "euk_r(21,6)"
   ]
  },
  {
   "cell_type": "code",
   "execution_count": 6,
   "id": "e5d4d445",
   "metadata": {},
   "outputs": [
    {
     "name": "stdout",
     "output_type": "stream",
     "text": [
      "*****\n",
      "****\n",
      "***\n",
      "**\n",
      "*\n"
     ]
    }
   ],
   "source": [
    "# zadanie 3\n",
    "\n",
    "def piramida(num):\n",
    "    for i in range (num, 0, -1):\n",
    "        print('*'*i)\n",
    "        \n",
    "piramida(5)"
   ]
  },
  {
   "cell_type": "code",
   "execution_count": 17,
   "id": "082070ff",
   "metadata": {},
   "outputs": [
    {
     "data": {
      "text/plain": [
       "'1010'"
      ]
     },
     "execution_count": 17,
     "metadata": {},
     "output_type": "execute_result"
    }
   ],
   "source": [
    "# zadanie 4\n",
    "\n",
    "def binary_repr(num):\n",
    "    if num == 1:\n",
    "        return '1'\n",
    "    elif num == 0:\n",
    "        return '0'\n",
    "    else:\n",
    "        return binary_repr(num//2) + str(num%2)\n",
    "    \n",
    "    \n",
    "binary_repr(10)"
   ]
  },
  {
   "cell_type": "code",
   "execution_count": 29,
   "id": "74ec4fda",
   "metadata": {},
   "outputs": [
    {
     "name": "stdout",
     "output_type": "stream",
     "text": [
      "5\n",
      "29\n",
      "125\n"
     ]
    }
   ],
   "source": [
    "# zadanie 5\n",
    "\n",
    "def Ackerman_function(m,n):\n",
    "    if m == 0:\n",
    "        return n + 1\n",
    "    if n == 0:\n",
    "        return Ackerman_function(m-1,1)\n",
    "    return Ackerman_function(m-1, Ackerman_function(m, n-1))\n",
    "\n",
    "print(Ackerman_function(2,1))  # 5\n",
    "print(Ackerman_function(3,2))  # 29\n",
    "print(Ackerman_function(3,4))  # 125\n",
    "# https://en.wikipedia.org/wiki/Ackermann_function#Table_of_values"
   ]
  },
  {
   "cell_type": "code",
   "execution_count": 27,
   "id": "94481784",
   "metadata": {},
   "outputs": [
    {
     "name": "stdout",
     "output_type": "stream",
     "text": [
      "1.8333333333333333\n",
      "1.3611111111111112\n",
      "55\n",
      "15\n"
     ]
    }
   ],
   "source": [
    "# zadanie 6\n",
    "\n",
    "def sum1(i, n):\n",
    "    if i == n:\n",
    "        return 1/n\n",
    "    else:\n",
    "        return 1/i + sum1(i+1,n)\n",
    "\n",
    "print(sum1(1,3))\n",
    "\n",
    "\n",
    "\n",
    "def sum2(i, n):\n",
    "    if i == n:\n",
    "        return 1/(n*n)\n",
    "    else:\n",
    "        return 1/(i*i) + sum2(i+1,n)\n",
    "    \n",
    "print(sum2(1,3))\n",
    "\n",
    "\n",
    "def sum3(i,n):\n",
    "    if i == n:\n",
    "        return n\n",
    "    else:\n",
    "        return i + sum3(i+1,n)\n",
    "    \n",
    "print(sum3(1,10))    # (i+n) * n/2\n",
    "\n",
    "\n",
    "def sum4(i,n):\n",
    "    if i == n:\n",
    "        return 2**n\n",
    "    else:\n",
    "        return 2**i + sum4(i+1,n)\n",
    "    \n",
    "print(sum4(0,3))"
   ]
  },
  {
   "cell_type": "code",
   "execution_count": 1,
   "id": "cc534095",
   "metadata": {},
   "outputs": [
    {
     "name": "stdout",
     "output_type": "stream",
     "text": [
      "[-1, 2, 3, 4, 5, 7]\n",
      "[-8, -3, -3, 0, 2, 4, 4, 5, 7]\n",
      "[-1, 0, 2, 3, 4, 5, 6, 7, 88, 102]\n",
      "[0, 1, 2, 3, 4, 5, 6, 7, 8, 9]\n",
      "[1, 2, 3, 4, 5, 6, 7, 8, 9, 10]\n"
     ]
    }
   ],
   "source": [
    "# zadanie 7\n",
    "# merge sort\n",
    "\n",
    "# pesymistycznie O(nlogn)\n",
    "#\n",
    "# optymistycznie O(nlogn)\n",
    "\n",
    "def merge(left, right):\n",
    "    result = []\n",
    "    #print(left)\n",
    "    #print(right)\n",
    "    while len(left) > 0 and len(right) > 0:\n",
    "        if left[0] > right[0]:\n",
    "            result.append(right[0])\n",
    "            del right[0]\n",
    "        else:\n",
    "            result.append(left[0])\n",
    "            del left[0]\n",
    "   \n",
    "    result += left + right \n",
    "    #print(result)\n",
    "    return result\n",
    "\n",
    "\n",
    "def merge_sort(L):\n",
    "    '''funkcja sortuje liste za pomoca algorytmu scalenia\n",
    "    przyjmuje liste'''\n",
    "    \n",
    "    \n",
    "    if len(L) > 1:\n",
    "        mid = len(L)//2\n",
    "        left = L[:mid]\n",
    "        right = L[mid:]\n",
    "        left = merge_sort(left)\n",
    "        right = merge_sort(right)\n",
    "        return merge(left, right)\n",
    "    else:\n",
    "        return L\n",
    "\n",
    "print(merge_sort([3,5,-1,2,7,4]))\n",
    "print(merge_sort([-3,4,5,7,2,4,-8,0,-3]))\n",
    "print(merge_sort([5, 6, -1, 0, 4, 7, 2, 3, 102, 88]))\n",
    "print(merge_sort([i for i in range (10)]))\n",
    "print(merge_sort([i for i in range (10,0,-1)]))"
   ]
  }
 ],
 "metadata": {
  "kernelspec": {
   "display_name": "Python 3 (ipykernel)",
   "language": "python",
   "name": "python3"
  },
  "language_info": {
   "codemirror_mode": {
    "name": "ipython",
    "version": 3
   },
   "file_extension": ".py",
   "mimetype": "text/x-python",
   "name": "python",
   "nbconvert_exporter": "python",
   "pygments_lexer": "ipython3",
   "version": "3.9.5"
  }
 },
 "nbformat": 4,
 "nbformat_minor": 5
}
