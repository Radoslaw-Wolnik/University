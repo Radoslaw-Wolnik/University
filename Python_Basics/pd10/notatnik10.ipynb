{
 "cells": [
  {
   "cell_type": "code",
   "execution_count": 28,
   "metadata": {},
   "outputs": [],
   "source": [
    "# funkcje lokalne w funkcjach i dekoratory"
   ]
  },
  {
   "cell_type": "code",
   "execution_count": null,
   "metadata": {},
   "outputs": [],
   "source": [
    "# ---------- funkcje lokalne w funkcjach ------------"
   ]
  },
  {
   "cell_type": "code",
   "execution_count": 2,
   "metadata": {},
   "outputs": [],
   "source": [
    "def fun (a, b, c):\n",
    "    b += a + b\n",
    "    return b"
   ]
  },
  {
   "cell_type": "code",
   "execution_count": 5,
   "metadata": {},
   "outputs": [
    {
     "name": "stdout",
     "output_type": "stream",
     "text": [
      "9\n",
      "10000\n"
     ]
    }
   ],
   "source": [
    "def func(funkcja):\n",
    "    z = funkcja(100)\n",
    "    return z\n",
    "\n",
    "def kwadrat(x):\n",
    "    return x**2\n",
    "\n",
    "def przez_trzy(x):\n",
    "    return x/3\n",
    "\n",
    "print(kwadrat(3))\n",
    "print(func(kwadrat)) # argumentem funkcji func jest funkcja kwadrat\n",
    "                     # przekazujemy bez nawiasów okrągłych"
   ]
  },
  {
   "cell_type": "code",
   "execution_count": 29,
   "metadata": {},
   "outputs": [
    {
     "name": "stdout",
     "output_type": "stream",
     "text": [
      "jestem rodzic\n",
      "jestem corka\n",
      "jestem syn\n",
      "--------\n"
     ]
    }
   ],
   "source": [
    "def rodzic():\n",
    "    print('jestem rodzic')\n",
    "    \n",
    "    def syn():\n",
    "        print('jestem syn')\n",
    "        \n",
    "    def corka():\n",
    "        print('jestem corka')\n",
    "        \n",
    "    corka()\n",
    "    syn()\n",
    "    \n",
    "    \n",
    "rodzic()\n",
    "print('--------')\n",
    "#corka()            nie mozna sie odwolac do funkcji corka\n",
    "#rodzic.corka()     poza ciałem funkcji rodzic\n",
    "#rodzic().corka()   w zaden sposob"
   ]
  },
  {
   "cell_type": "code",
   "execution_count": 11,
   "metadata": {},
   "outputs": [
    {
     "name": "stdout",
     "output_type": "stream",
     "text": [
      "jestem rodzic\n"
     ]
    },
    {
     "data": {
      "text/plain": [
       "<function __main__.rodzic.<locals>.corka()>"
      ]
     },
     "execution_count": 11,
     "metadata": {},
     "output_type": "execute_result"
    }
   ],
   "source": [
    "def rodzic(dziecko):\n",
    "    print('jestem rodzic')\n",
    "    \n",
    "    def syn():\n",
    "        print('jestem syn')\n",
    "        \n",
    "    def corka():\n",
    "        print('jestem corka')\n",
    "        \n",
    "        \n",
    "    if dziecko == 'corka':\n",
    "        return corka # nie ma nawiasów okrągłych więc zwraca referencje do funkcji\n",
    "    \n",
    "    elif dziecko == 'syn':\n",
    "        return syn\n",
    "    \n",
    "    else:\n",
    "        print('nie mam innych dzieci')\n",
    "        \n",
    "    return 500\n",
    "\n",
    "rodzic('corka')"
   ]
  },
  {
   "cell_type": "code",
   "execution_count": 13,
   "metadata": {},
   "outputs": [
    {
     "name": "stdout",
     "output_type": "stream",
     "text": [
      "jestem rodzic\n"
     ]
    },
    {
     "data": {
      "text/plain": [
       "function"
      ]
     },
     "execution_count": 13,
     "metadata": {},
     "output_type": "execute_result"
    }
   ],
   "source": [
    "cora = rodzic('corka')\n",
    "type(cora)"
   ]
  },
  {
   "cell_type": "code",
   "execution_count": null,
   "metadata": {},
   "outputs": [],
   "source": [
    "# -------------------- dekoratory ---------------------------- "
   ]
  },
  {
   "cell_type": "code",
   "execution_count": 15,
   "metadata": {},
   "outputs": [],
   "source": [
    "# dekorator\n",
    "def dekorator(funkcja):\n",
    "    def wrapper():\n",
    "        print(f'wywoluje funkcje {funkcja.__name__}')\n",
    "        funkcja()\n",
    "        print('...to tyle na dzis')\n",
    "    return wrapper"
   ]
  },
  {
   "cell_type": "code",
   "execution_count": 16,
   "metadata": {},
   "outputs": [
    {
     "name": "stdout",
     "output_type": "stream",
     "text": [
      "Hello World!\n"
     ]
    }
   ],
   "source": [
    "def hello_world():\n",
    "    print('Hello World!')\n",
    "    \n",
    "hello_world()"
   ]
  },
  {
   "cell_type": "code",
   "execution_count": 17,
   "metadata": {},
   "outputs": [],
   "source": [
    "hello_world = dekorator(hello_world)"
   ]
  },
  {
   "cell_type": "code",
   "execution_count": 18,
   "metadata": {},
   "outputs": [
    {
     "name": "stdout",
     "output_type": "stream",
     "text": [
      "wywoluje funkcje hello_world\n",
      "Hello World!\n",
      "...to tyle na dzis\n"
     ]
    }
   ],
   "source": [
    "hello_world()"
   ]
  },
  {
   "cell_type": "code",
   "execution_count": 19,
   "metadata": {},
   "outputs": [],
   "source": [
    "# raz nadpisana funkcja dekoratorem będzie na zawsze nadpisana tym dekoratorem\n",
    "# jeśli chcemy udekorować funkcję to dekorujemy ją od razu po wywołaniu funkcji\n",
    "# tj brak możliwości odwołania się do nieudekorowanej funkcji\n",
    "\n",
    "# żadna dekoracja nie ingeruje w funkcje "
   ]
  },
  {
   "cell_type": "code",
   "execution_count": 24,
   "metadata": {},
   "outputs": [
    {
     "name": "stdout",
     "output_type": "stream",
     "text": [
      "to jest funkcja Asia\n",
      "doc: Asia bedzie miala dziecko\n",
      "------------------------------------\n",
      "\n",
      "greatings\n"
     ]
    }
   ],
   "source": [
    "# własny dekorator do funkcji hello world\n",
    "def dekorator2(fun):\n",
    "    def wrapper():\n",
    "        print(f'to jest funkcja {fun.__name__}')\n",
    "        print(f'doc: {fun.__doc__}')\n",
    "        print('------------------------------------\\n')\n",
    "        fun()\n",
    "    return wrapper\n",
    "\n",
    "def Asia():\n",
    "    '''Asia bedzie miala dziecko'''\n",
    "    print('greatings')\n",
    "\n",
    "Asia = dekorator2(Asia)\n",
    "Asia()"
   ]
  },
  {
   "cell_type": "code",
   "execution_count": 27,
   "metadata": {},
   "outputs": [
    {
     "name": "stdout",
     "output_type": "stream",
     "text": [
      "wywoluje funkcje kwadrat (4)\n"
     ]
    },
    {
     "data": {
      "text/plain": [
       "16"
      ]
     },
     "execution_count": 27,
     "metadata": {},
     "output_type": "execute_result"
    }
   ],
   "source": [
    "# dekorator z argumentem\n",
    "def dekorator_arg(funkcja):\n",
    "    def wrapper(arg):\n",
    "        print(f'wywoluje funkcje {funkcja.__name__} ({arg})')\n",
    "        x = funkcja(arg)\n",
    "        return x\n",
    "    return wrapper\n",
    "\n",
    "@dekorator_arg   # == kwadrat = dekorator_arg(kwadrat)\n",
    "def kwadrat(x):\n",
    "    return x ** 2\n",
    "\n",
    "kwadrat(4)"
   ]
  },
  {
   "cell_type": "code",
   "execution_count": 39,
   "metadata": {},
   "outputs": [
    {
     "name": "stdout",
     "output_type": "stream",
     "text": [
      "funkcja ctg\n",
      "zwraca wartosc cotangens 20\n"
     ]
    },
    {
     "data": {
      "text/plain": [
       "0.44699510894891664"
      ]
     },
     "execution_count": 39,
     "metadata": {},
     "output_type": "execute_result"
    }
   ],
   "source": [
    "# cotangens liczby\n",
    "from math import sin, cos\n",
    "def dekorator_ctg(fun):\n",
    "    def wrapper(arg):\n",
    "        print(f'funkcja {fun.__name__}')\n",
    "        print(f'zwraca wartosc cotangens {arg}')\n",
    "        x = fun(arg)\n",
    "        return x\n",
    "    return wrapper\n",
    "\n",
    "@dekorator_ctg\n",
    "def ctg(x):\n",
    "    x = cos(x)/sin(x)\n",
    "    return x\n",
    "\n",
    "ctg(20)"
   ]
  },
  {
   "cell_type": "code",
   "execution_count": 40,
   "metadata": {},
   "outputs": [],
   "source": [
    "# -------------------- klasa jako dekorator -------------------"
   ]
  },
  {
   "cell_type": "code",
   "execution_count": 44,
   "metadata": {},
   "outputs": [],
   "source": [
    "class dekorator:\n",
    "    \n",
    "    def __init__(self, fun):\n",
    "        self.fun = fun\n",
    "        \n",
    "    def __call__(self, *args, **kwargs):\n",
    "        print(f'Wolamy funkcje {self.fun.__name__}')\n",
    "        ret = self.fun(*args, **kwargs)\n",
    "        return ret\n",
    "\n",
    "@dekorator\n",
    "def szescian(x):\n",
    "    return x**3"
   ]
  },
  {
   "cell_type": "code",
   "execution_count": 45,
   "metadata": {},
   "outputs": [
    {
     "name": "stdout",
     "output_type": "stream",
     "text": [
      "Wolamy funkcje szescian\n"
     ]
    },
    {
     "data": {
      "text/plain": [
       "27"
      ]
     },
     "execution_count": 45,
     "metadata": {},
     "output_type": "execute_result"
    }
   ],
   "source": [
    "szescian(3)"
   ]
  },
  {
   "cell_type": "code",
   "execution_count": 46,
   "metadata": {},
   "outputs": [
    {
     "name": "stdout",
     "output_type": "stream",
     "text": [
      "Wolamy funkcje sin\n"
     ]
    },
    {
     "data": {
      "text/plain": [
       "0.9092974268256817"
      ]
     },
     "execution_count": 46,
     "metadata": {},
     "output_type": "execute_result"
    }
   ],
   "source": [
    "from math import sin\n",
    "sin = dekorator(sin)\n",
    "sin(2)"
   ]
  },
  {
   "cell_type": "code",
   "execution_count": 50,
   "metadata": {},
   "outputs": [],
   "source": [
    "class dekorator:    \n",
    "    def __init__(self, fun):\n",
    "        self.fun = fun\n",
    "        \n",
    "    def __call__(self, *args, **kwargs):\n",
    "        print(f'Wolamy funkcje {self.fun.__name__}')\n",
    "        print(f'przekazane do funkcji argumenty: {args, kwargs}')\n",
    "        print(f'docstring:\\n{self.fun.__doc__}')\n",
    "        print('------------------------------------------------------')\n",
    "        res = self.fun(*args, **kwargs)\n",
    "        return res\n",
    "\n",
    "@dekorator\n",
    "def mnozenie(x, y, z):\n",
    "    '''do funkcji przekazane są 3 argumenty x, y, z\n",
    "    funkcja zwraca pomnożone przez siebie argumenty'''\n",
    "    return x * y * z"
   ]
  },
  {
   "cell_type": "code",
   "execution_count": 51,
   "metadata": {},
   "outputs": [
    {
     "name": "stdout",
     "output_type": "stream",
     "text": [
      "Wolamy funkcje mnozenie\n",
      "przekazane do funkcji argumenty: ((1, 2, 3), {})\n",
      "docstring:\n",
      "do funkcji przekazane są 3 argumenty x, y, z\n",
      "    funkcja zwraca pomnożone przez siebie argumenty\n",
      "------------------------------------------------------\n"
     ]
    },
    {
     "data": {
      "text/plain": [
       "6"
      ]
     },
     "execution_count": 51,
     "metadata": {},
     "output_type": "execute_result"
    }
   ],
   "source": [
    "mnozenie(1,2,3)"
   ]
  },
  {
   "cell_type": "code",
   "execution_count": null,
   "metadata": {},
   "outputs": [],
   "source": []
  }
 ],
 "metadata": {
  "kernelspec": {
   "display_name": "Python 3",
   "language": "python",
   "name": "python3"
  },
  "language_info": {
   "codemirror_mode": {
    "name": "ipython",
    "version": 3
   },
   "file_extension": ".py",
   "mimetype": "text/x-python",
   "name": "python",
   "nbconvert_exporter": "python",
   "pygments_lexer": "ipython3",
   "version": "3.7.3"
  }
 },
 "nbformat": 4,
 "nbformat_minor": 2
}
