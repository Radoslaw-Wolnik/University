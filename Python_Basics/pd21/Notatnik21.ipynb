{
 "cells": [
  {
   "cell_type": "code",
   "execution_count": 40,
   "id": "53417558",
   "metadata": {},
   "outputs": [
    {
     "data": {
      "text/plain": [
       "3"
      ]
     },
     "execution_count": 40,
     "metadata": {},
     "output_type": "execute_result"
    }
   ],
   "source": [
    "# zadanie 1\n",
    "def min_for(L):\n",
    "    '''funkcja wyznacza element minimalny w liście za pomocą petli for'''\n",
    "    min = L[0]\n",
    "    for el in L:\n",
    "        if el < min:\n",
    "            min = el\n",
    "    return min\n",
    "\n",
    "Lista = [67, 32, 31, 3, 5, 722, 81, 79, 83, 123, 393]\n",
    "min_for(Lista)"
   ]
  },
  {
   "cell_type": "code",
   "execution_count": 42,
   "id": "5c407d4e",
   "metadata": {},
   "outputs": [
    {
     "data": {
      "text/plain": [
       "3"
      ]
     },
     "execution_count": 42,
     "metadata": {},
     "output_type": "execute_result"
    }
   ],
   "source": [
    "# zadanie 2\n",
    "# zlozonosc algorytmu = O(n)\n",
    "\n",
    "def min_while(L):\n",
    "    '''funkcja wyznacza element minimalny w liście za pomocą petli while'''\n",
    "    min = L[0]\n",
    "    i = 0\n",
    "    while i < len(L):\n",
    "        if L[i] < min:\n",
    "            min = L[i]\n",
    "        i+=1\n",
    "    return min\n",
    "\n",
    "Lista = [67, 32, 31, 3, 5, 722, 81, 79, 83, 123, 393]\n",
    "min_while(Lista)"
   ]
  },
  {
   "cell_type": "code",
   "execution_count": 51,
   "id": "7733264a",
   "metadata": {},
   "outputs": [
    {
     "data": {
      "text/plain": [
       "3"
      ]
     },
     "execution_count": 51,
     "metadata": {},
     "output_type": "execute_result"
    }
   ],
   "source": [
    "# zadanie 3\n",
    "def min_idx_min(L):\n",
    "    '''funkcja wyznacza namniejszy indeks elemntu minimalenego w liscie'''\n",
    "    min = 0\n",
    "    for i in range(len(L)):\n",
    "        if L[i] < L[min]:\n",
    "            min = i    \n",
    "    return min\n",
    "\n",
    "Lista = [67, 32, 31, 3, 5, 722, 81, 3, 79, 83, 123, 393]\n",
    "min_idx_min(Lista)"
   ]
  },
  {
   "cell_type": "code",
   "execution_count": 52,
   "id": "1df28de2",
   "metadata": {},
   "outputs": [
    {
     "data": {
      "text/plain": [
       "7"
      ]
     },
     "execution_count": 52,
     "metadata": {},
     "output_type": "execute_result"
    }
   ],
   "source": [
    "# zadanie 4\n",
    "def min_idx_max(L):\n",
    "    '''funkcja wyznacza najwekszy indeks elemntu minimalenego w liscie'''\n",
    "    min = 0\n",
    "    for i in range(len(L)):\n",
    "        if L[i] <= L[min]:\n",
    "            min = i\n",
    "    return min\n",
    "\n",
    "Lista = [67, 32, 31, 3, 5, 722, 81, 3, 79, 83, 123, 393]\n",
    "min_idx_max(Lista)"
   ]
  },
  {
   "cell_type": "code",
   "execution_count": 55,
   "id": "b4eb75ec",
   "metadata": {},
   "outputs": [
    {
     "name": "stdout",
     "output_type": "stream",
     "text": [
      "722\n",
      "722\n",
      "5\n",
      "8\n"
     ]
    }
   ],
   "source": [
    "# zadanie 5\n",
    "\n",
    "def max_for(L):\n",
    "    '''funkcja wyznacza element maxymalny w liście za pomocą petli for'''\n",
    "    max = L[0]\n",
    "    for el in L:\n",
    "        if el > max:\n",
    "            max = el    \n",
    "    return max\n",
    "\n",
    "def max_while(L):\n",
    "    '''funkcja wyznacza element maxymalny w liście za pomocą petli while'''\n",
    "    max = L[0]\n",
    "    i = 0\n",
    "    while i < len(L):\n",
    "        if L[i] > max:\n",
    "            max = L[i]\n",
    "        i+=1   \n",
    "    return max\n",
    "\n",
    "def max_idx_min(L):\n",
    "    '''funkcja wyznacza najmniejszy indeks elemntu maxymalnego w liscie'''\n",
    "    max = 0\n",
    "    for i in range(len(L)):\n",
    "        if L[i] > L[max]:\n",
    "            max = i\n",
    "    return max\n",
    "\n",
    "def max_idx_max(L):\n",
    "    '''funkcja wyznacza najwekszy indeks elemntu maxymalnego w liscie'''\n",
    "    max = 0\n",
    "    for i in range(len(L)):\n",
    "        if L[i] >= L[max]:\n",
    "            max = i \n",
    "    return max\n",
    "\n",
    "\n",
    "Lista = [67, 32, 31, 3, 5, 722, 81, 3, 722, 79, 83, 123, 393]\n",
    "print(max_for(Lista))\n",
    "print(max_while(Lista))\n",
    "print(max_idx_min(Lista))\n",
    "print(max_idx_max(Lista))"
   ]
  },
  {
   "cell_type": "code",
   "execution_count": 11,
   "id": "b418e7ad",
   "metadata": {},
   "outputs": [
    {
     "data": {
      "text/plain": [
       "{'min': -43, 'max': 87}"
      ]
     },
     "execution_count": 11,
     "metadata": {},
     "output_type": "execute_result"
    }
   ],
   "source": [
    "# zadanie 6\n",
    "# wyszukiwanie max min jednocześnie\n",
    "\n",
    "def min_max_it(L):\n",
    "    '''funkcja wyznacza minimalną i maksymalną wartość w liście\n",
    "    przyjmuje liste\n",
    "    zwraca słownik: {'min' : min, 'max' : max}\n",
    "    zlozonosc obliczeniowa: 3/2 * n - 2 dla parzystych len(L)\n",
    "    zlozonosc obliczeniowa: 3/2 * n - 3/2 dla nieparzystych len(L)'''\n",
    "    i = 0\n",
    "    if len(L)%2 == 1:\n",
    "        i = 1\n",
    "    min = L[0]\n",
    "    max = L[0]\n",
    "    while i < len(L):\n",
    "        if L[i] > L[i+1]:\n",
    "            if L[i] > max:\n",
    "                max = L[i]\n",
    "            if L[i+1] < min:\n",
    "                min = L[i+1]\n",
    "        else:\n",
    "            if L[i] < min:\n",
    "                min = L[i]\n",
    "            if L[i+1] > max:\n",
    "                max = L[i+1]\n",
    "        i+=2\n",
    "    return {'min' : min, 'max' : max}\n",
    "\n",
    "min_max_it([2,3,7,1,-1,2,87,23,54,-23,-43])"
   ]
  },
  {
   "cell_type": "code",
   "execution_count": 71,
   "id": "749734f0",
   "metadata": {},
   "outputs": [
    {
     "name": "stdout",
     "output_type": "stream",
     "text": [
      "17\n",
      "-4320\n",
      "2.4285714285714284\n",
      "3.8333333333333335\n",
      "-5385\n",
      "43\n"
     ]
    }
   ],
   "source": [
    "# zadanie 7\n",
    "\n",
    "# suma\n",
    "def suma(L):\n",
    "    suma = 0\n",
    "    for el in L:\n",
    "        suma += el\n",
    "    return suma\n",
    "\n",
    "def iloczyn(L):\n",
    "    iloczyn = 1\n",
    "    for el in L:\n",
    "        iloczyn *= el\n",
    "    return iloczyn\n",
    "\n",
    "def average(L):\n",
    "    return suma(L)/len(L)\n",
    "\n",
    "def avr_N(L):\n",
    "    i = 0\n",
    "    suma = 0\n",
    "    \n",
    "    for el in L:\n",
    "        if el > 0:\n",
    "            suma += el\n",
    "            i += 1\n",
    "    if i > 0:\n",
    "        return suma/i\n",
    "    return 'Brak el dodatnich'\n",
    "\n",
    "def sum_iloczyn(L):\n",
    "    iloczyn = 1\n",
    "    suma = 0\n",
    "    for el in L:\n",
    "        iloczyn*= el\n",
    "        suma += iloczyn\n",
    "    return suma\n",
    "        \n",
    "        \n",
    "def w_od_x(L, x):\n",
    "    '''Horner'''\n",
    "    L.reverse()\n",
    "    val = 0\n",
    "    \n",
    "    for el in L[:-1]:\n",
    "        val = (val + el) * x\n",
    "    val += L[-1]\n",
    "    return val\n",
    "\n",
    "\n",
    "Lista = [3, 4, -6, 2, 3, 1, 10]\n",
    "print(suma(Lista))\n",
    "print(iloczyn(Lista))\n",
    "print(average(Lista))\n",
    "print(avr_N(Lista))\n",
    "print(sum_iloczyn(Lista))\n",
    "print(w_od_x([11, -2, 3, 3], 2))"
   ]
  },
  {
   "cell_type": "code",
   "execution_count": 64,
   "id": "3d9a3a11",
   "metadata": {},
   "outputs": [
    {
     "name": "stdout",
     "output_type": "stream",
     "text": [
      "0\n",
      "1\n",
      "6\n",
      "5\n",
      "None\n"
     ]
    }
   ],
   "source": [
    "# zadanie 8\n",
    "# binary search\n",
    "# optymistyczna O(1)\n",
    "# srednia O(logn)\n",
    "# pesymistyczna O(logn)\n",
    "\n",
    "def binary_search(L, search):\n",
    "    low = 0\n",
    "    high = len(L)\n",
    "    idx = 0\n",
    "    while len(L) > 1:\n",
    "        mid = len(L)//2\n",
    "        if search == L[mid]:\n",
    "            return idx + mid\n",
    "        if search < L[mid]:\n",
    "            L = L[low:mid]\n",
    "            continue\n",
    "        if search > L[mid]:\n",
    "            L = L[mid:high]\n",
    "            idx += mid\n",
    "            \n",
    "    if L[0] != search:\n",
    "        return None\n",
    "    return idx\n",
    "\n",
    "\n",
    "Lista = [1, 2, 3, 43, 52, 72, 81, 82, 83, 123]\n",
    "print(binary_search(Lista, 1))\n",
    "print(binary_search(Lista, 2))\n",
    "print(binary_search(Lista, 81))\n",
    "print(binary_search(Lista, 72))\n",
    "print(binary_search(Lista, 393))"
   ]
  }
 ],
 "metadata": {
  "kernelspec": {
   "display_name": "Python 3 (ipykernel)",
   "language": "python",
   "name": "python3"
  },
  "language_info": {
   "codemirror_mode": {
    "name": "ipython",
    "version": 3
   },
   "file_extension": ".py",
   "mimetype": "text/x-python",
   "name": "python",
   "nbconvert_exporter": "python",
   "pygments_lexer": "ipython3",
   "version": "3.9.5"
  }
 },
 "nbformat": 4,
 "nbformat_minor": 5
}
