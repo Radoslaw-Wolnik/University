{
 "cells": [
  {
   "cell_type": "code",
   "execution_count": 1,
   "metadata": {},
   "outputs": [],
   "source": [
    "# oglądane 07.06\n",
    "# dziedziczenie wielokrotne"
   ]
  },
  {
   "cell_type": "code",
   "execution_count": 23,
   "metadata": {},
   "outputs": [
    {
     "name": "stdout",
     "output_type": "stream",
     "text": [
      "Prostokat o bokach a: 2 x b: 4\n",
      "Pole: 8, Obw: 12\n",
      "Prostokat o bokach a: 3 x b: 3\n",
      "Pole: 9, Obw: 12\n"
     ]
    },
    {
     "data": {
      "text/plain": [
       "False"
      ]
     },
     "execution_count": 23,
     "metadata": {},
     "output_type": "execute_result"
    }
   ],
   "source": [
    "class Prostokat():\n",
    "    ''''''\n",
    "    def __init__(self, a, b):\n",
    "        self.a = a\n",
    "        self.b = b\n",
    "        \n",
    "    def pole(self):\n",
    "        return self.a * self.b\n",
    "    \n",
    "    def obwod(self):\n",
    "        return (self.a + self.b) * 2\n",
    "    \n",
    "    def __str__(self):\n",
    "        return f'Prostokat o bokach a: {self.a} x b: {self.b}\\n' + f'Pole: {self.pole()}, Obw: {self.obwod()}'\n",
    "    \n",
    "    def czy_wieksze(self, other): # instancja wlasna - self; instancja inna tej samej kalsy - other\n",
    "        if self.pole() > other.pole():\n",
    "            return True\n",
    "        else:\n",
    "            return False\n",
    "        \n",
    "    def czy_mniejsze(self, other):\n",
    "        if self.pole() < other.pole():\n",
    "            return True\n",
    "        else:\n",
    "            return False\n",
    "        \n",
    "        # mniejsze lub rowne\n",
    "        #if self.pole() > other.pole():\n",
    "        #    return not True\n",
    "        #else:\n",
    "        #    return not False\n",
    "        \n",
    "    def czy_mniejsze_lub_rowne(self, other):\n",
    "        return not self.czy_wieksze(other)\n",
    "        \n",
    "    def czy_rowny(self, other):\n",
    "        #assert isinstance(other, Prostokat)\n",
    "        return self.pole() == other.pole()\n",
    "    \n",
    "    # funkcja specjalna oprogramowywujaca operator >\n",
    "    def __gt__(self, other):\n",
    "        return self.pole() > other.pole()\n",
    "    # jesli stwozy sie jedna funkcje specjalna __gt__ etc to reszta tworzy sie automatycznie, idk czy dzialaja dobrze\n",
    "    # albo automatycznie tworzy sie mozliwosc porownywania instancji tej klasy w KAZDY sposob\n",
    "        \n",
    "    \n",
    "p1 = Prostokat(2, 4)\n",
    "print(p1)\n",
    "p2 = Prostokat(3, 3)\n",
    "print(p2)\n",
    "\n",
    "p1.czy_wieksze(p2)\n",
    "#p1.czy_rowny(p2)"
   ]
  },
  {
   "cell_type": "code",
   "execution_count": 24,
   "metadata": {},
   "outputs": [
    {
     "name": "stdout",
     "output_type": "stream",
     "text": [
      "p1 < p2\n"
     ]
    }
   ],
   "source": [
    "if p1.pole() > p2.pole():\n",
    "    print('p1 > p2')\n",
    "elif p1.pole() == p2.pole():\n",
    "    print('rowne')\n",
    "else:\n",
    "    print('p1 < p2')"
   ]
  },
  {
   "cell_type": "code",
   "execution_count": 25,
   "metadata": {},
   "outputs": [
    {
     "name": "stdout",
     "output_type": "stream",
     "text": [
      "rowne\n"
     ]
    }
   ],
   "source": [
    "if p1.obwod() > p2.obwod():\n",
    "    print('p1 > p2')\n",
    "elif p1.obwod() == p2.obwod():\n",
    "    print('rowne')\n",
    "else:\n",
    "    print('p1 < p2')"
   ]
  },
  {
   "cell_type": "code",
   "execution_count": 26,
   "metadata": {},
   "outputs": [
    {
     "data": {
      "text/plain": [
       "False"
      ]
     },
     "execution_count": 26,
     "metadata": {},
     "output_type": "execute_result"
    }
   ],
   "source": [
    "1 > 2\n",
    "# python daje mozliwosc oprogramowania operatorow '>', '<', itd\n",
    "\n",
    "# funkcja specjalna oprogramowywujaca operator >\n",
    "#    def __gt__(self, other):\n",
    "#        return self.pole() > other.pole()\n",
    "p1 > p2\n",
    "\n",
    "# def __lt__ <\n",
    "# def __eq__ ==\n",
    "# def __le__ <=\n",
    "# def __ge__ >=\n",
    " "
   ]
  },
  {
   "cell_type": "code",
   "execution_count": 28,
   "metadata": {},
   "outputs": [
    {
     "data": {
      "text/plain": [
       "0"
      ]
     },
     "execution_count": 28,
     "metadata": {},
     "output_type": "execute_result"
    }
   ],
   "source": [
    "x = 1\n",
    "x.bit_length\n",
    "x.conjugate\n",
    "x.denominator\n",
    "x.from_bytes\n",
    "x.imag\n",
    "# itd\n",
    "# jest cala masa funkcji specjalnych dla int"
   ]
  },
  {
   "cell_type": "markdown",
   "metadata": {},
   "source": [
    "### Dziedziczenie wielokrotne"
   ]
  },
  {
   "cell_type": "code",
   "execution_count": 10,
   "metadata": {},
   "outputs": [
    {
     "name": "stdout",
     "output_type": "stream",
     "text": [
      "Wlasciciel Pan/Pani/Oni/Xe: Calka, bilans: 2000\n",
      "Wlasciciel Pan/Pani/Oni/Xe: Calka, bilans: 2100\n",
      "Wlasciciel Pan/Pani/Oni/Xe: Calka, bilans: 1100\n"
     ]
    },
    {
     "ename": "AssertionError",
     "evalue": "U re broke",
     "output_type": "error",
     "traceback": [
      "\u001b[0;31m---------------------------------------------------------------------------\u001b[0m",
      "\u001b[0;31mAssertionError\u001b[0m                            Traceback (most recent call last)",
      "\u001b[0;32m<ipython-input-10-44c25c797ddc>\u001b[0m in \u001b[0;36m<module>\u001b[0;34m\u001b[0m\n\u001b[1;32m     20\u001b[0m \u001b[0mxdx\u001b[0m\u001b[0;34m.\u001b[0m\u001b[0mget_money\u001b[0m\u001b[0;34m(\u001b[0m\u001b[0;36m1000\u001b[0m\u001b[0;34m)\u001b[0m\u001b[0;34m\u001b[0m\u001b[0;34m\u001b[0m\u001b[0m\n\u001b[1;32m     21\u001b[0m \u001b[0mprint\u001b[0m\u001b[0;34m(\u001b[0m\u001b[0mxdx\u001b[0m\u001b[0;34m)\u001b[0m\u001b[0;34m\u001b[0m\u001b[0;34m\u001b[0m\u001b[0m\n\u001b[0;32m---> 22\u001b[0;31m \u001b[0mxdx\u001b[0m\u001b[0;34m.\u001b[0m\u001b[0mget_money\u001b[0m\u001b[0;34m(\u001b[0m\u001b[0;36m100000000\u001b[0m\u001b[0;34m)\u001b[0m\u001b[0;34m\u001b[0m\u001b[0;34m\u001b[0m\u001b[0m\n\u001b[0m\u001b[1;32m     23\u001b[0m \u001b[0mprint\u001b[0m\u001b[0;34m(\u001b[0m\u001b[0mxdx\u001b[0m\u001b[0;34m)\u001b[0m\u001b[0;34m\u001b[0m\u001b[0;34m\u001b[0m\u001b[0m\n",
      "\u001b[0;32m<ipython-input-10-44c25c797ddc>\u001b[0m in \u001b[0;36mget_money\u001b[0;34m(self, val)\u001b[0m\n\u001b[1;32m      8\u001b[0m \u001b[0;34m\u001b[0m\u001b[0m\n\u001b[1;32m      9\u001b[0m     \u001b[0;32mdef\u001b[0m \u001b[0mget_money\u001b[0m\u001b[0;34m(\u001b[0m\u001b[0mself\u001b[0m\u001b[0;34m,\u001b[0m \u001b[0mval\u001b[0m\u001b[0;34m)\u001b[0m\u001b[0;34m:\u001b[0m\u001b[0;34m\u001b[0m\u001b[0;34m\u001b[0m\u001b[0m\n\u001b[0;32m---> 10\u001b[0;31m         \u001b[0;32massert\u001b[0m \u001b[0mval\u001b[0m \u001b[0;34m<=\u001b[0m \u001b[0mself\u001b[0m\u001b[0;34m.\u001b[0m\u001b[0mbilans\u001b[0m\u001b[0;34m,\u001b[0m \u001b[0;34m'U re broke'\u001b[0m\u001b[0;34m\u001b[0m\u001b[0;34m\u001b[0m\u001b[0m\n\u001b[0m\u001b[1;32m     11\u001b[0m         \u001b[0mself\u001b[0m\u001b[0;34m.\u001b[0m\u001b[0madd_money\u001b[0m\u001b[0;34m(\u001b[0m\u001b[0;34m-\u001b[0m\u001b[0mval\u001b[0m\u001b[0;34m)\u001b[0m\u001b[0;34m\u001b[0m\u001b[0;34m\u001b[0m\u001b[0m\n\u001b[1;32m     12\u001b[0m \u001b[0;34m\u001b[0m\u001b[0m\n",
      "\u001b[0;31mAssertionError\u001b[0m: U re broke"
     ]
    }
   ],
   "source": [
    "class Konto:\n",
    "    def __init__(self, wlasciciel, bilans = 0):\n",
    "        self.wlasciciel = wlasciciel\n",
    "        self.bilans = bilans\n",
    "        \n",
    "    def add_money(self, val):\n",
    "        self.bilans += val\n",
    "    \n",
    "    def get_money(self, val):\n",
    "        assert val <= self.bilans, 'U re broke'\n",
    "        self.add_money(-val)\n",
    "        \n",
    "    def __str__(self):\n",
    "        return f'Wlasciciel Pan/Pani/Oni/Xe: {self.wlasciciel}, bilans: {self.bilans}'\n",
    "        \n",
    "xdx = Konto('Calka', 2000)\n",
    "print(xdx)\n",
    "xdx.add_money(100)\n",
    "print(xdx)\n",
    "xdx.get_money(1000)\n",
    "print(xdx)\n",
    "xdx.get_money(100000000)\n",
    "print(xdx)"
   ]
  },
  {
   "cell_type": "code",
   "execution_count": 11,
   "metadata": {},
   "outputs": [
    {
     "name": "stdout",
     "output_type": "stream",
     "text": [
      "Wlasciciel Pan/Pani/Oni/Xe: Cristof, bilans: 300\n",
      "Wlasciciel Pan/Pani/Oni/Xe: Cristof, bilans: -600\n"
     ]
    },
    {
     "ename": "AssertionError",
     "evalue": "U re broke my friend",
     "output_type": "error",
     "traceback": [
      "\u001b[0;31m---------------------------------------------------------------------------\u001b[0m",
      "\u001b[0;31mAssertionError\u001b[0m                            Traceback (most recent call last)",
      "\u001b[0;32m<ipython-input-11-85d1ad8d8624>\u001b[0m in \u001b[0;36m<module>\u001b[0;34m\u001b[0m\n\u001b[1;32m     12\u001b[0m \u001b[0mprint\u001b[0m\u001b[0;34m(\u001b[0m\u001b[0mCristof\u001b[0m\u001b[0;34m)\u001b[0m\u001b[0;34m\u001b[0m\u001b[0;34m\u001b[0m\u001b[0m\n\u001b[1;32m     13\u001b[0m \u001b[0;34m\u001b[0m\u001b[0m\n\u001b[0;32m---> 14\u001b[0;31m \u001b[0;32mif\u001b[0m \u001b[0mCristof\u001b[0m\u001b[0;34m.\u001b[0m\u001b[0mget_money\u001b[0m\u001b[0;34m(\u001b[0m\u001b[0;36m410\u001b[0m\u001b[0;34m)\u001b[0m \u001b[0;34m==\u001b[0m \u001b[0mAssertionError\u001b[0m\u001b[0;34m(\u001b[0m\u001b[0;34m'U re broke my friend'\u001b[0m\u001b[0;34m)\u001b[0m\u001b[0;34m:\u001b[0m\u001b[0;34m\u001b[0m\u001b[0;34m\u001b[0m\u001b[0m\n\u001b[0m\u001b[1;32m     15\u001b[0m     \u001b[0mprint\u001b[0m\u001b[0;34m(\u001b[0m\u001b[0;34m'sadly'\u001b[0m\u001b[0;34m)\u001b[0m\u001b[0;34m\u001b[0m\u001b[0;34m\u001b[0m\u001b[0m\n\u001b[1;32m     16\u001b[0m \u001b[0;31m#print(Cristof)\u001b[0m\u001b[0;34m\u001b[0m\u001b[0;34m\u001b[0m\u001b[0;34m\u001b[0m\u001b[0m\n",
      "\u001b[0;32m<ipython-input-11-85d1ad8d8624>\u001b[0m in \u001b[0;36mget_money\u001b[0;34m(self, val)\u001b[0m\n\u001b[1;32m      3\u001b[0m \u001b[0;34m\u001b[0m\u001b[0m\n\u001b[1;32m      4\u001b[0m     \u001b[0;32mdef\u001b[0m \u001b[0mget_money\u001b[0m\u001b[0;34m(\u001b[0m\u001b[0mself\u001b[0m\u001b[0;34m,\u001b[0m \u001b[0mval\u001b[0m\u001b[0;34m)\u001b[0m\u001b[0;34m:\u001b[0m\u001b[0;34m\u001b[0m\u001b[0;34m\u001b[0m\u001b[0m\n\u001b[0;32m----> 5\u001b[0;31m         \u001b[0;32massert\u001b[0m \u001b[0mval\u001b[0m \u001b[0;34m<=\u001b[0m \u001b[0;34m(\u001b[0m\u001b[0mself\u001b[0m\u001b[0;34m.\u001b[0m\u001b[0mbilans\u001b[0m \u001b[0;34m+\u001b[0m \u001b[0mKontoDebetowe\u001b[0m\u001b[0;34m.\u001b[0m\u001b[0mdebet\u001b[0m\u001b[0;34m)\u001b[0m\u001b[0;34m,\u001b[0m \u001b[0;34m'U re broke my friend'\u001b[0m\u001b[0;34m\u001b[0m\u001b[0;34m\u001b[0m\u001b[0m\n\u001b[0m\u001b[1;32m      6\u001b[0m         \u001b[0mself\u001b[0m\u001b[0;34m.\u001b[0m\u001b[0madd_money\u001b[0m\u001b[0;34m(\u001b[0m\u001b[0;34m-\u001b[0m\u001b[0mval\u001b[0m\u001b[0;34m)\u001b[0m\u001b[0;34m\u001b[0m\u001b[0;34m\u001b[0m\u001b[0m\n\u001b[1;32m      7\u001b[0m \u001b[0;34m\u001b[0m\u001b[0m\n",
      "\u001b[0;31mAssertionError\u001b[0m: U re broke my friend"
     ]
    }
   ],
   "source": [
    "class KontoDebetowe(Konto):\n",
    "    debet = 1000\n",
    "    \n",
    "    def get_money(self, val):\n",
    "        assert val <= (self.bilans + KontoDebetowe.debet), 'U re broke my friend'\n",
    "        self.add_money(-val)\n",
    "\n",
    "Cristof = KontoDebetowe('Cristof', 300)\n",
    "print(Cristof)\n",
    "\n",
    "Cristof.get_money(900)\n",
    "print(Cristof)\n",
    "\n",
    "if Cristof.get_money(410) == AssertionError('U re broke my friend'):\n",
    "    print('sadly')\n",
    "#print(Cristof)"
   ]
  },
  {
   "cell_type": "code",
   "execution_count": 15,
   "metadata": {},
   "outputs": [
    {
     "name": "stdout",
     "output_type": "stream",
     "text": [
      "Wlasciciel Pan/Pani/Oni/Xe: Marek, bilans: 206\n",
      "Wlasciciel Pan/Pani/Oni/Xe: Marek, bilans: 201\n"
     ]
    },
    {
     "ename": "AssertionError",
     "evalue": "U re broke",
     "output_type": "error",
     "traceback": [
      "\u001b[0;31m---------------------------------------------------------------------------\u001b[0m",
      "\u001b[0;31mAssertionError\u001b[0m                            Traceback (most recent call last)",
      "\u001b[0;32m<ipython-input-15-b390a7b9c49e>\u001b[0m in \u001b[0;36m<module>\u001b[0;34m\u001b[0m\n\u001b[1;32m     14\u001b[0m \u001b[0mMarek\u001b[0m\u001b[0;34m.\u001b[0m\u001b[0mget_money\u001b[0m\u001b[0;34m(\u001b[0m\u001b[0;36m5\u001b[0m\u001b[0;34m)\u001b[0m\u001b[0;34m\u001b[0m\u001b[0;34m\u001b[0m\u001b[0m\n\u001b[1;32m     15\u001b[0m \u001b[0mprint\u001b[0m\u001b[0;34m(\u001b[0m\u001b[0mMarek\u001b[0m\u001b[0;34m)\u001b[0m\u001b[0;34m\u001b[0m\u001b[0;34m\u001b[0m\u001b[0m\n\u001b[0;32m---> 16\u001b[0;31m \u001b[0mMarek\u001b[0m\u001b[0;34m.\u001b[0m\u001b[0mget_money\u001b[0m\u001b[0;34m(\u001b[0m\u001b[0;36m202\u001b[0m\u001b[0;34m)\u001b[0m\u001b[0;34m\u001b[0m\u001b[0;34m\u001b[0m\u001b[0m\n\u001b[0m",
      "\u001b[0;32m<ipython-input-10-44c25c797ddc>\u001b[0m in \u001b[0;36mget_money\u001b[0;34m(self, val)\u001b[0m\n\u001b[1;32m      8\u001b[0m \u001b[0;34m\u001b[0m\u001b[0m\n\u001b[1;32m      9\u001b[0m     \u001b[0;32mdef\u001b[0m \u001b[0mget_money\u001b[0m\u001b[0;34m(\u001b[0m\u001b[0mself\u001b[0m\u001b[0;34m,\u001b[0m \u001b[0mval\u001b[0m\u001b[0;34m)\u001b[0m\u001b[0;34m:\u001b[0m\u001b[0;34m\u001b[0m\u001b[0;34m\u001b[0m\u001b[0m\n\u001b[0;32m---> 10\u001b[0;31m         \u001b[0;32massert\u001b[0m \u001b[0mval\u001b[0m \u001b[0;34m<=\u001b[0m \u001b[0mself\u001b[0m\u001b[0;34m.\u001b[0m\u001b[0mbilans\u001b[0m\u001b[0;34m,\u001b[0m \u001b[0;34m'U re broke'\u001b[0m\u001b[0;34m\u001b[0m\u001b[0;34m\u001b[0m\u001b[0m\n\u001b[0m\u001b[1;32m     11\u001b[0m         \u001b[0mself\u001b[0m\u001b[0;34m.\u001b[0m\u001b[0madd_money\u001b[0m\u001b[0;34m(\u001b[0m\u001b[0;34m-\u001b[0m\u001b[0mval\u001b[0m\u001b[0;34m)\u001b[0m\u001b[0;34m\u001b[0m\u001b[0;34m\u001b[0m\u001b[0m\n\u001b[1;32m     12\u001b[0m \u001b[0;34m\u001b[0m\u001b[0m\n",
      "\u001b[0;31mAssertionError\u001b[0m: U re broke"
     ]
    }
   ],
   "source": [
    "class KontoOszczednosciowe(Konto):\n",
    "    premia = 1\n",
    "    \n",
    "    def add_money(self, val):\n",
    "        if val > 0:\n",
    "            self.bilans += val + __class__.premia\n",
    "        else:\n",
    "            self.bilans += val\n",
    "        \n",
    "        \n",
    "Marek = KontoOszczednosciowe('Marek', 200)\n",
    "Marek.add_money(5)\n",
    "print(Marek)\n",
    "Marek.get_money(5)\n",
    "print(Marek)\n",
    "Marek.get_money(202)"
   ]
  },
  {
   "cell_type": "markdown",
   "metadata": {},
   "source": [
    "## hierarchia kont\n",
    "```\n",
    "Konto\n",
    "Konto <- KontoDebetowe\n",
    "Konto <- KontoOszczednosciowe\n",
    "KontoDebetowe i KontoOszczednosciowe <- KontoPremium\n",
    "```"
   ]
  },
  {
   "cell_type": "code",
   "execution_count": 18,
   "metadata": {},
   "outputs": [
    {
     "name": "stdout",
     "output_type": "stream",
     "text": [
      "Wlasciciel Pan/Pani/Oni/Xe: Kacper, bilans: 500\n",
      "Wlasciciel Pan/Pani/Oni/Xe: Kacper, bilans: 701\n",
      "Wlasciciel Pan/Pani/Oni/Xe: Kacper, bilans: -299\n",
      "Wlasciciel Pan/Pani/Oni/Xe: Kacper, bilans: -297\n"
     ]
    },
    {
     "ename": "AssertionError",
     "evalue": "U re broke my friend",
     "output_type": "error",
     "traceback": [
      "\u001b[0;31m---------------------------------------------------------------------------\u001b[0m",
      "\u001b[0;31mAssertionError\u001b[0m                            Traceback (most recent call last)",
      "\u001b[0;32m<ipython-input-18-8c5aaeff97b1>\u001b[0m in \u001b[0;36m<module>\u001b[0;34m\u001b[0m\n\u001b[1;32m     11\u001b[0m \u001b[0mkacper\u001b[0m\u001b[0;34m.\u001b[0m\u001b[0madd_money\u001b[0m\u001b[0;34m(\u001b[0m\u001b[0;36m1\u001b[0m\u001b[0;34m)\u001b[0m\u001b[0;34m\u001b[0m\u001b[0;34m\u001b[0m\u001b[0m\n\u001b[1;32m     12\u001b[0m \u001b[0mprint\u001b[0m\u001b[0;34m(\u001b[0m\u001b[0mkacper\u001b[0m\u001b[0;34m)\u001b[0m\u001b[0;34m\u001b[0m\u001b[0;34m\u001b[0m\u001b[0m\n\u001b[0;32m---> 13\u001b[0;31m \u001b[0mkacper\u001b[0m\u001b[0;34m.\u001b[0m\u001b[0mget_money\u001b[0m\u001b[0;34m(\u001b[0m\u001b[0;36m2000\u001b[0m\u001b[0;34m)\u001b[0m\u001b[0;34m\u001b[0m\u001b[0;34m\u001b[0m\u001b[0m\n\u001b[0m\u001b[1;32m     14\u001b[0m \u001b[0mprint\u001b[0m\u001b[0;34m(\u001b[0m\u001b[0mkacper\u001b[0m\u001b[0;34m)\u001b[0m\u001b[0;34m\u001b[0m\u001b[0;34m\u001b[0m\u001b[0m\n",
      "\u001b[0;32m<ipython-input-11-85d1ad8d8624>\u001b[0m in \u001b[0;36mget_money\u001b[0;34m(self, val)\u001b[0m\n\u001b[1;32m      3\u001b[0m \u001b[0;34m\u001b[0m\u001b[0m\n\u001b[1;32m      4\u001b[0m     \u001b[0;32mdef\u001b[0m \u001b[0mget_money\u001b[0m\u001b[0;34m(\u001b[0m\u001b[0mself\u001b[0m\u001b[0;34m,\u001b[0m \u001b[0mval\u001b[0m\u001b[0;34m)\u001b[0m\u001b[0;34m:\u001b[0m\u001b[0;34m\u001b[0m\u001b[0;34m\u001b[0m\u001b[0m\n\u001b[0;32m----> 5\u001b[0;31m         \u001b[0;32massert\u001b[0m \u001b[0mval\u001b[0m \u001b[0;34m<=\u001b[0m \u001b[0;34m(\u001b[0m\u001b[0mself\u001b[0m\u001b[0;34m.\u001b[0m\u001b[0mbilans\u001b[0m \u001b[0;34m+\u001b[0m \u001b[0mKontoDebetowe\u001b[0m\u001b[0;34m.\u001b[0m\u001b[0mdebet\u001b[0m\u001b[0;34m)\u001b[0m\u001b[0;34m,\u001b[0m \u001b[0;34m'U re broke my friend'\u001b[0m\u001b[0;34m\u001b[0m\u001b[0;34m\u001b[0m\u001b[0m\n\u001b[0m\u001b[1;32m      6\u001b[0m         \u001b[0mself\u001b[0m\u001b[0;34m.\u001b[0m\u001b[0madd_money\u001b[0m\u001b[0;34m(\u001b[0m\u001b[0;34m-\u001b[0m\u001b[0mval\u001b[0m\u001b[0;34m)\u001b[0m\u001b[0;34m\u001b[0m\u001b[0;34m\u001b[0m\u001b[0m\n\u001b[1;32m      7\u001b[0m \u001b[0;34m\u001b[0m\u001b[0m\n",
      "\u001b[0;31mAssertionError\u001b[0m: U re broke my friend"
     ]
    }
   ],
   "source": [
    "class KontoPremium(KontoDebetowe, KontoOszczednosciowe):\n",
    "    pass\n",
    "\n",
    "kacper = KontoPremium('Kacper', 500)\n",
    "\n",
    "print(kacper)\n",
    "kacper.add_money(200)\n",
    "print(kacper)\n",
    "kacper.get_money(1000)\n",
    "print(kacper)\n",
    "kacper.add_money(1)\n",
    "print(kacper)\n",
    "kacper.get_money(2000)\n",
    "print(kacper)"
   ]
  },
  {
   "cell_type": "code",
   "execution_count": 19,
   "metadata": {},
   "outputs": [
    {
     "data": {
      "text/plain": [
       "(__main__.KontoPremium,\n",
       " __main__.KontoDebetowe,\n",
       " __main__.KontoOszczednosciowe,\n",
       " __main__.Konto,\n",
       " object)"
      ]
     },
     "execution_count": 19,
     "metadata": {},
     "output_type": "execute_result"
    }
   ],
   "source": [
    "# Dziedzczenie konto Premium kolejnosc\n",
    "# Python rozwiazanie\n",
    "KontoPremium.__mro__"
   ]
  },
  {
   "cell_type": "code",
   "execution_count": 20,
   "metadata": {},
   "outputs": [],
   "source": [
    "# konto premium szuka najpeirw metod w Konto premium, jesli nie ma to szuka w konto Debetowe, \n",
    "# jesli nie ma to szuka w Konto Oszczednosciowe i jesli nie ma to szuka w Konto\n",
    "\n",
    "# linerazycja D3"
   ]
  },
  {
   "cell_type": "code",
   "execution_count": 21,
   "metadata": {},
   "outputs": [],
   "source": [
    "class A(object):\n",
    "    pass\n",
    "class B(A):\n",
    "    pass\n",
    "class C(A):\n",
    "    pass\n",
    "class D(B, C):\n",
    "    pass"
   ]
  },
  {
   "cell_type": "markdown",
   "metadata": {},
   "source": [
    "![diament](https://upload.wikimedia.org/wikipedia/commons/thumb/8/8e/Diamond_inheritance.svg/160px-Diamond_inheritance.svg.png)"
   ]
  },
  {
   "cell_type": "code",
   "execution_count": 22,
   "metadata": {},
   "outputs": [
    {
     "data": {
      "text/plain": [
       "(__main__.D, __main__.B, __main__.C, __main__.A, object)"
      ]
     },
     "execution_count": 22,
     "metadata": {},
     "output_type": "execute_result"
    }
   ],
   "source": [
    "D.__mro__"
   ]
  },
  {
   "cell_type": "code",
   "execution_count": 23,
   "metadata": {},
   "outputs": [
    {
     "data": {
      "text/plain": [
       "[__main__.D, __main__.B, __main__.C, __main__.A, object]"
      ]
     },
     "execution_count": 23,
     "metadata": {},
     "output_type": "execute_result"
    }
   ],
   "source": [
    "D.mro()"
   ]
  },
  {
   "cell_type": "code",
   "execution_count": null,
   "metadata": {},
   "outputs": [],
   "source": []
  }
 ],
 "metadata": {
  "kernelspec": {
   "display_name": "Python 3",
   "language": "python",
   "name": "python3"
  },
  "language_info": {
   "codemirror_mode": {
    "name": "ipython",
    "version": 3
   },
   "file_extension": ".py",
   "mimetype": "text/x-python",
   "name": "python",
   "nbconvert_exporter": "python",
   "pygments_lexer": "ipython3",
   "version": "3.7.3"
  }
 },
 "nbformat": 4,
 "nbformat_minor": 2
}
