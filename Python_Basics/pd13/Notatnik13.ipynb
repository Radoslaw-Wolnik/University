{
 "cells": [
  {
   "cell_type": "code",
   "execution_count": 18,
   "metadata": {},
   "outputs": [],
   "source": [
    "BD = [(266602, 'Asembler'), (236872, 'Basic'), (384392, 'Cobol'), (478236, 'Fortran'), (347298, 'Go')]"
   ]
  },
  {
   "cell_type": "code",
   "execution_count": 1,
   "metadata": {},
   "outputs": [],
   "source": [
    "class TH:\n",
    "    def __init__(self, m):\n",
    "        self.set_m(m)\n",
    "        self.zbuduj_lancuch()\n",
    "    \n",
    "    def set_m(self, var):\n",
    "        self.m = var\n",
    "        \n",
    "    def zbuduj_lancuch(self):\n",
    "        self.lancuch = [[] for _ in range(self.m)]\n",
    "    \n",
    "    def h(klucz, DLUGOSC):  # nie ma self!\n",
    "        return klucz % DLUGOSC\n",
    "    \n",
    "    def insert(self, klucz, wartosc):\n",
    "        idx_lancucha = __class__.h(klucz, self.m)\n",
    "        nowy_element = (klucz, wartosc)\n",
    "        self.lancuch[idx_lancucha].append(nowy_element)\n",
    "        \n",
    "    def __repr__(self):\n",
    "        r = ''\n",
    "        for el in self.lancuch:\n",
    "            r += str(el) + '\\n'\n",
    "        return r\n",
    "    \n",
    "    def __str__(self):\n",
    "        return self.__repr__()\n",
    "    \n",
    "# to nie dziala xd"
   ]
  },
  {
   "cell_type": "code",
   "execution_count": 2,
   "metadata": {},
   "outputs": [
    {
     "ename": "NameError",
     "evalue": "name 'BD' is not defined",
     "output_type": "error",
     "traceback": [
      "\u001b[0;31m---------------------------------------------------------------------------\u001b[0m",
      "\u001b[0;31mNameError\u001b[0m                                 Traceback (most recent call last)",
      "\u001b[0;32m<ipython-input-2-f0a4ca4a08e7>\u001b[0m in \u001b[0;36m<module>\u001b[0;34m\u001b[0m\n\u001b[1;32m      7\u001b[0m \u001b[0mlancuch_BD\u001b[0m \u001b[0;34m=\u001b[0m \u001b[0;34m[\u001b[0m\u001b[0;34m[\u001b[0m\u001b[0;34m]\u001b[0m \u001b[0;32mfor\u001b[0m \u001b[0m_\u001b[0m \u001b[0;32min\u001b[0m \u001b[0mrange\u001b[0m\u001b[0;34m(\u001b[0m\u001b[0mm\u001b[0m\u001b[0;34m)\u001b[0m\u001b[0;34m]\u001b[0m\u001b[0;34m\u001b[0m\u001b[0;34m\u001b[0m\u001b[0m\n\u001b[1;32m      8\u001b[0m \u001b[0;34m\u001b[0m\u001b[0m\n\u001b[0;32m----> 9\u001b[0;31m \u001b[0;32mfor\u001b[0m \u001b[0mk\u001b[0m\u001b[0;34m,\u001b[0m \u001b[0mnazwisko\u001b[0m \u001b[0;32min\u001b[0m \u001b[0mBD\u001b[0m \u001b[0;34m+\u001b[0m \u001b[0;34m[\u001b[0m\u001b[0;34m(\u001b[0m\u001b[0;36m126738\u001b[0m\u001b[0;34m,\u001b[0m \u001b[0;34m'Haskell'\u001b[0m\u001b[0;34m)\u001b[0m\u001b[0;34m,\u001b[0m \u001b[0;34m(\u001b[0m\u001b[0;36m671388\u001b[0m\u001b[0;34m,\u001b[0m \u001b[0;34m'Java'\u001b[0m\u001b[0;34m)\u001b[0m\u001b[0;34m]\u001b[0m\u001b[0;34m:\u001b[0m\u001b[0;34m\u001b[0m\u001b[0;34m\u001b[0m\u001b[0m\n\u001b[0m\u001b[1;32m     10\u001b[0m     \u001b[0mlancuch_BD\u001b[0m\u001b[0;34m[\u001b[0m\u001b[0mh\u001b[0m\u001b[0;34m(\u001b[0m\u001b[0mk\u001b[0m\u001b[0;34m,\u001b[0m \u001b[0mm\u001b[0m\u001b[0;34m)\u001b[0m\u001b[0;34m]\u001b[0m\u001b[0;34m.\u001b[0m\u001b[0mappend\u001b[0m\u001b[0;34m(\u001b[0m\u001b[0;34m(\u001b[0m\u001b[0mk\u001b[0m\u001b[0;34m,\u001b[0m \u001b[0mnazwisko\u001b[0m\u001b[0;34m)\u001b[0m\u001b[0;34m)\u001b[0m\u001b[0;34m\u001b[0m\u001b[0;34m\u001b[0m\u001b[0m\n",
      "\u001b[0;31mNameError\u001b[0m: name 'BD' is not defined"
     ]
    }
   ],
   "source": [
    "def h(klucz, m):\n",
    "    'zwraca numer lancucha'\n",
    "    return klucz % m\n",
    "\n",
    "# INSERT\n",
    "m = 9\n",
    "lancuch_BD = [[] for _ in range(m)]\n",
    "\n",
    "for k, nazwisko in BD + [(126738, 'Haskell'), (671388, 'Java')]:\n",
    "    lancuch_BD[h(k, m)].append((k, nazwisko))"
   ]
  },
  {
   "cell_type": "code",
   "execution_count": 3,
   "metadata": {},
   "outputs": [],
   "source": [
    "# SEARCH\n",
    "# 1. za pomocą h(k, m) zwracamy index łańcucha idx\n",
    "# 2. w łańcuchu idx wyszukujemy klucz\n",
    "\n",
    "klucz = 671388  # Java\n",
    "idx = h(klucz, m)  # O(1)\n",
    "lancuch = lancuch_BD[idx]\n",
    "\n",
    "for el in lancuch:  # O(alfa)  lub dla posortowanych łańcuchów O(log(alfa))\n",
    "    if el[0] == klucz:\n",
    "        print(el)  ### DELETE"
   ]
  },
  {
   "cell_type": "code",
   "execution_count": 22,
   "metadata": {},
   "outputs": [],
   "source": [
    "def h(k, m):\n",
    "    ' haszowanie modularne'\n",
    "    return k % m\n",
    "\n",
    "def insert (para, tablica):\n",
    "    m = len(tablica)\n",
    "    k, w"
   ]
  },
  {
   "cell_type": "markdown",
   "metadata": {},
   "source": [
    "$$h(klucz) = klucz \\% m$$\n",
    "$$h(klucz, proba) = klucz \\% m$$"
   ]
  },
  {
   "cell_type": "code",
   "execution_count": 23,
   "metadata": {},
   "outputs": [
    {
     "data": {
      "text/plain": [
       "0"
      ]
     },
     "execution_count": 23,
     "metadata": {},
     "output_type": "execute_result"
    }
   ],
   "source": [
    "m = 9\n",
    "klucz = 671388\n",
    "\n",
    "proba = 3\n",
    "(klucz % m + proba) % m"
   ]
  },
  {
   "cell_type": "code",
   "execution_count": 24,
   "metadata": {},
   "outputs": [],
   "source": [
    "# ------------------------------------------------------------------------------"
   ]
  },
  {
   "cell_type": "code",
   "execution_count": 25,
   "metadata": {},
   "outputs": [],
   "source": [
    "# Haszowanie łańcuchowe\n",
    "# TH <--- [\n",
    "#     [(klucz2, wartość2), (klucz3, wartość3)], \n",
    "#     [(klucz1, wartość1)], \n",
    "#     [], \n",
    "#     []\n",
    "#     ]"
   ]
  },
  {
   "cell_type": "code",
   "execution_count": 26,
   "metadata": {},
   "outputs": [],
   "source": [
    "def stworz_tablice(m):\n",
    "    return [None for _ in range(m)]\n",
    "\n",
    "ht = stworz_tablice(9)"
   ]
  },
  {
   "cell_type": "code",
   "execution_count": 27,
   "metadata": {},
   "outputs": [],
   "source": [
    "BD = [\n",
    "      (266602, 'Asembler'), (236872, 'Basic'), (384392, 'Cobol'), \n",
    "      (478236, 'Fortran'), (347298, 'Go'), (126738, 'Haskell')\n",
    "     ]"
   ]
  },
  {
   "cell_type": "code",
   "execution_count": 28,
   "metadata": {},
   "outputs": [],
   "source": [
    "# funkcja skrótu haszowanie modularne\n",
    "def h(k, m):\n",
    "    '''haszowanie modularne'''\n",
    "    return k % m\n",
    "\n",
    "def insert(para, tablica):\n",
    "    m = len(tablica)\n",
    "    key, val = para\n",
    "\n",
    "    idx = h(key, m)\n",
    "    if tablica[idx] == None:\n",
    "        tablica[idx] = para\n",
    "    else:\n",
    "        raise IndexError(f'Nie ma miejsca w {idx}')\n",
    "    \n",
    "    return idx\n"
   ]
  },
  {
   "cell_type": "code",
   "execution_count": 29,
   "metadata": {},
   "outputs": [
    {
     "data": {
      "text/plain": [
       "4"
      ]
     },
     "execution_count": 29,
     "metadata": {},
     "output_type": "execute_result"
    }
   ],
   "source": [
    "insert((266602, 'Asembler'), ht)"
   ]
  },
  {
   "cell_type": "code",
   "execution_count": 30,
   "metadata": {},
   "outputs": [],
   "source": [
    "for para in BD[1:]:\n",
    "    insert(para, ht)"
   ]
  },
  {
   "cell_type": "code",
   "execution_count": 31,
   "metadata": {},
   "outputs": [
    {
     "ename": "IndexError",
     "evalue": "Nie ma miejsca w 6",
     "output_type": "error",
     "traceback": [
      "\u001b[0;31m---------------------------------------------------------------------------\u001b[0m",
      "\u001b[0;31mIndexError\u001b[0m                                Traceback (most recent call last)",
      "\u001b[0;32m<ipython-input-31-e0165d59d454>\u001b[0m in \u001b[0;36m<module>\u001b[0;34m\u001b[0m\n\u001b[0;32m----> 1\u001b[0;31m \u001b[0minsert\u001b[0m\u001b[0;34m(\u001b[0m\u001b[0;34m(\u001b[0m\u001b[0;36m671388\u001b[0m\u001b[0;34m,\u001b[0m \u001b[0;34m'Java'\u001b[0m\u001b[0;34m)\u001b[0m\u001b[0;34m,\u001b[0m \u001b[0mht\u001b[0m\u001b[0;34m)\u001b[0m\u001b[0;34m\u001b[0m\u001b[0;34m\u001b[0m\u001b[0m\n\u001b[0m",
      "\u001b[0;32m<ipython-input-28-40787dc01236>\u001b[0m in \u001b[0;36minsert\u001b[0;34m(para, tablica)\u001b[0m\n\u001b[1;32m     12\u001b[0m         \u001b[0mtablica\u001b[0m\u001b[0;34m[\u001b[0m\u001b[0midx\u001b[0m\u001b[0;34m]\u001b[0m \u001b[0;34m=\u001b[0m \u001b[0mpara\u001b[0m\u001b[0;34m\u001b[0m\u001b[0;34m\u001b[0m\u001b[0m\n\u001b[1;32m     13\u001b[0m     \u001b[0;32melse\u001b[0m\u001b[0;34m:\u001b[0m\u001b[0;34m\u001b[0m\u001b[0;34m\u001b[0m\u001b[0m\n\u001b[0;32m---> 14\u001b[0;31m         \u001b[0;32mraise\u001b[0m \u001b[0mIndexError\u001b[0m\u001b[0;34m(\u001b[0m\u001b[0;34mf'Nie ma miejsca w {idx}'\u001b[0m\u001b[0;34m)\u001b[0m\u001b[0;34m\u001b[0m\u001b[0;34m\u001b[0m\u001b[0m\n\u001b[0m\u001b[1;32m     15\u001b[0m \u001b[0;34m\u001b[0m\u001b[0m\n\u001b[1;32m     16\u001b[0m     \u001b[0;32mreturn\u001b[0m \u001b[0midx\u001b[0m\u001b[0;34m\u001b[0m\u001b[0;34m\u001b[0m\u001b[0m\n",
      "\u001b[0;31mIndexError\u001b[0m: Nie ma miejsca w 6"
     ]
    }
   ],
   "source": [
    "insert((671388, 'Java'), ht)"
   ]
  },
  {
   "cell_type": "code",
   "execution_count": 32,
   "metadata": {},
   "outputs": [
    {
     "name": "stdout",
     "output_type": "stream",
     "text": [
      "(126738, 'Haskell')\n",
      "(236872, 'Basic')\n",
      "(384392, 'Cobol')\n",
      "(478236, 'Fortran')\n",
      "(266602, 'Asembler')\n",
      "None\n",
      "(347298, 'Go')\n",
      "None\n",
      "None\n"
     ]
    }
   ],
   "source": [
    "for el in ht:\n",
    "    print(el)"
   ]
  },
  {
   "cell_type": "code",
   "execution_count": 33,
   "metadata": {},
   "outputs": [],
   "source": [
    "# jest zajete miejsce dla klucz_Java % modul ale 3 inne są wolne\n",
    "# rozwiazywanie kolizji\n",
    "# opcja 1:\n",
    "# nie ma miejsca w tablicy dla Javy i sie nie zmiesci wiec nie zostanie do niej przypisane\n",
    "# opcja 2:\n",
    "# mozna zwiekszyc wielkosc tablicy tak aby Java sie w niej zmiescila\n",
    "# opcja 3:\n",
    "# mozna sprobowac wstawic Jave do elementow pustych - Adresowanie otwarte\n",
    "# jesli chcemy wstawic element do tablicy i nie mozemy tego zrobic poniewaz cos juz tam jest to adresowanie otwarte mowi: \n",
    "# sprobuj w innym miejscu\n",
    "# zeby to zrobic modyfiujemy funkcje haszujaca (funkcje skrotu)"
   ]
  },
  {
   "cell_type": "code",
   "execution_count": 34,
   "metadata": {},
   "outputs": [
    {
     "data": {
      "text/plain": [
       "6"
      ]
     },
     "execution_count": 34,
     "metadata": {},
     "output_type": "execute_result"
    }
   ],
   "source": [
    "# funkcja skrotu do tej pory:\n",
    "# idx = klucz % modul\n",
    "# to jest jednoargumentowa funkcja skrotu\n",
    "\n",
    "671388 % 9"
   ]
  },
  {
   "cell_type": "code",
   "execution_count": 35,
   "metadata": {},
   "outputs": [
    {
     "name": "stdout",
     "output_type": "stream",
     "text": [
      "6\n",
      "7\n",
      "8\n",
      "0\n",
      "1\n",
      "2\n",
      "3\n",
      "4\n",
      "5\n",
      "----------------------------------------\n",
      "6\n",
      "7\n",
      "8\n",
      "0\n",
      "1\n",
      "2\n",
      "3\n",
      "4\n",
      "5\n"
     ]
    }
   ],
   "source": [
    "# dwuargumentowa funkcja skrotu \n",
    "# idx = h(klucz, proba): return klucz%m ????\n",
    "\n",
    "m = 9\n",
    "h2args = lambda key, try_i, mod: (key+try_i) % mod\n",
    "h2args_zajecia = lambda key, try_i, mod: ( (key % mod) + try_i ) % mod\n",
    "\n",
    "for n in range(m):\n",
    "    x = h2args(671388, n, 9)\n",
    "    print(x)\n",
    "    \n",
    "print('-'*40)\n",
    "\n",
    "for n in range(m):\n",
    "    x = h2args_zajecia(671388, n, 9)\n",
    "    print(x)"
   ]
  },
  {
   "cell_type": "code",
   "execution_count": 36,
   "metadata": {},
   "outputs": [],
   "source": [
    "def h2(key, mod):\n",
    "    '''dwuargumentowa funkcja skrotu'''\n",
    "    sekwencja = []\n",
    "    for proba in range(mod):\n",
    "        sekwencja.append((key + proba) % mod)\n",
    "    return sekwencja\n",
    "\n",
    "\n",
    "def insert(para, tablica):\n",
    "    m = len(tablica)\n",
    "    key, val = para\n",
    "    \n",
    "    seq = h2(key, m)\n",
    "    \n",
    "    for idx in seq:\n",
    "        print(f'Just trying: {idx}')\n",
    "        if tablica[idx] == None:\n",
    "            tablica[idx] = para\n",
    "            return idx\n",
    "        \n",
    "    raise IndexError('Nie ma juz moiejsca w tablicy, sorry')"
   ]
  },
  {
   "cell_type": "code",
   "execution_count": 37,
   "metadata": {},
   "outputs": [
    {
     "name": "stdout",
     "output_type": "stream",
     "text": [
      "Just trying: 4\n",
      "Just trying: 1\n",
      "Just trying: 2\n",
      "Just trying: 3\n",
      "Just trying: 6\n",
      "Just trying: 0\n",
      "(126738, 'Haskell')\n",
      "(236872, 'Basic')\n",
      "(384392, 'Cobol')\n",
      "(478236, 'Fortran')\n",
      "(266602, 'Asembler')\n",
      "None\n",
      "(347298, 'Go')\n",
      "None\n",
      "None\n",
      "------------------------------\n",
      "Just trying: 6\n",
      "Just trying: 7\n",
      "(126738, 'Haskell')\n",
      "(236872, 'Basic')\n",
      "(384392, 'Cobol')\n",
      "(478236, 'Fortran')\n",
      "(266602, 'Asembler')\n",
      "None\n",
      "(347298, 'Go')\n",
      "(671388, 'Java')\n",
      "None\n"
     ]
    }
   ],
   "source": [
    "m = 9\n",
    "tb2 = [None for _ in range(m)]\n",
    "for pair in BD:\n",
    "    insert(pair, tb2)\n",
    "\n",
    "for el in tb2:\n",
    "    print(el)\n",
    "print('-'*30)\n",
    "\n",
    "insert((671388, 'Java'), tb2)\n",
    "for el in tb2:\n",
    "    print(el)"
   ]
  },
  {
   "cell_type": "code",
   "execution_count": 38,
   "metadata": {},
   "outputs": [],
   "source": [
    "# metoda lancuchowa jest bardzo powolna\n",
    "# Adresowanie otwarte ma srednio O(1) prdkosc\n",
    "# jesli w adresowaniu otwrtym nie ma juz miejsca w tablicy to powinnismy zrobic tablice wieksza * 2\n",
    "# przepisac wszystkie elementy z starej tablicy do nowej przeindeksowywyujac ( mod = len(list) )"
   ]
  },
  {
   "cell_type": "code",
   "execution_count": 77,
   "metadata": {},
   "outputs": [],
   "source": [
    "# Cwiczenie 1\n",
    "# zbuduj iterator w funkcji h2 tak zeby funkcja h2 nie byla sekwencja a iteratorem\n",
    "# time in: 37min 30s\n",
    "\n",
    "def h2(key, mod):\n",
    "    '''dwuargumentowa funkcja skrotu'''\n",
    "    sekwencja = []\n",
    "    for proba in range(mod):\n",
    "        sekwencja.append((key + proba) % mod)\n",
    "    return sekwencja\n",
    "\n",
    "def h2_iter(key, mod):\n",
    "    '''dwuargumentowa funkcja skrotu w formie iteratora'''\n",
    "    i = 0\n",
    "    while i < mod:\n",
    "        yield (key + i) % mod\n",
    "        i += 1\n",
    "\n",
    "\n",
    "#def insert(para, tablica):\n",
    "#    m = len(tablica)\n",
    "#    key, val = para\n",
    "#    \n",
    "#    idx = h2_iter(key, m)\n",
    "#    while idx != StopIteration:\n",
    "#        temp = next(idx)\n",
    "#        print(temp)\n",
    "#        if tablica[temp] == None:\n",
    "#            tablica[temp] = para\n",
    "#            return temp\n",
    "#        \n",
    "#    raise IndexError('Nie ma juz miejsca w tablicy, sorry')\n",
    "    \n",
    "def insert(para, tablica):\n",
    "    m = len(tablica)\n",
    "    key, val = para\n",
    "    \n",
    "    for idx in h2_iter(key, m):\n",
    "        print(idx)\n",
    "        if tablica[idx] == None:\n",
    "            tablica[idx] = para\n",
    "            return idx\n",
    "        \n",
    "    raise IndexError('Nie ma juz miejsca w tablicy')\n",
    "\n",
    "\n",
    "#k = h2_iter(126738, 9)\n",
    "#while True:\n",
    "#    temp = next(k)"
   ]
  },
  {
   "cell_type": "code",
   "execution_count": 78,
   "metadata": {},
   "outputs": [
    {
     "name": "stdout",
     "output_type": "stream",
     "text": [
      "4\n",
      "1\n",
      "2\n",
      "3\n",
      "6\n",
      "0\n",
      "(126738, 'Haskell')\n",
      "(236872, 'Basic')\n",
      "(384392, 'Cobol')\n",
      "(478236, 'Fortran')\n",
      "(266602, 'Asembler')\n",
      "None\n",
      "(347298, 'Go')\n",
      "None\n",
      "None\n",
      "------------------------------\n",
      "6\n",
      "7\n",
      "(126738, 'Haskell')\n",
      "(236872, 'Basic')\n",
      "(384392, 'Cobol')\n",
      "(478236, 'Fortran')\n",
      "(266602, 'Asembler')\n",
      "None\n",
      "(347298, 'Go')\n",
      "(671388, 'Java')\n",
      "None\n"
     ]
    }
   ],
   "source": [
    "m = 9\n",
    "tbi = [None for _ in range(m)]\n",
    "for pair in BD:\n",
    "    insert(pair, tbi)\n",
    "\n",
    "for el in tbi:\n",
    "    print(el)\n",
    "print('-'*30)\n",
    "\n",
    "insert((671388, 'Java'), tbi)\n",
    "for el in tbi:\n",
    "    print(el)"
   ]
  },
  {
   "cell_type": "code",
   "execution_count": 82,
   "metadata": {},
   "outputs": [
    {
     "name": "stdout",
     "output_type": "stream",
     "text": [
      "(126738, 'Haskell')\n",
      "(236872, 'Basic')\n",
      "(384392, 'Cobol')\n",
      "(478236, 'Fortran')\n",
      "(266602, 'Asembler')\n",
      "None\n",
      "(347298, 'Go')\n",
      "(671388, 'Java')\n",
      "None\n",
      "------------------------------\n",
      "None\n",
      "(236872, 'Basic')\n",
      "(384392, 'Cobol')\n",
      "(478236, 'Fortran')\n",
      "(266602, 'Asembler')\n",
      "None\n",
      "(347298, 'Go')\n",
      "(671388, 'Java')\n",
      "None\n",
      "------------------------------\n",
      "None\n",
      "(236872, 'Basic')\n",
      "(384392, 'Cobol')\n",
      "(478236, 'Fortran')\n",
      "(266602, 'Asembler')\n",
      "None\n",
      "(347298, 'Go')\n",
      "None\n",
      "None\n"
     ]
    }
   ],
   "source": [
    "# Cwiczenie 2\n",
    "# Napisz funkcję DELETE do powyższej tablicy haszujace\n",
    "\n",
    "def delete(key, table):\n",
    "    m = len(table)\n",
    "    \n",
    "    for idx in h2_iter(key, m):\n",
    "        if table[idx][0] == key:\n",
    "            table[idx] = None\n",
    "            return True\n",
    "        \n",
    "    raise IndexError('Nie ma elementu do usuniecia')\n",
    "    \n",
    "    \n",
    "for el in tbi:\n",
    "    print(el)\n",
    "print('-'*30)\n",
    "\n",
    "\n",
    "delete(126738, tbi)\n",
    "for el in tbi:\n",
    "    print(el)\n",
    "print('-'*30)\n",
    "\n",
    "delete(671388, tbi)\n",
    "for el in tbi:\n",
    "    print(el)"
   ]
  },
  {
   "cell_type": "code",
   "execution_count": 8,
   "metadata": {},
   "outputs": [],
   "source": [
    "# wrzuc wszytko do klasy coz it's easy\n",
    "\n",
    "def h2_iter(key, mod):\n",
    "    '''dwuargumentowa funkcja skrotu w formie iteratora'''\n",
    "    i = 0\n",
    "    while i < mod:\n",
    "        yield (key + i) % mod\n",
    "        i += 1\n",
    "        \n",
    "    \n",
    "class Tablica_haszujaca_adresowanie_otwarte():\n",
    "    '''Tablica haszujaca wykorzystujaca adresowanie otwarte i iterator jako funkcje skrotu'''\n",
    "    \n",
    "    def __init__(self, m):\n",
    "        self.set_m(m)\n",
    "        self.build()\n",
    "        \n",
    "    def set_m(self, m):\n",
    "        if type(m) == int:\n",
    "            self.m = m\n",
    "    \n",
    "    def get_m(self):\n",
    "        return self.m\n",
    "    \n",
    "    def build(self):\n",
    "        self.table = [None for _ in range(self.m)]\n",
    "        \n",
    "    def insert(self, para):\n",
    "        key, val = para\n",
    "        for idx in h2_iter(key, self.m):\n",
    "            if self.table[idx] == None:\n",
    "                self.table[idx] = para\n",
    "                return idx\n",
    "        raise IndexError('Nie ma juz miejsca w tablicy')\n",
    "        \n",
    "    def delete(self, key):\n",
    "        for idx in h2_iter(key, self.m):\n",
    "            if self.table[idx][0] == key:\n",
    "                self.table[idx] = None\n",
    "                return True\n",
    "        raise IndexError('Nie ma elementu do usuniecia')\n",
    "        \n",
    "        \n",
    "    def search(self, key):\n",
    "        for idx in h2_iter(key, self.m):\n",
    "            if self.table[idx] != None:\n",
    "                if self.table[idx][0] == key:\n",
    "                    return idx\n",
    "        raise IndexError('Nie ma takiego elementu')\n",
    "    \n",
    "    # nie moj kod\n",
    "    def __repr__(self):\n",
    "        r = ''\n",
    "        for el in self.table:\n",
    "            r += str(el) + '\\n'\n",
    "        return r\n",
    "    \n",
    "    def __str__(self):\n",
    "        return self.__repr__()"
   ]
  },
  {
   "cell_type": "code",
   "execution_count": 9,
   "metadata": {},
   "outputs": [
    {
     "name": "stdout",
     "output_type": "stream",
     "text": [
      "None\n",
      "(236872, 'Basic')\n",
      "(384392, 'Cobol')\n",
      "(478236, 'Fortran')\n",
      "(266602, 'Asembler')\n",
      "None\n",
      "(347298, 'Go')\n",
      "None\n",
      "None\n",
      "\n",
      "------------------------------\n",
      "None\n",
      "(236872, 'Basic')\n",
      "(384392, 'Cobol')\n",
      "(478236, 'Fortran')\n",
      "(266602, 'Asembler')\n",
      "None\n",
      "(347298, 'Go')\n",
      "(671388, 'Java')\n",
      "None\n",
      "\n",
      "------------------------------\n"
     ]
    },
    {
     "ename": "IndexError",
     "evalue": "Nie ma takiego elementu",
     "output_type": "error",
     "traceback": [
      "\u001b[0;31m---------------------------------------------------------------------------\u001b[0m",
      "\u001b[0;31mIndexError\u001b[0m                                Traceback (most recent call last)",
      "\u001b[0;32m<ipython-input-9-9a48522940ca>\u001b[0m in \u001b[0;36m<module>\u001b[0;34m\u001b[0m\n\u001b[1;32m     12\u001b[0m \u001b[0mprint\u001b[0m\u001b[0;34m(\u001b[0m\u001b[0;34m'-'\u001b[0m\u001b[0;34m*\u001b[0m\u001b[0;36m30\u001b[0m\u001b[0;34m)\u001b[0m\u001b[0;34m\u001b[0m\u001b[0;34m\u001b[0m\u001b[0m\n\u001b[1;32m     13\u001b[0m \u001b[0;34m\u001b[0m\u001b[0m\n\u001b[0;32m---> 14\u001b[0;31m \u001b[0mprint\u001b[0m\u001b[0;34m(\u001b[0m\u001b[0mob_table\u001b[0m\u001b[0;34m.\u001b[0m\u001b[0msearch\u001b[0m\u001b[0;34m(\u001b[0m\u001b[0;36m126738\u001b[0m\u001b[0;34m)\u001b[0m\u001b[0;34m)\u001b[0m\u001b[0;34m\u001b[0m\u001b[0;34m\u001b[0m\u001b[0m\n\u001b[0m\u001b[1;32m     15\u001b[0m \u001b[0mprint\u001b[0m\u001b[0;34m(\u001b[0m\u001b[0mob_table\u001b[0m\u001b[0;34m.\u001b[0m\u001b[0msearch\u001b[0m\u001b[0;34m(\u001b[0m\u001b[0;36m671388\u001b[0m\u001b[0;34m)\u001b[0m\u001b[0;34m)\u001b[0m\u001b[0;34m\u001b[0m\u001b[0;34m\u001b[0m\u001b[0m\n\u001b[1;32m     16\u001b[0m \u001b[0;34m\u001b[0m\u001b[0m\n",
      "\u001b[0;32m<ipython-input-8-52b3595bc251>\u001b[0m in \u001b[0;36msearch\u001b[0;34m(self, key)\u001b[0m\n\u001b[1;32m     47\u001b[0m                 \u001b[0;32mif\u001b[0m \u001b[0mself\u001b[0m\u001b[0;34m.\u001b[0m\u001b[0mtable\u001b[0m\u001b[0;34m[\u001b[0m\u001b[0midx\u001b[0m\u001b[0;34m]\u001b[0m\u001b[0;34m[\u001b[0m\u001b[0;36m0\u001b[0m\u001b[0;34m]\u001b[0m \u001b[0;34m==\u001b[0m \u001b[0mkey\u001b[0m\u001b[0;34m:\u001b[0m\u001b[0;34m\u001b[0m\u001b[0;34m\u001b[0m\u001b[0m\n\u001b[1;32m     48\u001b[0m                     \u001b[0;32mreturn\u001b[0m \u001b[0midx\u001b[0m\u001b[0;34m\u001b[0m\u001b[0;34m\u001b[0m\u001b[0m\n\u001b[0;32m---> 49\u001b[0;31m         \u001b[0;32mraise\u001b[0m \u001b[0mIndexError\u001b[0m\u001b[0;34m(\u001b[0m\u001b[0;34m'Nie ma takiego elementu'\u001b[0m\u001b[0;34m)\u001b[0m\u001b[0;34m\u001b[0m\u001b[0;34m\u001b[0m\u001b[0m\n\u001b[0m\u001b[1;32m     50\u001b[0m \u001b[0;34m\u001b[0m\u001b[0m\n\u001b[1;32m     51\u001b[0m     \u001b[0;31m# nie moj kod\u001b[0m\u001b[0;34m\u001b[0m\u001b[0;34m\u001b[0m\u001b[0;34m\u001b[0m\u001b[0m\n",
      "\u001b[0;31mIndexError\u001b[0m: Nie ma takiego elementu"
     ]
    }
   ],
   "source": [
    "BD = [(266602, 'Asembler'), (236872, 'Basic'), (384392, 'Cobol'), (478236, 'Fortran'), (347298, 'Go')]\n",
    "ob_table = Tablica_haszujaca_adresowanie_otwarte(9)\n",
    "for pair in BD:\n",
    "    ob_table.insert(pair)\n",
    "\n",
    "print(ob_table)\n",
    "print('-'*30)\n",
    "\n",
    "ob_table.insert((671388, 'Java'))\n",
    "print(ob_table)\n",
    "\n",
    "print('-'*30)\n",
    "\n",
    "print(ob_table.search(126738))\n",
    "print(ob_table.search(671388))\n",
    "\n",
    "print('-'*30)\n",
    "\n",
    "print(ob_table.delete(126738))\n",
    "print(ob_table.delete(671388))\n",
    "print()\n",
    "print(ob_table)"
   ]
  },
  {
   "cell_type": "code",
   "execution_count": null,
   "metadata": {},
   "outputs": [],
   "source": []
  }
 ],
 "metadata": {
  "kernelspec": {
   "display_name": "Python 3",
   "language": "python",
   "name": "python3"
  },
  "language_info": {
   "codemirror_mode": {
    "name": "ipython",
    "version": 3
   },
   "file_extension": ".py",
   "mimetype": "text/x-python",
   "name": "python",
   "nbconvert_exporter": "python",
   "pygments_lexer": "ipython3",
   "version": "3.7.3"
  }
 },
 "nbformat": 4,
 "nbformat_minor": 2
}
