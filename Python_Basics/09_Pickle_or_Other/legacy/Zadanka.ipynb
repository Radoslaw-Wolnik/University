{
 "cells": [
  {
   "cell_type": "code",
   "execution_count": 26,
   "metadata": {},
   "outputs": [
    {
     "name": "stdout",
     "output_type": "stream",
     "text": [
      "0.8660254037844386\n"
     ]
    }
   ],
   "source": [
    "# Wartości cos\n",
    "import math\n",
    "n = 500\n",
    "c = 1\n",
    "suma = 1\n",
    "x = math.radians(30)\n",
    "i = 1\n",
    "while i < n:\n",
    "    c = -c * ( (x**2) / (2*i* (2*i - 1) ) )\n",
    "    suma += c\n",
    "    i += 1\n",
    "    #if suma > 1:\n",
    "    #    suma = 1\n",
    "    #if suma < -1:\n",
    "    #    suma = -1\n",
    "print(suma)"
   ]
  },
  {
   "cell_type": "code",
   "execution_count": 18,
   "metadata": {},
   "outputs": [
    {
     "name": "stdout",
     "output_type": "stream",
     "text": [
      "0.862922161096\n",
      "0.8660538834157\n",
      "0.8660252641006\n",
      "0.8660254042104\n",
      "0.8660254037836\n",
      "0.8660254037844\n",
      "0.8660254037844\n",
      "0.8660254037844\n",
      "0.8660254037844\n",
      "0.8660254037844\n"
     ]
    }
   ],
   "source": [
    "import math\n",
    "class gen_iter:\n",
    "    \"\"\"Nieskończony Generator dla funkcji cos(x)\"\"\"\n",
    "\n",
    "    def __init__(self, x):\n",
    "        self.x = x\n",
    "        self.i = 1\n",
    "        self.score = 1\n",
    "        self.c = 1\n",
    "\n",
    "    def __iter__(self):\n",
    "        return self\n",
    "\n",
    "    def __next__(self):\n",
    "        \n",
    "        self.c = -self.c * ( (self.x**2) / (2 * self.i * (2 * self.i - 1)) )\n",
    "        self.score += self.c\n",
    "        \n",
    "        self.i += 1\n",
    "        \n",
    "        if self.score > 1:\n",
    "            return 1.0\n",
    "        if self.score < -1:\n",
    "            return -1.0\n",
    "\n",
    "        return round(self.score, 13)\n",
    "\n",
    "h = gen_iter(math.radians(30))\n",
    "\n",
    "for i in range(0, 1000, 100):\n",
    "    print(h.__next__())"
   ]
  },
  {
   "cell_type": "code",
   "execution_count": null,
   "metadata": {},
   "outputs": [],
   "source": []
  },
  {
   "cell_type": "code",
   "execution_count": null,
   "metadata": {},
   "outputs": [],
   "source": []
  },
  {
   "cell_type": "code",
   "execution_count": null,
   "metadata": {},
   "outputs": [],
   "source": []
  },
  {
   "cell_type": "code",
   "execution_count": null,
   "metadata": {},
   "outputs": [],
   "source": []
  },
  {
   "cell_type": "code",
   "execution_count": null,
   "metadata": {},
   "outputs": [],
   "source": []
  }
 ],
 "metadata": {
  "kernelspec": {
   "display_name": "Python 3",
   "language": "python",
   "name": "python3"
  },
  "language_info": {
   "codemirror_mode": {
    "name": "ipython",
    "version": 3
   },
   "file_extension": ".py",
   "mimetype": "text/x-python",
   "name": "python",
   "nbconvert_exporter": "python",
   "pygments_lexer": "ipython3",
   "version": "3.7.3"
  }
 },
 "nbformat": 4,
 "nbformat_minor": 2
}
