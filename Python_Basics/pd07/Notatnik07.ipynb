{
 "cells": [
  {
   "cell_type": "code",
   "execution_count": 56,
   "metadata": {},
   "outputs": [
    {
     "data": {
      "text/plain": [
       "'10.02.1912'"
      ]
     },
     "execution_count": 56,
     "metadata": {},
     "output_type": "execute_result"
    }
   ],
   "source": [
    "\n",
    "class Osoba():\n",
    "    '''docsting'''\n",
    "    \n",
    "    def __init__(self, nr_dowodu, pesel):\n",
    "        \n",
    "        self.pesel = pesel    # pierwszy sposob ustawiania pesela\n",
    "        self.set_pesel(pesel) # drugi sposob ustawiania pesela, lepszy dlatego, że sprawdza czy jest dobry\n",
    "                              # operowanie zewnetrznymi funkcjami pozwala na wieksza czytelnosc, wieksza kontrole nad danymi\n",
    "                              # podobno tak jest lepiej (programowanie defensywne)\n",
    "        self.set_data_wydania()\n",
    "        self.set_plec()\n",
    "        self.set_nr_dowodu(nr_dowodu)\n",
    "        self.set_data_urodzenia()\n",
    "        \n",
    "    def get_data_urodzenia(self): # kolejnosc get, set, get, set...\n",
    "        return self.data_urodzenia\n",
    "        \n",
    "    def set_data_urodzenia(self):\n",
    "        rok = int(self.pesel[:2])\n",
    "        miesiac = self.pesel[2:4]\n",
    "        dzien = self.pesel[4:6]\n",
    "        if miesiac[0] != '0' and miesiac[0] != '1':\n",
    "            rok += 2000\n",
    "            miesiac = (int(miesiac[0]) - 2)*10 + int(miesiac[1])\n",
    "            if miesiac < 10:\n",
    "                miesiac = '0' + str(miesiac)\n",
    "            else:\n",
    "                miesiac = str(miesiac)\n",
    "        else:\n",
    "            rok += 1900\n",
    "        temp = dzien + '.' + miesiac + '.' + str(rok)\n",
    "        self.data_urodzenia = temp\n",
    "\n",
    "        \n",
    "    def set_plec(self):\n",
    "        self.plec = 'K' if int(self.pesel[9]) %2 == 0 else 'M'\n",
    "        \n",
    "    def get_plec(self):\n",
    "        return self.plec \n",
    "        \n",
    "    def set_data_wydania(self):\n",
    "        self.data_wydania = self.pobierz_date()\n",
    "\n",
    "    def pobierz_date(self):\n",
    "        import datetime\n",
    "        return datetime.date.today()\n",
    "\n",
    "    def set_nr_dowodu(self, x):\n",
    "        self.numer_dowodu = x  \n",
    "        \n",
    "    def get_pesel(self):\n",
    "        return self.pesel\n",
    "    \n",
    "    def set_pesel(self, x):\n",
    "        assert isinstance(x, str), 'zly typ pesela, powinno byc str'\n",
    "        assert len(x) == 11, 'zla dlugosc pesela, powinno byc 11'\n",
    "        self.pesel = x\n",
    "\n",
    "    def get_data_wydania(self):\n",
    "        return self.data_wydania\n",
    "    \n",
    "    def set_nr_dowodu(self, x):\n",
    "        self.nr_dowodu = x\n",
    "\n",
    "    def get_nr_dowodu(self):\n",
    "        return self.nr_dowodu\n",
    "\n",
    "\n",
    "\n",
    "\n",
    "Marek = Osoba('ADF034', '12021080221')\n",
    "Marek.get_data_urodzenia()"
   ]
  },
  {
   "cell_type": "code",
   "execution_count": null,
   "metadata": {},
   "outputs": [],
   "source": []
  }
 ],
 "metadata": {
  "kernelspec": {
   "display_name": "Python 3",
   "language": "python",
   "name": "python3"
  },
  "language_info": {
   "codemirror_mode": {
    "name": "ipython",
    "version": 3
   },
   "file_extension": ".py",
   "mimetype": "text/x-python",
   "name": "python",
   "nbconvert_exporter": "python",
   "pygments_lexer": "ipython3",
   "version": "3.7.3"
  }
 },
 "nbformat": 4,
 "nbformat_minor": 2
}
