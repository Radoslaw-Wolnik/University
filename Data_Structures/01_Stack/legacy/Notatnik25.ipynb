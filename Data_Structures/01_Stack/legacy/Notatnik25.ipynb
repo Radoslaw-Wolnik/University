{
 "cells": [
  {
   "cell_type": "code",
   "execution_count": 1,
   "id": "d44a99f2",
   "metadata": {},
   "outputs": [],
   "source": [
    "class Stack:\n",
    "    def __init__(self):\n",
    "        self.start()\n",
    "    \n",
    "    def start(self):\n",
    "        self.structure = []\n",
    "            \n",
    "    def add(self, val):\n",
    "        assert isinstance(val, (str, int, float)), \"This element can't be in Stack\\nU can add str, int or float\"\n",
    "        self.structure.append(val)\n",
    "    \n",
    "    def get(self):\n",
    "        if self.is_empty():\n",
    "            return 'Stack is empty'\n",
    "        return self.structure.pop()\n",
    "    \n",
    "    def peak(self):\n",
    "        if self.is_empty():\n",
    "            return 'Stack is empty'\n",
    "        return self.structure[-1]\n",
    "            \n",
    "    def __str__(self):\n",
    "        return str(self.structure)\n",
    "    \n",
    "    def is_empty(self):\n",
    "        if len(self.structure) == 0:\n",
    "            return True\n",
    "        else:\n",
    "            return False"
   ]
  },
  {
   "cell_type": "code",
   "execution_count": 2,
   "id": "a8c2ba2b",
   "metadata": {},
   "outputs": [
    {
     "data": {
      "text/plain": [
       "900.0"
      ]
     },
     "execution_count": 2,
     "metadata": {},
     "output_type": "execute_result"
    }
   ],
   "source": [
    "# zadanie 1\n",
    "# \"20 10 + 75 45 - *\"\n",
    "# \n",
    "# \n",
    "def count_postfix(exp):\n",
    "    operators = ['+', '-', '*', '/']\n",
    "    Res = Stack()\n",
    "    exp = exp.split()\n",
    "    \n",
    "    for el in exp:\n",
    "        if el in operators and Res.is_empty() == False:\n",
    "            b = Res.get()\n",
    "            a = Res.get()\n",
    "            if el == '+':\n",
    "                a = a + b\n",
    "            elif el == '-':\n",
    "                a = a - b\n",
    "            elif el == '/':\n",
    "                a = a/b\n",
    "            elif el == '*':\n",
    "                a = a*b\n",
    "            Res.add(a)\n",
    "        \n",
    "        else:\n",
    "            Res.add(float(el))\n",
    "            \n",
    "    return Res.get()\n",
    "    \n",
    "    \n",
    "x = \"20 10 + 75 45 - *\"\n",
    "count_postfix(x)"
   ]
  },
  {
   "cell_type": "code",
   "execution_count": 3,
   "id": "f9b5fb30",
   "metadata": {},
   "outputs": [
    {
     "name": "stdout",
     "output_type": "stream",
     "text": [
      "10 2 + \n",
      "10 2 + 3 * \n",
      "10 2 + 2 3 + * \n"
     ]
    }
   ],
   "source": [
    "# zadanie 2\n",
    "def infix_to_postfix(exp):\n",
    "    operators = ['+', '-', '*', '/']\n",
    "    res = ''\n",
    "    Stos = Stack()\n",
    "    exp = exp.split(' ')\n",
    "    for element in exp:\n",
    "        if element == '(':\n",
    "            pass\n",
    "            # nothing?\n",
    "            \n",
    "        elif element == ')':\n",
    "            if Stos.is_empty() == False:\n",
    "                res += Stos.get() + ' '\n",
    "                \n",
    "        elif element in operators:\n",
    "            Stos.add(element)\n",
    "            \n",
    "        else:\n",
    "            res += element + ' '\n",
    "            \n",
    "    return res\n",
    "\n",
    "x = '( 10 + 2 )'\n",
    "y = '( ( 10 + 2 ) * 3 )'\n",
    "z = '( ( 10 + 2 ) * ( 2 + 3 ) )'\n",
    "print(infix_to_postfix(x))\n",
    "print(infix_to_postfix(y))\n",
    "print(infix_to_postfix(z))"
   ]
  },
  {
   "cell_type": "code",
   "execution_count": 4,
   "id": "842f0bba",
   "metadata": {},
   "outputs": [
    {
     "name": "stdout",
     "output_type": "stream",
     "text": [
      "(10+2)\n",
      "((10+2)*3)\n",
      "((10+2)*(2+3))\n"
     ]
    }
   ],
   "source": [
    "# zadanie 3\n",
    "def PostfixtoInfix(exp):\n",
    "    operators = ['+', '-', '*', '/']\n",
    "    Stos = Stack()\n",
    "    exp = exp.split(' ')[:-1]\n",
    "    for element in exp:\n",
    "        if element in operators:\n",
    "            b = Stos.get()\n",
    "            a = Stos.get()\n",
    "            Stos.add('(' + a + element + b + ')')\n",
    "        else:\n",
    "            Stos.add(element)\n",
    "    return Stos.get()\n",
    "            \n",
    "x = '10 2 + '\n",
    "y = '10 2 + 3 * '\n",
    "z = '10 2 + 2 3 + * '\n",
    "print(PostfixtoInfix(x))\n",
    "print(PostfixtoInfix(y))\n",
    "print(PostfixtoInfix(z))"
   ]
  },
  {
   "cell_type": "code",
   "execution_count": 15,
   "id": "a9049ab3",
   "metadata": {},
   "outputs": [
    {
     "data": {
      "text/plain": [
       "-189.0"
      ]
     },
     "execution_count": 15,
     "metadata": {},
     "output_type": "execute_result"
    }
   ],
   "source": [
    "# zadanie 4\n",
    "\n",
    "def Infix_nawiasy_eval(exp):\n",
    "    operators = ['+', '-', '*', '/']\n",
    "    Res = Stack()\n",
    "    exp = exp.split()\n",
    "    \n",
    "    for el in exp:\n",
    "        if el == '(':\n",
    "            pass\n",
    "        elif el in operators:\n",
    "            Res.add(el)\n",
    "        elif el == ')':\n",
    "            b = Res.get()\n",
    "            operation = Res.get()\n",
    "            a = Res.get()\n",
    "            if operation == '+':\n",
    "                a = a + b\n",
    "            elif operation == '-':\n",
    "                a = a - b\n",
    "            elif operation == '/':\n",
    "                a = a/b\n",
    "            elif operation == '*':\n",
    "                a = a*b\n",
    "            Res.add(a)\n",
    "        \n",
    "        else:\n",
    "            Res.add(float(el))\n",
    "            \n",
    "    return Res.get()\n",
    "Try = '( 11 + ( ( 22 + 3 ) * ( 44 - 52 ) ) )' # -189\n",
    "Infix_nawiasy_eval(Try)"
   ]
  }
 ],
 "metadata": {
  "kernelspec": {
   "display_name": "Python 3 (ipykernel)",
   "language": "python",
   "name": "python3"
  },
  "language_info": {
   "codemirror_mode": {
    "name": "ipython",
    "version": 3
   },
   "file_extension": ".py",
   "mimetype": "text/x-python",
   "name": "python",
   "nbconvert_exporter": "python",
   "pygments_lexer": "ipython3",
   "version": "3.9.5"
  }
 },
 "nbformat": 4,
 "nbformat_minor": 5
}
